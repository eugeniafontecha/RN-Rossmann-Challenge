{
 "cells": [
  {
   "cell_type": "markdown",
   "metadata": {},
   "source": [
    "# Rossmann Challenge - Modelo"
   ]
  },
  {
   "cell_type": "markdown",
   "metadata": {
    "tags": []
   },
   "source": [
    "## 0. Entorno de ejecución\n",
    "* pip install pandas\n",
    "* pip install pandas_summary\n",
    "* pip install matplotlib\n",
    "* pip install pyarrow\n",
    "* pip install tensorflow"
   ]
  },
  {
   "cell_type": "code",
   "execution_count": 1,
   "metadata": {},
   "outputs": [],
   "source": [
    "from tensorflow.compat.v1 import ConfigProto\n",
    "from tensorflow.compat.v1 import InteractiveSession\n",
    "config = ConfigProto()\n",
    "config.gpu_options.allow_growth = True\n",
    "session = InteractiveSession(config=config)\n",
    "import pandas as pd\n",
    "import numpy as np\n",
    "import datetime\n",
    "from pandas_summary import DataFrameSummary\n",
    "from tensorflow.keras.utils import to_categorical"
   ]
  },
  {
   "cell_type": "code",
   "execution_count": 4,
   "metadata": {},
   "outputs": [],
   "source": [
    "df = pd.read_feather('train_normalized_data.fth')\n",
    "df_test = pd.read_feather('test_normalized_data.fth')"
   ]
  },
  {
   "cell_type": "markdown",
   "metadata": {},
   "source": [
    "## 1. Selección de variables"
   ]
  },
  {
   "cell_type": "markdown",
   "metadata": {},
   "source": [
    "Seleccionamos las variables para utilizar en el modelo. No vamos a utilizar la información de googletrend."
   ]
  },
  {
   "cell_type": "markdown",
   "metadata": {},
   "source": [
    "**Variables categóricas**"
   ]
  },
  {
   "cell_type": "code",
   "execution_count": 5,
   "metadata": {},
   "outputs": [],
   "source": [
    "cat_vars = ['Store', 'DayOfWeek', 'Year', 'Month', 'Day', 'StateHoliday', 'CompetitionMonthsOpen', 'Promo2Weeks', \n",
    "            'StoreType', 'Assortment', 'PromoInterval', 'CompetitionOpenSinceYear', 'Promo2SinceYear', 'State', \n",
    "            'Week', 'Events', 'Promo_fw', 'Promo_bw', 'StateHoliday_bool_fw', 'StateHoliday_bool_bw', 'SchoolHoliday_fw', 'SchoolHoliday_bw']\n",
    "\n",
    "#cat_vars = ['Store', 'DayOfWeek']"
   ]
  },
  {
   "cell_type": "code",
   "execution_count": 7,
   "metadata": {},
   "outputs": [],
   "source": [
    "uniques = DataFrameSummary(df[cat_vars]).summary().loc[['uniques']]"
   ]
  },
  {
   "cell_type": "code",
   "execution_count": 8,
   "metadata": {},
   "outputs": [
    {
     "data": {
      "text/html": [
       "<div>\n",
       "<style scoped>\n",
       "    .dataframe tbody tr th:only-of-type {\n",
       "        vertical-align: middle;\n",
       "    }\n",
       "\n",
       "    .dataframe tbody tr th {\n",
       "        vertical-align: top;\n",
       "    }\n",
       "\n",
       "    .dataframe thead th {\n",
       "        text-align: right;\n",
       "    }\n",
       "</style>\n",
       "<table border=\"1\" class=\"dataframe\">\n",
       "  <thead>\n",
       "    <tr style=\"text-align: right;\">\n",
       "      <th></th>\n",
       "      <th>uniques</th>\n",
       "    </tr>\n",
       "  </thead>\n",
       "  <tbody>\n",
       "    <tr>\n",
       "      <th>Store</th>\n",
       "      <td>1115</td>\n",
       "    </tr>\n",
       "    <tr>\n",
       "      <th>DayOfWeek</th>\n",
       "      <td>7</td>\n",
       "    </tr>\n",
       "    <tr>\n",
       "      <th>Year</th>\n",
       "      <td>3</td>\n",
       "    </tr>\n",
       "    <tr>\n",
       "      <th>Month</th>\n",
       "      <td>12</td>\n",
       "    </tr>\n",
       "    <tr>\n",
       "      <th>Day</th>\n",
       "      <td>31</td>\n",
       "    </tr>\n",
       "    <tr>\n",
       "      <th>StateHoliday</th>\n",
       "      <td>4</td>\n",
       "    </tr>\n",
       "    <tr>\n",
       "      <th>CompetitionMonthsOpen</th>\n",
       "      <td>25</td>\n",
       "    </tr>\n",
       "    <tr>\n",
       "      <th>Promo2Weeks</th>\n",
       "      <td>26</td>\n",
       "    </tr>\n",
       "    <tr>\n",
       "      <th>StoreType</th>\n",
       "      <td>4</td>\n",
       "    </tr>\n",
       "    <tr>\n",
       "      <th>Assortment</th>\n",
       "      <td>3</td>\n",
       "    </tr>\n",
       "    <tr>\n",
       "      <th>PromoInterval</th>\n",
       "      <td>4</td>\n",
       "    </tr>\n",
       "    <tr>\n",
       "      <th>CompetitionOpenSinceYear</th>\n",
       "      <td>21</td>\n",
       "    </tr>\n",
       "    <tr>\n",
       "      <th>Promo2SinceYear</th>\n",
       "      <td>8</td>\n",
       "    </tr>\n",
       "    <tr>\n",
       "      <th>State</th>\n",
       "      <td>12</td>\n",
       "    </tr>\n",
       "    <tr>\n",
       "      <th>Week</th>\n",
       "      <td>52</td>\n",
       "    </tr>\n",
       "    <tr>\n",
       "      <th>Events</th>\n",
       "      <td>22</td>\n",
       "    </tr>\n",
       "    <tr>\n",
       "      <th>Promo_fw</th>\n",
       "      <td>6</td>\n",
       "    </tr>\n",
       "    <tr>\n",
       "      <th>Promo_bw</th>\n",
       "      <td>6</td>\n",
       "    </tr>\n",
       "    <tr>\n",
       "      <th>StateHoliday_bool_fw</th>\n",
       "      <td>3</td>\n",
       "    </tr>\n",
       "    <tr>\n",
       "      <th>StateHoliday_bool_bw</th>\n",
       "      <td>3</td>\n",
       "    </tr>\n",
       "    <tr>\n",
       "      <th>SchoolHoliday_fw</th>\n",
       "      <td>8</td>\n",
       "    </tr>\n",
       "    <tr>\n",
       "      <th>SchoolHoliday_bw</th>\n",
       "      <td>8</td>\n",
       "    </tr>\n",
       "  </tbody>\n",
       "</table>\n",
       "</div>"
      ],
      "text/plain": [
       "                         uniques\n",
       "Store                       1115\n",
       "DayOfWeek                      7\n",
       "Year                           3\n",
       "Month                         12\n",
       "Day                           31\n",
       "StateHoliday                   4\n",
       "CompetitionMonthsOpen         25\n",
       "Promo2Weeks                   26\n",
       "StoreType                      4\n",
       "Assortment                     3\n",
       "PromoInterval                  4\n",
       "CompetitionOpenSinceYear      21\n",
       "Promo2SinceYear                8\n",
       "State                         12\n",
       "Week                          52\n",
       "Events                        22\n",
       "Promo_fw                       6\n",
       "Promo_bw                       6\n",
       "StateHoliday_bool_fw           3\n",
       "StateHoliday_bool_bw           3\n",
       "SchoolHoliday_fw               8\n",
       "SchoolHoliday_bw               8"
      ]
     },
     "execution_count": 8,
     "metadata": {},
     "output_type": "execute_result"
    }
   ],
   "source": [
    "uniques.T"
   ]
  },
  {
   "cell_type": "markdown",
   "metadata": {},
   "source": [
    "**Variables continuas**"
   ]
  },
  {
   "cell_type": "code",
   "execution_count": 6,
   "metadata": {},
   "outputs": [],
   "source": [
    "contin_vars = ['CompetitionDistance', \n",
    "   'Max_TemperatureC', 'Mean_TemperatureC', 'Min_TemperatureC', 'Precipitationmm',\n",
    "   'Max_Humidity', 'Mean_Humidity', 'Min_Humidity', 'Max_Wind_SpeedKm_h', \n",
    "   'Mean_Wind_SpeedKm_h', 'CloudCover', 'trend', 'trend_DE',\n",
    "   'AfterStateHoliday_bool', 'BeforeStateHoliday_bool', 'Promo', 'SchoolHoliday', 'StateHoliday_bool']\n",
    "#contin_vars = ['BeforeStateHoliday_bool', 'Max_TemperatureC']"
   ]
  },
  {
   "cell_type": "markdown",
   "metadata": {},
   "source": [
    "## 2. Asignación de dimensión de embeddings"
   ]
  },
  {
   "cell_type": "markdown",
   "metadata": {},
   "source": [
    "Asignamos la dimensión de los embeddings para las distintas variables categóricas"
   ]
  },
  {
   "cell_type": "code",
   "execution_count": 9,
   "metadata": {},
   "outputs": [],
   "source": [
    "cat_var_dict = {'Store': 50, 'DayOfWeek': 2, 'Year': 2, 'Month': 2,\n",
    "'Day': 10, 'StateHoliday': 2, 'CompetitionMonthsOpen': 2,\n",
    "'Promo2Weeks': 1, 'StoreType': 2, 'Assortment': 3, 'PromoInterval': 3,\n",
    "'CompetitionOpenSinceYear': 4, 'Promo2SinceYear': 4, 'State': 6,\n",
    "'Week': 25, 'Events': 4, 'Promo_fw': 1,\n",
    "'Promo_bw': 1, 'StateHoliday_bool_fw': 1,\n",
    "'StateHoliday_bool_bw': 1, 'SchoolHoliday_fw': 1,\n",
    "'SchoolHoliday_bw': 1}"
   ]
  },
  {
   "cell_type": "code",
   "execution_count": 10,
   "metadata": {},
   "outputs": [
    {
     "name": "stdout",
     "output_type": "stream",
     "text": [
      "Store 50 1115 [   0    1    2 ... 1112 1113 1114]\n",
      "\n",
      "DayOfWeek 2 7 [0 1 2 3 4 5 6]\n",
      "\n",
      "Year 2 3 [0 1 2]\n",
      "\n",
      "Month 2 12 [ 0  1  2  3  4  5  6  7  8  9 10 11]\n",
      "\n",
      "Day 10 31 [ 0  1  2  3  4  5  6  7  8  9 10 11 12 13 14 15 16 17 18 19 20 21 22 23\n",
      " 24 25 26 27 28 29 30]\n",
      "\n",
      "StateHoliday 2 4 [0 1 2 3]\n",
      "\n",
      "CompetitionMonthsOpen 2 25 [ 0  1  2  3  4  5  6  7  8  9 10 11 12 13 14 15 16 17 18 19 20 21 22 23\n",
      " 24]\n",
      "\n",
      "Promo2Weeks 1 26 [ 0  1  2  3  4  5  6  7  8  9 10 11 12 13 14 15 16 17 18 19 20 21 22 23\n",
      " 24 25]\n",
      "\n",
      "StoreType 2 4 [0 1 2 3]\n",
      "\n",
      "Assortment 3 3 [0 1 2]\n",
      "\n",
      "PromoInterval 3 4 [0 1 2 3]\n",
      "\n",
      "CompetitionOpenSinceYear 4 21 [ 0  1  2  3  4  5  6  7  8  9 10 11 12 13 14 15 16 17 18 19 20]\n",
      "\n",
      "Promo2SinceYear 4 8 [0 1 2 3 4 5 6 7]\n",
      "\n",
      "State 6 12 [ 0  1  2  3  4  5  6  7  8  9 10 11]\n",
      "\n",
      "Week 25 52 [ 0  1  2  3  4  5  6  7  8  9 10 11 12 13 14 15 16 17 18 19 20 21 22 23\n",
      " 24 25 26 27 28 29 30 31 32 33 34 35 36 37 38 39 40 41 42 43 44 45 46 47\n",
      " 48 49 50 51]\n",
      "\n",
      "Events 4 22 [ 0  1  2  3  4  5  6  7  8  9 10 11 12 13 14 15 16 17 18 19 20 21]\n",
      "\n",
      "Promo_fw 1 6 [0 1 2 3 4 5]\n",
      "\n",
      "Promo_bw 1 6 [0 1 2 3 4 5]\n",
      "\n",
      "StateHoliday_bool_fw 1 3 [0 1 2]\n",
      "\n",
      "StateHoliday_bool_bw 1 3 [0 1 2]\n",
      "\n",
      "SchoolHoliday_fw 1 8 [0 1 2 3 4 5 6 7]\n",
      "\n",
      "SchoolHoliday_bw 1 8 [0 1 2 3 4 5 6 7]\n",
      "\n"
     ]
    }
   ],
   "source": [
    "for v in cat_vars:\n",
    "    uniques_ = df[v].unique()\n",
    "    uniques_.sort()\n",
    "    print(v, cat_var_dict[v], len(uniques_), uniques_)\n",
    "    print()"
   ]
  },
  {
   "cell_type": "markdown",
   "metadata": {},
   "source": [
    "## 3. Definición de modelo"
   ]
  },
  {
   "cell_type": "markdown",
   "metadata": {},
   "source": [
    "Usaremos la información de 'Customers' poniéndola como output en el entrenamiento. De esta forma aportará un parámetro extra en la regularización del modelo.\n",
    "En la capa de salida la activación es lineal"
   ]
  },
  {
   "cell_type": "code",
   "execution_count": 11,
   "metadata": {},
   "outputs": [],
   "source": [
    "add_customers = True\n",
    "log_output = False\n",
    "output_activation = 'linear'"
   ]
  },
  {
   "cell_type": "code",
   "execution_count": 12,
   "metadata": {},
   "outputs": [],
   "source": [
    "from tensorflow.keras.models import Model\n",
    "from tensorflow.keras.callbacks import ModelCheckpoint\n",
    "from tensorflow.keras.optimizers import Adam\n",
    "from tensorflow.keras.layers import Embedding, Input, Flatten, Concatenate, Dense, BatchNormalization, Activation, LeakyReLU, Dropout\n",
    "from tensorflow.keras.regularizers import l2"
   ]
  },
  {
   "cell_type": "markdown",
   "metadata": {},
   "source": [
    "Definimos los inputs del modelo. En el caso de las variables categóricas, generamos los vectores de embedding."
   ]
  },
  {
   "cell_type": "code",
   "execution_count": 14,
   "metadata": {},
   "outputs": [],
   "source": [
    "def get_cat_vars_model(cat_vars, uniques, cat_var_dict):\n",
    "    cat_vars_embed_outs = []\n",
    "    cat_var_inputs = []\n",
    "    for cat_var in cat_vars:\n",
    "        cat_var_in = Input(shape=(1,), name=f\"{cat_var}_input\")\n",
    "        cat_var_inputs.append(cat_var_in)\n",
    "        embed_out = Embedding(uniques[cat_var][0], cat_var_dict[cat_var], name=f'{cat_var}_Embed')(cat_var_in)\n",
    "        flatten_out = Flatten(name=f\"{cat_var}_flat\")(embed_out)\n",
    "        cat_vars_embed_outs.append(flatten_out)\n",
    "    return cat_var_inputs, cat_vars_embed_outs\n",
    "\n",
    "def get_cont_vars_input(contin_vars, dense_layer=False):\n",
    "    cont_vars_inputs = []\n",
    "    cont_vars_outputs = []\n",
    "    for cont_var in contin_vars:\n",
    "        cont_var_in = Input(shape=(1,), name=f\"{cont_var}_input\")\n",
    "        cont_vars_inputs.append(cont_var_in)\n",
    "        if dense_layer:\n",
    "            cont_var_out = Dense(1, name=f\"{cont_var}_input\", activation = 'linear')(cont_var_in)\n",
    "            cont_vars_outputs.append(cont_var_out)\n",
    "        else:\n",
    "            cont_vars_outputs.append(cont_var_in)\n",
    "    return cont_vars_inputs, cont_vars_outputs"
   ]
  },
  {
   "cell_type": "code",
   "execution_count": 15,
   "metadata": {},
   "outputs": [],
   "source": [
    "cat_var_inputs, cat_vars_embed_outs = get_cat_vars_model(cat_vars, uniques, cat_var_dict)\n",
    "cont_vars_inputs,  cont_vars_outs= get_cont_vars_input(contin_vars)"
   ]
  },
  {
   "cell_type": "markdown",
   "metadata": {},
   "source": [
    "Inicializamos el modelo. Dos capas ocultas: una con 1000 neuronas y otra con 500, y ambas con función de activación relu."
   ]
  },
  {
   "cell_type": "code",
   "execution_count": 19,
   "metadata": {},
   "outputs": [],
   "source": [
    "first_hidden_units = 1000\n",
    "second_hidden_units = 500\n",
    "l2_lambda = 1e-3\n",
    "merged = Concatenate(name='All_Concatenate')(cat_vars_embed_outs + cont_vars_inputs)\n",
    "x = Dense(first_hidden_units, kernel_initializer=\"uniform\", kernel_regularizer=l2(l2_lambda))(merged)\n",
    "# x = BatchNormalization()(x)\n",
    "x = Activation('relu')(x)\n",
    "# x = LeakyReLU()(x)\n",
    "x = Dense(second_hidden_units, kernel_initializer=\"uniform\", kernel_regularizer=l2(l2_lambda))(x)\n",
    "# x = BatchNormalization()(x)\n",
    "x = Activation('relu')(x)\n",
    "# x = LeakyReLU()(x)\n",
    "\n",
    "output_1 = Dense(1, name='Sales', activation=output_activation)(x)\n",
    "output_2 = Dense(1, name='Customers', activation=output_activation)(x)"
   ]
  },
  {
   "cell_type": "code",
   "execution_count": 20,
   "metadata": {},
   "outputs": [],
   "source": [
    "if add_customers:\n",
    "    model = Model(cat_var_inputs + cont_vars_inputs, [output_1, output_2])\n",
    "else: \n",
    "    model = Model(cat_var_inputs + cont_vars_inputs, [output_1])"
   ]
  },
  {
   "cell_type": "code",
   "execution_count": 21,
   "metadata": {},
   "outputs": [
    {
     "name": "stdout",
     "output_type": "stream",
     "text": [
      "Model: \"model\"\n",
      "__________________________________________________________________________________________________\n",
      " Layer (type)                   Output Shape         Param #     Connected to                     \n",
      "==================================================================================================\n",
      " Store_input (InputLayer)       [(None, 1)]          0           []                               \n",
      "                                                                                                  \n",
      " DayOfWeek_input (InputLayer)   [(None, 1)]          0           []                               \n",
      "                                                                                                  \n",
      " Year_input (InputLayer)        [(None, 1)]          0           []                               \n",
      "                                                                                                  \n",
      " Month_input (InputLayer)       [(None, 1)]          0           []                               \n",
      "                                                                                                  \n",
      " Day_input (InputLayer)         [(None, 1)]          0           []                               \n",
      "                                                                                                  \n",
      " StateHoliday_input (InputLayer  [(None, 1)]         0           []                               \n",
      " )                                                                                                \n",
      "                                                                                                  \n",
      " CompetitionMonthsOpen_input (I  [(None, 1)]         0           []                               \n",
      " nputLayer)                                                                                       \n",
      "                                                                                                  \n",
      " Promo2Weeks_input (InputLayer)  [(None, 1)]         0           []                               \n",
      "                                                                                                  \n",
      " StoreType_input (InputLayer)   [(None, 1)]          0           []                               \n",
      "                                                                                                  \n",
      " Assortment_input (InputLayer)  [(None, 1)]          0           []                               \n",
      "                                                                                                  \n",
      " PromoInterval_input (InputLaye  [(None, 1)]         0           []                               \n",
      " r)                                                                                               \n",
      "                                                                                                  \n",
      " CompetitionOpenSinceYear_input  [(None, 1)]         0           []                               \n",
      "  (InputLayer)                                                                                    \n",
      "                                                                                                  \n",
      " Promo2SinceYear_input (InputLa  [(None, 1)]         0           []                               \n",
      " yer)                                                                                             \n",
      "                                                                                                  \n",
      " State_input (InputLayer)       [(None, 1)]          0           []                               \n",
      "                                                                                                  \n",
      " Week_input (InputLayer)        [(None, 1)]          0           []                               \n",
      "                                                                                                  \n",
      " Events_input (InputLayer)      [(None, 1)]          0           []                               \n",
      "                                                                                                  \n",
      " Promo_fw_input (InputLayer)    [(None, 1)]          0           []                               \n",
      "                                                                                                  \n",
      " Promo_bw_input (InputLayer)    [(None, 1)]          0           []                               \n",
      "                                                                                                  \n",
      " StateHoliday_bool_fw_input (In  [(None, 1)]         0           []                               \n",
      " putLayer)                                                                                        \n",
      "                                                                                                  \n",
      " StateHoliday_bool_bw_input (In  [(None, 1)]         0           []                               \n",
      " putLayer)                                                                                        \n",
      "                                                                                                  \n",
      " SchoolHoliday_fw_input (InputL  [(None, 1)]         0           []                               \n",
      " ayer)                                                                                            \n",
      "                                                                                                  \n",
      " SchoolHoliday_bw_input (InputL  [(None, 1)]         0           []                               \n",
      " ayer)                                                                                            \n",
      "                                                                                                  \n",
      " Store_Embed (Embedding)        (None, 1, 50)        55750       ['Store_input[0][0]']            \n",
      "                                                                                                  \n",
      " DayOfWeek_Embed (Embedding)    (None, 1, 2)         14          ['DayOfWeek_input[0][0]']        \n",
      "                                                                                                  \n",
      " Year_Embed (Embedding)         (None, 1, 2)         6           ['Year_input[0][0]']             \n",
      "                                                                                                  \n",
      " Month_Embed (Embedding)        (None, 1, 2)         24          ['Month_input[0][0]']            \n",
      "                                                                                                  \n",
      " Day_Embed (Embedding)          (None, 1, 10)        310         ['Day_input[0][0]']              \n",
      "                                                                                                  \n",
      " StateHoliday_Embed (Embedding)  (None, 1, 2)        8           ['StateHoliday_input[0][0]']     \n",
      "                                                                                                  \n",
      " CompetitionMonthsOpen_Embed (E  (None, 1, 2)        50          ['CompetitionMonthsOpen_input[0][\n",
      " mbedding)                                                       0]']                             \n",
      "                                                                                                  \n",
      " Promo2Weeks_Embed (Embedding)  (None, 1, 1)         26          ['Promo2Weeks_input[0][0]']      \n",
      "                                                                                                  \n",
      " StoreType_Embed (Embedding)    (None, 1, 2)         8           ['StoreType_input[0][0]']        \n",
      "                                                                                                  \n",
      " Assortment_Embed (Embedding)   (None, 1, 3)         9           ['Assortment_input[0][0]']       \n",
      "                                                                                                  \n",
      " PromoInterval_Embed (Embedding  (None, 1, 3)        12          ['PromoInterval_input[0][0]']    \n",
      " )                                                                                                \n",
      "                                                                                                  \n",
      " CompetitionOpenSinceYear_Embed  (None, 1, 4)        84          ['CompetitionOpenSinceYear_input[\n",
      "  (Embedding)                                                    0][0]']                          \n",
      "                                                                                                  \n",
      " Promo2SinceYear_Embed (Embeddi  (None, 1, 4)        32          ['Promo2SinceYear_input[0][0]']  \n",
      " ng)                                                                                              \n",
      "                                                                                                  \n",
      " State_Embed (Embedding)        (None, 1, 6)         72          ['State_input[0][0]']            \n",
      "                                                                                                  \n",
      " Week_Embed (Embedding)         (None, 1, 25)        1300        ['Week_input[0][0]']             \n",
      "                                                                                                  \n",
      " Events_Embed (Embedding)       (None, 1, 4)         88          ['Events_input[0][0]']           \n",
      "                                                                                                  \n",
      " Promo_fw_Embed (Embedding)     (None, 1, 1)         6           ['Promo_fw_input[0][0]']         \n",
      "                                                                                                  \n",
      " Promo_bw_Embed (Embedding)     (None, 1, 1)         6           ['Promo_bw_input[0][0]']         \n",
      "                                                                                                  \n",
      " StateHoliday_bool_fw_Embed (Em  (None, 1, 1)        3           ['StateHoliday_bool_fw_input[0][0\n",
      " bedding)                                                        ]']                              \n",
      "                                                                                                  \n",
      " StateHoliday_bool_bw_Embed (Em  (None, 1, 1)        3           ['StateHoliday_bool_bw_input[0][0\n",
      " bedding)                                                        ]']                              \n",
      "                                                                                                  \n",
      " SchoolHoliday_fw_Embed (Embedd  (None, 1, 1)        8           ['SchoolHoliday_fw_input[0][0]'] \n",
      " ing)                                                                                             \n",
      "                                                                                                  \n",
      " SchoolHoliday_bw_Embed (Embedd  (None, 1, 1)        8           ['SchoolHoliday_bw_input[0][0]'] \n",
      " ing)                                                                                             \n",
      "                                                                                                  \n",
      " Store_flat (Flatten)           (None, 50)           0           ['Store_Embed[0][0]']            \n",
      "                                                                                                  \n",
      " DayOfWeek_flat (Flatten)       (None, 2)            0           ['DayOfWeek_Embed[0][0]']        \n",
      "                                                                                                  \n",
      " Year_flat (Flatten)            (None, 2)            0           ['Year_Embed[0][0]']             \n",
      "                                                                                                  \n",
      " Month_flat (Flatten)           (None, 2)            0           ['Month_Embed[0][0]']            \n",
      "                                                                                                  \n",
      " Day_flat (Flatten)             (None, 10)           0           ['Day_Embed[0][0]']              \n",
      "                                                                                                  \n",
      " StateHoliday_flat (Flatten)    (None, 2)            0           ['StateHoliday_Embed[0][0]']     \n",
      "                                                                                                  \n",
      " CompetitionMonthsOpen_flat (Fl  (None, 2)           0           ['CompetitionMonthsOpen_Embed[0][\n",
      " atten)                                                          0]']                             \n",
      "                                                                                                  \n",
      " Promo2Weeks_flat (Flatten)     (None, 1)            0           ['Promo2Weeks_Embed[0][0]']      \n",
      "                                                                                                  \n",
      " StoreType_flat (Flatten)       (None, 2)            0           ['StoreType_Embed[0][0]']        \n",
      "                                                                                                  \n",
      " Assortment_flat (Flatten)      (None, 3)            0           ['Assortment_Embed[0][0]']       \n",
      "                                                                                                  \n",
      " PromoInterval_flat (Flatten)   (None, 3)            0           ['PromoInterval_Embed[0][0]']    \n",
      "                                                                                                  \n",
      " CompetitionOpenSinceYear_flat   (None, 4)           0           ['CompetitionOpenSinceYear_Embed[\n",
      " (Flatten)                                                       0][0]']                          \n",
      "                                                                                                  \n",
      " Promo2SinceYear_flat (Flatten)  (None, 4)           0           ['Promo2SinceYear_Embed[0][0]']  \n",
      "                                                                                                  \n",
      " State_flat (Flatten)           (None, 6)            0           ['State_Embed[0][0]']            \n",
      "                                                                                                  \n",
      " Week_flat (Flatten)            (None, 25)           0           ['Week_Embed[0][0]']             \n",
      "                                                                                                  \n",
      " Events_flat (Flatten)          (None, 4)            0           ['Events_Embed[0][0]']           \n",
      "                                                                                                  \n",
      " Promo_fw_flat (Flatten)        (None, 1)            0           ['Promo_fw_Embed[0][0]']         \n",
      "                                                                                                  \n",
      " Promo_bw_flat (Flatten)        (None, 1)            0           ['Promo_bw_Embed[0][0]']         \n",
      "                                                                                                  \n",
      " StateHoliday_bool_fw_flat (Fla  (None, 1)           0           ['StateHoliday_bool_fw_Embed[0][0\n",
      " tten)                                                           ]']                              \n",
      "                                                                                                  \n",
      " StateHoliday_bool_bw_flat (Fla  (None, 1)           0           ['StateHoliday_bool_bw_Embed[0][0\n",
      " tten)                                                           ]']                              \n",
      "                                                                                                  \n",
      " SchoolHoliday_fw_flat (Flatten  (None, 1)           0           ['SchoolHoliday_fw_Embed[0][0]'] \n",
      " )                                                                                                \n",
      "                                                                                                  \n",
      " SchoolHoliday_bw_flat (Flatten  (None, 1)           0           ['SchoolHoliday_bw_Embed[0][0]'] \n",
      " )                                                                                                \n",
      "                                                                                                  \n",
      " CompetitionDistance_input (Inp  [(None, 1)]         0           []                               \n",
      " utLayer)                                                                                         \n",
      "                                                                                                  \n",
      " Max_TemperatureC_input (InputL  [(None, 1)]         0           []                               \n",
      " ayer)                                                                                            \n",
      "                                                                                                  \n",
      " Mean_TemperatureC_input (Input  [(None, 1)]         0           []                               \n",
      " Layer)                                                                                           \n",
      "                                                                                                  \n",
      " Min_TemperatureC_input (InputL  [(None, 1)]         0           []                               \n",
      " ayer)                                                                                            \n",
      "                                                                                                  \n",
      " Precipitationmm_input (InputLa  [(None, 1)]         0           []                               \n",
      " yer)                                                                                             \n",
      "                                                                                                  \n",
      " Max_Humidity_input (InputLayer  [(None, 1)]         0           []                               \n",
      " )                                                                                                \n",
      "                                                                                                  \n",
      " Mean_Humidity_input (InputLaye  [(None, 1)]         0           []                               \n",
      " r)                                                                                               \n",
      "                                                                                                  \n",
      " Min_Humidity_input (InputLayer  [(None, 1)]         0           []                               \n",
      " )                                                                                                \n",
      "                                                                                                  \n",
      " Max_Wind_SpeedKm_h_input (Inpu  [(None, 1)]         0           []                               \n",
      " tLayer)                                                                                          \n",
      "                                                                                                  \n",
      " Mean_Wind_SpeedKm_h_input (Inp  [(None, 1)]         0           []                               \n",
      " utLayer)                                                                                         \n",
      "                                                                                                  \n",
      " CloudCover_input (InputLayer)  [(None, 1)]          0           []                               \n",
      "                                                                                                  \n",
      " trend_input (InputLayer)       [(None, 1)]          0           []                               \n",
      "                                                                                                  \n",
      " trend_DE_input (InputLayer)    [(None, 1)]          0           []                               \n",
      "                                                                                                  \n",
      " AfterStateHoliday_bool_input (  [(None, 1)]         0           []                               \n",
      " InputLayer)                                                                                      \n",
      "                                                                                                  \n",
      " BeforeStateHoliday_bool_input   [(None, 1)]         0           []                               \n",
      " (InputLayer)                                                                                     \n",
      "                                                                                                  \n",
      " Promo_input (InputLayer)       [(None, 1)]          0           []                               \n",
      "                                                                                                  \n",
      " SchoolHoliday_input (InputLaye  [(None, 1)]         0           []                               \n",
      " r)                                                                                               \n",
      "                                                                                                  \n",
      " StateHoliday_bool_input (Input  [(None, 1)]         0           []                               \n",
      " Layer)                                                                                           \n",
      "                                                                                                  \n",
      " All_Concatenate (Concatenate)  (None, 146)          0           ['Store_flat[0][0]',             \n",
      "                                                                  'DayOfWeek_flat[0][0]',         \n",
      "                                                                  'Year_flat[0][0]',              \n",
      "                                                                  'Month_flat[0][0]',             \n",
      "                                                                  'Day_flat[0][0]',               \n",
      "                                                                  'StateHoliday_flat[0][0]',      \n",
      "                                                                  'CompetitionMonthsOpen_flat[0][0\n",
      "                                                                 ]',                              \n",
      "                                                                  'Promo2Weeks_flat[0][0]',       \n",
      "                                                                  'StoreType_flat[0][0]',         \n",
      "                                                                  'Assortment_flat[0][0]',        \n",
      "                                                                  'PromoInterval_flat[0][0]',     \n",
      "                                                                  'CompetitionOpenSinceYear_flat[0\n",
      "                                                                 ][0]',                           \n",
      "                                                                  'Promo2SinceYear_flat[0][0]',   \n",
      "                                                                  'State_flat[0][0]',             \n",
      "                                                                  'Week_flat[0][0]',              \n",
      "                                                                  'Events_flat[0][0]',            \n",
      "                                                                  'Promo_fw_flat[0][0]',          \n",
      "                                                                  'Promo_bw_flat[0][0]',          \n",
      "                                                                  'StateHoliday_bool_fw_flat[0][0]\n",
      "                                                                 ',                               \n",
      "                                                                  'StateHoliday_bool_bw_flat[0][0]\n",
      "                                                                 ',                               \n",
      "                                                                  'SchoolHoliday_fw_flat[0][0]',  \n",
      "                                                                  'SchoolHoliday_bw_flat[0][0]',  \n",
      "                                                                  'CompetitionDistance_input[0][0]\n",
      "                                                                 ',                               \n",
      "                                                                  'Max_TemperatureC_input[0][0]', \n",
      "                                                                  'Mean_TemperatureC_input[0][0]',\n",
      "                                                                  'Min_TemperatureC_input[0][0]', \n",
      "                                                                  'Precipitationmm_input[0][0]',  \n",
      "                                                                  'Max_Humidity_input[0][0]',     \n",
      "                                                                  'Mean_Humidity_input[0][0]',    \n",
      "                                                                  'Min_Humidity_input[0][0]',     \n",
      "                                                                  'Max_Wind_SpeedKm_h_input[0][0]'\n",
      "                                                                 , 'Mean_Wind_SpeedKm_h_input[0][0\n",
      "                                                                 ]',                              \n",
      "                                                                  'CloudCover_input[0][0]',       \n",
      "                                                                  'trend_input[0][0]',            \n",
      "                                                                  'trend_DE_input[0][0]',         \n",
      "                                                                  'AfterStateHoliday_bool_input[0]\n",
      "                                                                 [0]',                            \n",
      "                                                                  'BeforeStateHoliday_bool_input[0\n",
      "                                                                 ][0]',                           \n",
      "                                                                  'Promo_input[0][0]',            \n",
      "                                                                  'SchoolHoliday_input[0][0]',    \n",
      "                                                                  'StateHoliday_bool_input[0][0]']\n",
      "                                                                                                  \n",
      " dense_2 (Dense)                (None, 1000)         147000      ['All_Concatenate[0][0]']        \n",
      "                                                                                                  \n",
      " activation_2 (Activation)      (None, 1000)         0           ['dense_2[0][0]']                \n",
      "                                                                                                  \n",
      " dense_3 (Dense)                (None, 500)          500500      ['activation_2[0][0]']           \n",
      "                                                                                                  \n",
      " activation_3 (Activation)      (None, 500)          0           ['dense_3[0][0]']                \n",
      "                                                                                                  \n",
      " Sales (Dense)                  (None, 1)            501         ['activation_3[0][0]']           \n",
      "                                                                                                  \n",
      " Customers (Dense)              (None, 1)            501         ['activation_3[0][0]']           \n",
      "                                                                                                  \n",
      "==================================================================================================\n",
      "Total params: 706,329\n",
      "Trainable params: 706,329\n",
      "Non-trainable params: 0\n",
      "__________________________________________________________________________________________________\n"
     ]
    }
   ],
   "source": [
    "# Descomentar para ver\n",
    "model.summary()"
   ]
  },
  {
   "cell_type": "code",
   "execution_count": 22,
   "metadata": {},
   "outputs": [],
   "source": [
    "model.save_weights('initial_weights.hdf5')"
   ]
  },
  {
   "cell_type": "markdown",
   "metadata": {},
   "source": [
    "## 4. Dividimos en train y val "
   ]
  },
  {
   "cell_type": "code",
   "execution_count": 24,
   "metadata": {},
   "outputs": [
    {
     "name": "stdout",
     "output_type": "stream",
     "text": [
      "Cantidad en val: 30188, porcentaje: 0.9642465458145908\n"
     ]
    }
   ],
   "source": [
    "df_train = df[df.Date < datetime.datetime(2015, 7, 1)]  \n",
    "df_val = df[df.Date >= datetime.datetime(2015, 7, 1)]\n",
    "print(f'Cantidad en val: {len(df_val)}, porcentaje: {len(df_train)/(len(df_train) + len(df_val))}')"
   ]
  },
  {
   "cell_type": "code",
   "execution_count": 30,
   "metadata": {},
   "outputs": [],
   "source": [
    "stores_mean = {}\n",
    "for store, g_df in df_train.groupby('Store'):\n",
    "    stores_mean[store] = g_df[g_df['Sales'] > 0]['Sales'].mean()"
   ]
  },
  {
   "cell_type": "markdown",
   "metadata": {},
   "source": [
    "Restamos la media de ventas por tienda"
   ]
  },
  {
   "cell_type": "code",
   "execution_count": 31,
   "metadata": {},
   "outputs": [
    {
     "name": "stderr",
     "output_type": "stream",
     "text": [
      "C:\\Users\\Marcos\\AnacondA\\lib\\site-packages\\pandas\\core\\indexing.py:1597: SettingWithCopyWarning: \n",
      "A value is trying to be set on a copy of a slice from a DataFrame.\n",
      "Try using .loc[row_indexer,col_indexer] = value instead\n",
      "\n",
      "See the caveats in the documentation: https://pandas.pydata.org/pandas-docs/stable/user_guide/indexing.html#returning-a-view-versus-a-copy\n",
      "  self.obj[key] = value\n",
      "C:\\Users\\Marcos\\AnacondA\\lib\\site-packages\\pandas\\core\\indexing.py:1676: SettingWithCopyWarning: \n",
      "A value is trying to be set on a copy of a slice from a DataFrame.\n",
      "Try using .loc[row_indexer,col_indexer] = value instead\n",
      "\n",
      "See the caveats in the documentation: https://pandas.pydata.org/pandas-docs/stable/user_guide/indexing.html#returning-a-view-versus-a-copy\n",
      "  self._setitem_single_column(ilocs[0], value, pi)\n"
     ]
    }
   ],
   "source": [
    "df_train.loc[:, 'mean_by_store'] = df_train['Store'].apply(stores_mean.get)\n",
    "df_val.loc[:, 'mean_by_store'] = df_val['Store'].apply(stores_mean.get)\n",
    "\n",
    "df_train.loc[:, 'Sales_store'] = df_train['Sales'] - df_train['mean_by_store']\n",
    "df_val.loc[:, 'Sales_store'] = df_val['Sales'] - df_val['mean_by_store']"
   ]
  },
  {
   "cell_type": "code",
   "execution_count": 32,
   "metadata": {},
   "outputs": [],
   "source": [
    "from tensorflow.keras import backend as K"
   ]
  },
  {
   "cell_type": "markdown",
   "metadata": {},
   "source": [
    "Definimos funciones para las métricas. RMSE"
   ]
  },
  {
   "cell_type": "code",
   "execution_count": 33,
   "metadata": {},
   "outputs": [],
   "source": [
    "def rmspe(y_true, y_pred):\n",
    "    return K.sqrt(K.mean(K.square((y_true - y_pred)/y_true)))"
   ]
  },
  {
   "cell_type": "code",
   "execution_count": 34,
   "metadata": {},
   "outputs": [],
   "source": [
    "def get_metric(df, sales_):\n",
    "    return np.sqrt((((df['Sales'] - sales_)/df['Sales'])**2).mean())"
   ]
  },
  {
   "cell_type": "markdown",
   "metadata": {},
   "source": [
    "Calculamos el error en validación suponiendo que la predicción es la media de ventas de cada tienda."
   ]
  },
  {
   "cell_type": "code",
   "execution_count": 35,
   "metadata": {},
   "outputs": [
    {
     "data": {
      "text/plain": [
       "0.30717460853388645"
      ]
     },
     "execution_count": 35,
     "metadata": {},
     "output_type": "execute_result"
    }
   ],
   "source": [
    "get_metric(df_val, df_val['mean_by_store'])"
   ]
  },
  {
   "cell_type": "markdown",
   "metadata": {},
   "source": [
    "Nos quedamos con las variables predictoras (X)"
   ]
  },
  {
   "cell_type": "code",
   "execution_count": 38,
   "metadata": {},
   "outputs": [],
   "source": [
    "all_vars = cat_vars + contin_vars\n",
    "X_train = np.hsplit(df_train[all_vars].values, len(all_vars))\n",
    "X_val = np.hsplit(df_val[all_vars].values, len(all_vars))\n",
    "X_test = np.hsplit(df_test[all_vars].values, len(all_vars))"
   ]
  },
  {
   "cell_type": "markdown",
   "metadata": {},
   "source": [
    "Guardamos en y las variables a predecir. Además dividimos los df por el valor máximo de cada variables respuesta en train. Y además guardamos ese valor para luego utilizarlo en la predicción final."
   ]
  },
  {
   "cell_type": "code",
   "execution_count": 39,
   "metadata": {},
   "outputs": [],
   "source": [
    "if add_customers:\n",
    "    y_out_columns = ['Sales', 'Customers']\n",
    "else:\n",
    "    y_out_columns = ['Sales_store']\n",
    "    \n",
    "if log_output:\n",
    "    # Escala logaritmica\n",
    "    max_log_y = np.max(np.log(df[y_out_columns])).values\n",
    "    y_train = np.log(df_train[y_out_columns].values)/max_log_y\n",
    "    y_val = np.log(df_val[y_out_columns].values)/max_log_y\n",
    "else:\n",
    "    # Normalización\n",
    "#     y_mean = df_train[y_out_columns].mean().values\n",
    "#     y_std = df_train[y_out_columns].std().values\n",
    "#     y_train = (df_train[y_out_columns].values - y_mean)/y_std\n",
    "#     y_val = (df_val[y_out_columns].values - y_mean)/y_std\n",
    "    y_max = df_train[y_out_columns].max().values\n",
    "    y_train = df_train[y_out_columns].values/y_max\n",
    "    y_val = df_val[y_out_columns].values/y_max\n",
    "y_train = np.hsplit(y_train, y_train.shape[1])\n",
    "y_val = np.hsplit(y_val, y_val.shape[1])"
   ]
  },
  {
   "cell_type": "markdown",
   "metadata": {},
   "source": [
    "## 5. Entrenamos el modelo"
   ]
  },
  {
   "cell_type": "code",
   "execution_count": 40,
   "metadata": {},
   "outputs": [
    {
     "name": "stderr",
     "output_type": "stream",
     "text": [
      "C:\\Users\\Marcos\\AnacondA\\lib\\site-packages\\keras\\optimizer_v2\\adam.py:105: UserWarning: The `lr` argument is deprecated, use `learning_rate` instead.\n",
      "  super(Adam, self).__init__(name, **kwargs)\n"
     ]
    }
   ],
   "source": [
    "lr = 0.001\n",
    "model.compile(optimizer=Adam(lr=lr), metrics=['mse', rmspe], loss='mse')"
   ]
  },
  {
   "cell_type": "code",
   "execution_count": 41,
   "metadata": {},
   "outputs": [],
   "source": [
    "if add_customers:\n",
    "    checkpoint = ModelCheckpoint('bestmodel.hdf5', monitor='val_Sales_mse', verbose=1, save_best_only=True)\n",
    "else:\n",
    "    checkpoint = ModelCheckpoint('bestmodel.hdf5', monitor='val_loss', verbose=1, save_best_only=True)"
   ]
  },
  {
   "cell_type": "markdown",
   "metadata": {},
   "source": [
    "Seteamos un batch_size de 256 y 20 épocas."
   ]
  },
  {
   "cell_type": "code",
   "execution_count": 42,
   "metadata": {},
   "outputs": [
    {
     "name": "stdout",
     "output_type": "stream",
     "text": [
      "Epoch 1/20\n",
      "\n",
      "Epoch 00001: val_Sales_mse improved from inf to 0.00080, saving model to bestmodel.hdf5\n",
      "3181/3181 - 96s - loss: 0.0116 - Sales_loss: 0.0013 - Customers_loss: 6.8527e-04 - Sales_mse: 0.0013 - Sales_rmspe: 0.2671 - Customers_mse: 6.8527e-04 - Customers_rmspe: 0.2699 - val_loss: 0.0014 - val_Sales_loss: 8.0292e-04 - val_Customers_loss: 3.0810e-04 - val_Sales_mse: 8.0292e-04 - val_Sales_rmspe: 0.1841 - val_Customers_mse: 3.0810e-04 - val_Customers_rmspe: 0.1866 - 96s/epoch - 30ms/step\n",
      "Epoch 2/20\n",
      "\n",
      "Epoch 00002: val_Sales_mse improved from 0.00080 to 0.00070, saving model to bestmodel.hdf5\n",
      "3181/3181 - 99s - loss: 0.0014 - Sales_loss: 7.9308e-04 - Customers_loss: 2.8261e-04 - Sales_mse: 7.9308e-04 - Sales_rmspe: 0.2143 - Customers_mse: 2.8261e-04 - Customers_rmspe: 0.2000 - val_loss: 0.0012 - val_Sales_loss: 6.9543e-04 - val_Customers_loss: 2.1695e-04 - val_Sales_mse: 6.9543e-04 - val_Sales_rmspe: 0.1541 - val_Customers_mse: 2.1695e-04 - val_Customers_rmspe: 0.1387 - 99s/epoch - 31ms/step\n",
      "Epoch 3/20\n",
      "\n",
      "Epoch 00003: val_Sales_mse did not improve from 0.00070\n",
      "3181/3181 - 118s - loss: 0.0011 - Sales_loss: 6.5705e-04 - Customers_loss: 2.2864e-04 - Sales_mse: 6.5705e-04 - Sales_rmspe: 0.1862 - Customers_mse: 2.2864e-04 - Customers_rmspe: 0.1703 - val_loss: 0.0012 - val_Sales_loss: 7.1242e-04 - val_Customers_loss: 2.4927e-04 - val_Sales_mse: 7.1242e-04 - val_Sales_rmspe: 0.1569 - val_Customers_mse: 2.4927e-04 - val_Customers_rmspe: 0.1449 - 118s/epoch - 37ms/step\n",
      "Epoch 4/20\n",
      "\n",
      "Epoch 00004: val_Sales_mse improved from 0.00070 to 0.00065, saving model to bestmodel.hdf5\n",
      "3181/3181 - 86s - loss: 0.0010 - Sales_loss: 6.0295e-04 - Customers_loss: 2.1015e-04 - Sales_mse: 6.0295e-04 - Sales_rmspe: 0.1789 - Customers_mse: 2.1015e-04 - Customers_rmspe: 0.1629 - val_loss: 0.0010 - val_Sales_loss: 6.5459e-04 - val_Customers_loss: 2.0672e-04 - val_Sales_mse: 6.5459e-04 - val_Sales_rmspe: 0.1605 - val_Customers_mse: 2.0672e-04 - val_Customers_rmspe: 0.1341 - 86s/epoch - 27ms/step\n",
      "Epoch 5/20\n",
      "\n",
      "Epoch 00005: val_Sales_mse did not improve from 0.00065\n",
      "3181/3181 - 85s - loss: 9.5948e-04 - Sales_loss: 5.7844e-04 - Customers_loss: 2.0292e-04 - Sales_mse: 5.7844e-04 - Sales_rmspe: 0.1758 - Customers_mse: 2.0292e-04 - Customers_rmspe: 0.1599 - val_loss: 0.0011 - val_Sales_loss: 7.0194e-04 - val_Customers_loss: 2.5085e-04 - val_Sales_mse: 7.0194e-04 - val_Sales_rmspe: 0.1649 - val_Customers_mse: 2.5085e-04 - val_Customers_rmspe: 0.1569 - 85s/epoch - 27ms/step\n",
      "Epoch 6/20\n",
      "\n",
      "Epoch 00006: val_Sales_mse did not improve from 0.00065\n",
      "3181/3181 - 88s - loss: 9.2513e-04 - Sales_loss: 5.6451e-04 - Customers_loss: 1.9886e-04 - Sales_mse: 5.6451e-04 - Sales_rmspe: 0.1740 - Customers_mse: 1.9886e-04 - Customers_rmspe: 0.1578 - val_loss: 0.0012 - val_Sales_loss: 7.5952e-04 - val_Customers_loss: 2.4802e-04 - val_Sales_mse: 7.5952e-04 - val_Sales_rmspe: 0.1524 - val_Customers_mse: 2.4802e-04 - val_Customers_rmspe: 0.1427 - 88s/epoch - 28ms/step\n",
      "Epoch 7/20\n",
      "\n",
      "Epoch 00007: val_Sales_mse did not improve from 0.00065\n",
      "3181/3181 - 89s - loss: 9.0291e-04 - Sales_loss: 5.5668e-04 - Customers_loss: 1.9756e-04 - Sales_mse: 5.5668e-04 - Sales_rmspe: 0.1728 - Customers_mse: 1.9756e-04 - Customers_rmspe: 0.1568 - val_loss: 0.0012 - val_Sales_loss: 7.1502e-04 - val_Customers_loss: 3.4551e-04 - val_Sales_mse: 7.1502e-04 - val_Sales_rmspe: 0.1507 - val_Customers_mse: 3.4551e-04 - val_Customers_rmspe: 0.1854 - 89s/epoch - 28ms/step\n",
      "Epoch 8/20\n",
      "\n",
      "Epoch 00008: val_Sales_mse did not improve from 0.00065\n",
      "3181/3181 - 85s - loss: 8.8860e-04 - Sales_loss: 5.5120e-04 - Customers_loss: 1.9645e-04 - Sales_mse: 5.5120e-04 - Sales_rmspe: 0.1718 - Customers_mse: 1.9645e-04 - Customers_rmspe: 0.1562 - val_loss: 0.0011 - val_Sales_loss: 6.8212e-04 - val_Customers_loss: 2.3536e-04 - val_Sales_mse: 6.8212e-04 - val_Sales_rmspe: 0.1651 - val_Customers_mse: 2.3536e-04 - val_Customers_rmspe: 0.1455 - 85s/epoch - 27ms/step\n",
      "Epoch 9/20\n",
      "\n",
      "Epoch 00009: val_Sales_mse improved from 0.00065 to 0.00065, saving model to bestmodel.hdf5\n",
      "3181/3181 - 85s - loss: 8.7282e-04 - Sales_loss: 5.4514e-04 - Customers_loss: 1.9310e-04 - Sales_mse: 5.4514e-04 - Sales_rmspe: 0.1708 - Customers_mse: 1.9310e-04 - Customers_rmspe: 0.1549 - val_loss: 9.8740e-04 - val_Sales_loss: 6.5049e-04 - val_Customers_loss: 2.0878e-04 - val_Sales_mse: 6.5049e-04 - val_Sales_rmspe: 0.1530 - val_Customers_mse: 2.0878e-04 - val_Customers_rmspe: 0.1308 - 85s/epoch - 27ms/step\n",
      "Epoch 10/20\n",
      "\n",
      "Epoch 00010: val_Sales_mse did not improve from 0.00065\n",
      "3181/3181 - 86s - loss: 8.6505e-04 - Sales_loss: 5.4230e-04 - Customers_loss: 1.9210e-04 - Sales_mse: 5.4230e-04 - Sales_rmspe: 0.1702 - Customers_mse: 1.9210e-04 - Customers_rmspe: 0.1544 - val_loss: 0.0012 - val_Sales_loss: 7.3683e-04 - val_Customers_loss: 2.9175e-04 - val_Sales_mse: 7.3683e-04 - val_Sales_rmspe: 0.1799 - val_Customers_mse: 2.9175e-04 - val_Customers_rmspe: 0.1891 - 86s/epoch - 27ms/step\n",
      "Epoch 11/20\n",
      "\n",
      "Epoch 00011: val_Sales_mse improved from 0.00065 to 0.00063, saving model to bestmodel.hdf5\n",
      "3181/3181 - 86s - loss: 8.5425e-04 - Sales_loss: 5.3803e-04 - Customers_loss: 1.8918e-04 - Sales_mse: 5.3803e-04 - Sales_rmspe: 0.1696 - Customers_mse: 1.8918e-04 - Customers_rmspe: 0.1534 - val_loss: 9.6010e-04 - val_Sales_loss: 6.2994e-04 - val_Customers_loss: 2.0953e-04 - val_Sales_mse: 6.2994e-04 - val_Sales_rmspe: 0.1435 - val_Customers_mse: 2.0953e-04 - val_Customers_rmspe: 0.1356 - 86s/epoch - 27ms/step\n",
      "Epoch 12/20\n",
      "\n",
      "Epoch 00012: val_Sales_mse did not improve from 0.00063\n",
      "3181/3181 - 83s - loss: 8.4800e-04 - Sales_loss: 5.3506e-04 - Customers_loss: 1.8854e-04 - Sales_mse: 5.3506e-04 - Sales_rmspe: 0.1682 - Customers_mse: 1.8854e-04 - Customers_rmspe: 0.1518 - val_loss: 9.8370e-04 - val_Sales_loss: 6.4772e-04 - val_Customers_loss: 2.1537e-04 - val_Sales_mse: 6.4772e-04 - val_Sales_rmspe: 0.1476 - val_Customers_mse: 2.1537e-04 - val_Customers_rmspe: 0.1282 - 83s/epoch - 26ms/step\n",
      "Epoch 13/20\n",
      "\n",
      "Epoch 00013: val_Sales_mse did not improve from 0.00063\n",
      "3181/3181 - 86s - loss: 8.3585e-04 - Sales_loss: 5.2972e-04 - Customers_loss: 1.8509e-04 - Sales_mse: 5.2972e-04 - Sales_rmspe: 0.1669 - Customers_mse: 1.8509e-04 - Customers_rmspe: 0.1498 - val_loss: 0.0011 - val_Sales_loss: 7.5125e-04 - val_Customers_loss: 2.1288e-04 - val_Sales_mse: 7.5125e-04 - val_Sales_rmspe: 0.1468 - val_Customers_mse: 2.1288e-04 - val_Customers_rmspe: 0.1342 - 86s/epoch - 27ms/step\n",
      "Epoch 14/20\n",
      "\n",
      "Epoch 00014: val_Sales_mse did not improve from 0.00063\n",
      "3181/3181 - 84s - loss: 8.3390e-04 - Sales_loss: 5.2851e-04 - Customers_loss: 1.8510e-04 - Sales_mse: 5.2851e-04 - Sales_rmspe: 0.1672 - Customers_mse: 1.8510e-04 - Customers_rmspe: 0.1505 - val_loss: 9.6421e-04 - val_Sales_loss: 6.3111e-04 - val_Customers_loss: 2.1679e-04 - val_Sales_mse: 6.3111e-04 - val_Sales_rmspe: 0.1479 - val_Customers_mse: 2.1679e-04 - val_Customers_rmspe: 0.1277 - 84s/epoch - 26ms/step\n",
      "Epoch 15/20\n",
      "\n",
      "Epoch 00015: val_Sales_mse did not improve from 0.00063\n",
      "3181/3181 - 84s - loss: 8.2663e-04 - Sales_loss: 5.2567e-04 - Customers_loss: 1.8318e-04 - Sales_mse: 5.2567e-04 - Sales_rmspe: 0.1670 - Customers_mse: 1.8318e-04 - Customers_rmspe: 0.1495 - val_loss: 0.0012 - val_Sales_loss: 7.7132e-04 - val_Customers_loss: 2.8206e-04 - val_Sales_mse: 7.7132e-04 - val_Sales_rmspe: 0.1660 - val_Customers_mse: 2.8206e-04 - val_Customers_rmspe: 0.1564 - 84s/epoch - 27ms/step\n",
      "Epoch 16/20\n",
      "\n",
      "Epoch 00016: val_Sales_mse did not improve from 0.00063\n",
      "3181/3181 - 84s - loss: 8.2373e-04 - Sales_loss: 5.2465e-04 - Customers_loss: 1.8264e-04 - Sales_mse: 5.2465e-04 - Sales_rmspe: 0.1667 - Customers_mse: 1.8264e-04 - Customers_rmspe: 0.1491 - val_loss: 0.0010 - val_Sales_loss: 6.9236e-04 - val_Customers_loss: 2.2412e-04 - val_Sales_mse: 6.9236e-04 - val_Sales_rmspe: 0.1482 - val_Customers_mse: 2.2412e-04 - val_Customers_rmspe: 0.1308 - 84s/epoch - 26ms/step\n",
      "Epoch 17/20\n",
      "\n",
      "Epoch 00017: val_Sales_mse did not improve from 0.00063\n",
      "3181/3181 - 84s - loss: 8.2233e-04 - Sales_loss: 5.2390e-04 - Customers_loss: 1.8318e-04 - Sales_mse: 5.2390e-04 - Sales_rmspe: 0.1672 - Customers_mse: 1.8318e-04 - Customers_rmspe: 0.1496 - val_loss: 0.0011 - val_Sales_loss: 7.1273e-04 - val_Customers_loss: 2.6538e-04 - val_Sales_mse: 7.1273e-04 - val_Sales_rmspe: 0.1624 - val_Customers_mse: 2.6538e-04 - val_Customers_rmspe: 0.1583 - 84s/epoch - 26ms/step\n",
      "Epoch 18/20\n",
      "\n",
      "Epoch 00018: val_Sales_mse did not improve from 0.00063\n",
      "3181/3181 - 84s - loss: 8.2129e-04 - Sales_loss: 5.2293e-04 - Customers_loss: 1.8295e-04 - Sales_mse: 5.2293e-04 - Sales_rmspe: 0.1667 - Customers_mse: 1.8295e-04 - Customers_rmspe: 0.1492 - val_loss: 9.8743e-04 - val_Sales_loss: 6.5940e-04 - val_Customers_loss: 2.1316e-04 - val_Sales_mse: 6.5940e-04 - val_Sales_rmspe: 0.1593 - val_Customers_mse: 2.1316e-04 - val_Customers_rmspe: 0.1418 - 84s/epoch - 26ms/step\n",
      "Epoch 19/20\n",
      "\n",
      "Epoch 00019: val_Sales_mse did not improve from 0.00063\n",
      "3181/3181 - 89s - loss: 8.1165e-04 - Sales_loss: 5.1757e-04 - Customers_loss: 1.8029e-04 - Sales_mse: 5.1757e-04 - Sales_rmspe: 0.1663 - Customers_mse: 1.8029e-04 - Customers_rmspe: 0.1483 - val_loss: 0.0010 - val_Sales_loss: 6.6848e-04 - val_Customers_loss: 2.3235e-04 - val_Sales_mse: 6.6848e-04 - val_Sales_rmspe: 0.1635 - val_Customers_mse: 2.3235e-04 - val_Customers_rmspe: 0.1461 - 89s/epoch - 28ms/step\n",
      "Epoch 20/20\n",
      "\n",
      "Epoch 00020: val_Sales_mse did not improve from 0.00063\n",
      "3181/3181 - 87s - loss: 8.1222e-04 - Sales_loss: 5.1766e-04 - Customers_loss: 1.8195e-04 - Sales_mse: 5.1766e-04 - Sales_rmspe: 0.1663 - Customers_mse: 1.8195e-04 - Customers_rmspe: 0.1489 - val_loss: 9.8715e-04 - val_Sales_loss: 6.5733e-04 - val_Customers_loss: 2.1421e-04 - val_Sales_mse: 6.5733e-04 - val_Sales_rmspe: 0.1458 - val_Customers_mse: 2.1421e-04 - val_Customers_rmspe: 0.1358 - 87s/epoch - 27ms/step\n"
     ]
    }
   ],
   "source": [
    "epochs = 20\n",
    "batch_size = 256\n",
    "history = model.fit(X_train, y_train, validation_data=(X_val, y_val),  epochs=epochs, batch_size=batch_size, callbacks=[checkpoint], verbose=2)"
   ]
  },
  {
   "cell_type": "code",
   "execution_count": 43,
   "metadata": {},
   "outputs": [
    {
     "data": {
      "image/png": "[encoded data removed]",
      "text/plain": [
       "<Figure size 432x288 with 1 Axes>"
      ]
     },
     "metadata": {
      "needs_background": "light"
     },
     "output_type": "display_data"
    },
    {
     "data": {
      "text/plain": [
       "[<matplotlib.lines.Line2D at 0x1fcd830d910>]"
      ]
     },
     "execution_count": 43,
     "metadata": {},
     "output_type": "execute_result"
    },
    {
     "data": {
      "image/png": "[encoded data removed]",
      "text/plain": [
       "<Figure size 432x288 with 1 Axes>"
      ]
     },
     "metadata": {
      "needs_background": "light"
     },
     "output_type": "display_data"
    }
   ],
   "source": [
    "plt.plot(history.history['val_loss'])\n",
    "plt.show()\n",
    "plt.plot(history.history['loss'])"
   ]
  },
  {
   "cell_type": "markdown",
   "metadata": {},
   "source": [
    "## 6. Evaluación del modelo"
   ]
  },
  {
   "cell_type": "markdown",
   "metadata": {},
   "source": [
    "La métrica para evaluar el modelo es el error cuadrático medio (RMSE)"
   ]
  },
  {
   "cell_type": "markdown",
   "metadata": {},
   "source": [
    "$$\n",
    "\\textrm{RMSE} = \\sqrt{\\frac{1}{n} \\sum_{i=1}^{n} \\left(\\frac{\\hat{y}_i - y_i}{y_i}\\right)^2}\n",
    "$$"
   ]
  },
  {
   "cell_type": "markdown",
   "metadata": {},
   "source": [
    "Evaluamos en validación el último modelo generado."
   ]
  },
  {
   "cell_type": "code",
   "execution_count": 44,
   "metadata": {},
   "outputs": [
    {
     "name": "stdout",
     "output_type": "stream",
     "text": [
      "944/944 [==============================] - 7s 7ms/step - loss: 9.8715e-04 - Sales_loss: 6.5733e-04 - Customers_loss: 2.1421e-04 - Sales_mse: 6.5733e-04 - Sales_rmspe: 0.1417 - Customers_mse: 2.1421e-04 - Customers_rmspe: 0.1320\n"
     ]
    },
    {
     "data": {
      "text/plain": [
       "[0.0009871545480564237,\n",
       " 0.0006573292193934321,\n",
       " 0.00021421148267108947,\n",
       " 0.0006573292193934321,\n",
       " 0.14166586101055145,\n",
       " 0.00021421148267108947,\n",
       " 0.13200852274894714]"
      ]
     },
     "execution_count": 44,
     "metadata": {},
     "output_type": "execute_result"
    }
   ],
   "source": [
    "model.evaluate(X_val, y_val)"
   ]
  },
  {
   "cell_type": "markdown",
   "metadata": {},
   "source": [
    "Se obtuvo un RMSE de 0.1417"
   ]
  },
  {
   "cell_type": "markdown",
   "metadata": {},
   "source": [
    "Ahora evaluamos con el mejor modelo obtenido"
   ]
  },
  {
   "cell_type": "code",
   "execution_count": 45,
   "metadata": {},
   "outputs": [
    {
     "name": "stdout",
     "output_type": "stream",
     "text": [
      "944/944 [==============================] - 6s 6ms/step - loss: 9.6010e-04 - Sales_loss: 6.2994e-04 - Customers_loss: 2.0953e-04 - Sales_mse: 6.2994e-04 - Sales_rmspe: 0.1387 - Customers_mse: 2.0953e-04 - Customers_rmspe: 0.1315\n"
     ]
    },
    {
     "data": {
      "text/plain": [
       "[0.0009601022466085851,\n",
       " 0.0006299435044638813,\n",
       " 0.00020953371131327003,\n",
       " 0.0006299435044638813,\n",
       " 0.13874821364879608,\n",
       " 0.00020953371131327003,\n",
       " 0.1314878612756729]"
      ]
     },
     "execution_count": 45,
     "metadata": {},
     "output_type": "execute_result"
    }
   ],
   "source": [
    "model.load_weights('bestmodel.hdf5')\n",
    "model.evaluate(X_val, y_val)"
   ]
  },
  {
   "cell_type": "markdown",
   "metadata": {},
   "source": [
    "El RMSE  es obtenido es 0.1387."
   ]
  },
  {
   "cell_type": "markdown",
   "metadata": {},
   "source": [
    "## 7. Predicción de test"
   ]
  },
  {
   "cell_type": "markdown",
   "metadata": {},
   "source": [
    "Usamos el mejor modelo para predecir test y luego multiplicamos por el máximo de ventas por tienda calculado anteriormente con el dataframe de train."
   ]
  },
  {
   "cell_type": "code",
   "execution_count": 57,
   "metadata": {},
   "outputs": [
    {
     "name": "stdout",
     "output_type": "stream",
     "text": [
      "944/944 [==============================] - 5s 5ms/step\n",
      "1284/1284 [==============================] - 12s 9ms/step\n"
     ]
    }
   ],
   "source": [
    "if log_output:\n",
    "    if add_customers:\n",
    "        y_pred = np.exp(model.predict(X_val, verbose=1)[0][:, 0]*max_log_y[0])\n",
    "        y_pred_test = np.exp(model.predict(X_test, verbose=1)[0][:, 0]*max_log_y[0])\n",
    "    else:\n",
    "        y_pred = np.exp(model.predict(X_val, verbose=1)*max_log_y)[:,0]\n",
    "        y_pred_test = np.exp(model.predict(X_test, verbose=1)*max_log_y)[:,0]\n",
    "else:\n",
    "    if add_customers:\n",
    "        y_pred = (model.predict(X_val, verbose=1)[0][:,0]*y_max[0])\n",
    "        y_pred_test = (model.predict(X_test, verbose=1)[0][:,0]*y_max[0])\n",
    "    else:         \n",
    "        y_pred = model.predict(X_val, verbose=1)[:,0]*y_max\n",
    "        y_pred_test = model.predict(X_test, verbose=1)[:,0]*y_max\n",
    "y_pred_test[df_test['Open'] == 0] = 0"
   ]
  },
  {
   "cell_type": "markdown",
   "metadata": {},
   "source": [
    "Vemos las primeras diez predicciones"
   ]
  },
  {
   "cell_type": "code",
   "execution_count": 59,
   "metadata": {},
   "outputs": [
    {
     "data": {
      "text/plain": [
       "array([4645.3457, 6782.8984, 8634.553 , 5437.9893, 6231.9287, 5646.2085,\n",
       "       7974.764 , 7150.054 , 4633.437 , 5506.2314], dtype=float32)"
      ]
     },
     "execution_count": 59,
     "metadata": {},
     "output_type": "execute_result"
    }
   ],
   "source": [
    "y_pred_test[:10]"
   ]
  },
  {
   "cell_type": "markdown",
   "metadata": {},
   "source": [
    "# Sumbit a la competición"
   ]
  },
  {
   "cell_type": "code",
   "execution_count": 69,
   "metadata": {},
   "outputs": [],
   "source": [
    "\n",
    "sample_csv = pd.read_csv('rossmann/sample_submission.csv')\n",
    "sample_csv['Sales'] = y_pred_test\n",
    "sample_csv.head()\n",
    "\n",
    "sample_csv.to_csv(f'submision_{add_customers}-{log_output}-{output_activation}-{l2_lambda}-{first_hidden_units}-{epochs}-{batch_size}-{lr}.csv', index=False)\n"
   ]
  },
  {
   "cell_type": "markdown",
   "metadata": {},
   "source": [
    "El RMSE para las predicciones de test fue de 0.15976 en el leaderboard privado y de 0.15768 en el público."
   ]
  },
  {
   "attachments": {
    "01115951-b61b-45e3-9f00-45b57fa77708.png": {
     "image/png": "[encoded data removed]"
    }
   },
   "cell_type": "markdown",
   "metadata": {},
   "source": [
    "![image.png](attachment:01115951-b61b-45e3-9f00-45b57fa77708.png)"
   ]
  }
 ],
 "metadata": {
  "kernelspec": {
   "display_name": "Python [conda env:tp2]",
   "language": "python",
   "name": "conda-env-tp2-py"
  },
  "language_info": {
   "codemirror_mode": {
    "name": "ipython",
    "version": 3
   },
   "file_extension": ".py",
   "mimetype": "text/x-python",
   "name": "python",
   "nbconvert_exporter": "python",
   "pygments_lexer": "ipython3",
   "version": "3.9.7"
  }
 },
 "nbformat": 4,
 "nbformat_minor": 4
}
