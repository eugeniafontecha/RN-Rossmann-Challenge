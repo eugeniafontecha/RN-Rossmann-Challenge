{
 "cells": [
  {
   "cell_type": "markdown",
   "id": "6ae575c7-f6d4-4554-817b-a5d5845e2049",
   "metadata": {},
   "source": [
    "# Rossmann Challenge"
   ]
  },
  {
   "cell_type": "markdown",
   "id": "696ff603-067b-49bb-b571-15a466118a6a",
   "metadata": {},
   "source": [
    "## 0. Entorno de ejecución\n",
    "* pip install pandas\n",
    "* pip install pandas_summary\n",
    "* pip install isoweek"
   ]
  },
  {
   "cell_type": "code",
   "execution_count": 6,
   "id": "50881516-b801-475a-88e4-08a023e9b95b",
   "metadata": {},
   "outputs": [],
   "source": [
    "import numpy as np\n",
    "import pandas as pd\n",
    "from pandas_summary import DataFrameSummary\n",
    "import datetime\n",
    "from isoweek import Week"
   ]
  },
  {
   "cell_type": "markdown",
   "id": "ac28ae81-b35e-4e6f-becb-2018f713a233",
   "metadata": {},
   "source": [
    "## 1. Visualización de los datos"
   ]
  },
  {
   "cell_type": "markdown",
   "id": "eb8ab9c3-1827-4a02-b3c3-f5ae104c9f76",
   "metadata": {
    "tags": []
   },
   "source": [
    "### Descripción de los datos"
   ]
  },
  {
   "cell_type": "markdown",
   "id": "5daf09aa-bc5a-4290-9cac-ca5ac63a9819",
   "metadata": {},
   "source": [
    "\n",
    "* **Id** - an Id that represents a (Store, Date) duple within the test set\n",
    "* **Store** - a unique Id for each store\n",
    "* **Sales** - the turnover for any given day (this is what you are predicting)\n",
    "* **Customers** - the number of customers on a given day\n",
    "* **Open** - an indicator for whether the store was open: 0 = closed, 1 = open\n",
    "* **StateHoliday** - indicates a state holiday. Normally all stores, with few exceptions, are closed on state holidays. Note that all schools are closed on public holidays and weekends. a = public holiday, b = Easter holiday, c = Christmas, 0 = None\n",
    "* **SchoolHoliday** - indicates if the (Store, Date) was affected by the closure of public schools\n",
    "* **StoreType** - differentiates between 4 different store models: a, b, c, d\n",
    "* **Assortment** - describes an assortment level: a = basic, b = extra, c = extended\n",
    "* **CompetitionDistance** - distance in meters to the nearest competitor store\n",
    "* **CompetitionOpenSince[Month/Year]** - gives the approximate year and month of the time the nearest competitor was opened\n",
    "* **Promo** - indicates whether a store is running a promo on that day\n",
    "* **Promo2** - Promo2 is a continuing and consecutive promotion for some stores: 0 = store is not participating, 1 = store is participating\n",
    "* **Promo2Since[Year/Week]** - describes the year and calendar week when the store started participating in Promo2\n",
    "* **PromoInterval** - describes the consecutive intervals Promo2 is started, naming the months the promotion is started anew. E.g. \"Feb,May,Aug,Nov\" means each round starts in February, May, August, November of any given year for that store."
   ]
  },
  {
   "cell_type": "markdown",
   "id": "555d1e00-8e6d-45ff-be1d-e3097d97209f",
   "metadata": {},
   "source": [
    "### Importamos los datos"
   ]
  },
  {
   "cell_type": "code",
   "execution_count": 7,
   "id": "b6df4980-e70e-4e95-9f81-b71619d6a7ac",
   "metadata": {},
   "outputs": [],
   "source": [
    "PATH = 'rossmann/'"
   ]
  },
  {
   "cell_type": "code",
   "execution_count": 8,
   "id": "c314c0bb-b851-4601-b64b-9201cc81c2af",
   "metadata": {},
   "outputs": [],
   "source": [
    "table_names = ['train', 'test', 'store', 'store_states', 'state_names', 'googletrend', 'weather']\n",
    "train, test, store, store_states, state_names, googletrend, weather = [pd.read_csv(PATH + fname+'.csv', \n",
    "                                                                             low_memory=False) for fname in table_names]"
   ]
  },
  {
   "cell_type": "code",
   "execution_count": 9,
   "id": "749adc7d-bb58-408a-be28-eb3585a45880",
   "metadata": {},
   "outputs": [
    {
     "data": {
      "text/html": [
       "<div>\n",
       "<style scoped>\n",
       "    .dataframe tbody tr th:only-of-type {\n",
       "        vertical-align: middle;\n",
       "    }\n",
       "\n",
       "    .dataframe tbody tr th {\n",
       "        vertical-align: top;\n",
       "    }\n",
       "\n",
       "    .dataframe thead th {\n",
       "        text-align: right;\n",
       "    }\n",
       "</style>\n",
       "<table border=\"1\" class=\"dataframe\">\n",
       "  <thead>\n",
       "    <tr style=\"text-align: right;\">\n",
       "      <th></th>\n",
       "      <th>Store</th>\n",
       "      <th>DayOfWeek</th>\n",
       "      <th>Date</th>\n",
       "      <th>Sales</th>\n",
       "      <th>Customers</th>\n",
       "      <th>Open</th>\n",
       "      <th>Promo</th>\n",
       "      <th>StateHoliday</th>\n",
       "      <th>SchoolHoliday</th>\n",
       "    </tr>\n",
       "  </thead>\n",
       "  <tbody>\n",
       "    <tr>\n",
       "      <th>0</th>\n",
       "      <td>1</td>\n",
       "      <td>5</td>\n",
       "      <td>2015-07-31</td>\n",
       "      <td>5263</td>\n",
       "      <td>555</td>\n",
       "      <td>1</td>\n",
       "      <td>1</td>\n",
       "      <td>0</td>\n",
       "      <td>1</td>\n",
       "    </tr>\n",
       "    <tr>\n",
       "      <th>1</th>\n",
       "      <td>2</td>\n",
       "      <td>5</td>\n",
       "      <td>2015-07-31</td>\n",
       "      <td>6064</td>\n",
       "      <td>625</td>\n",
       "      <td>1</td>\n",
       "      <td>1</td>\n",
       "      <td>0</td>\n",
       "      <td>1</td>\n",
       "    </tr>\n",
       "    <tr>\n",
       "      <th>2</th>\n",
       "      <td>3</td>\n",
       "      <td>5</td>\n",
       "      <td>2015-07-31</td>\n",
       "      <td>8314</td>\n",
       "      <td>821</td>\n",
       "      <td>1</td>\n",
       "      <td>1</td>\n",
       "      <td>0</td>\n",
       "      <td>1</td>\n",
       "    </tr>\n",
       "    <tr>\n",
       "      <th>3</th>\n",
       "      <td>4</td>\n",
       "      <td>5</td>\n",
       "      <td>2015-07-31</td>\n",
       "      <td>13995</td>\n",
       "      <td>1498</td>\n",
       "      <td>1</td>\n",
       "      <td>1</td>\n",
       "      <td>0</td>\n",
       "      <td>1</td>\n",
       "    </tr>\n",
       "    <tr>\n",
       "      <th>4</th>\n",
       "      <td>5</td>\n",
       "      <td>5</td>\n",
       "      <td>2015-07-31</td>\n",
       "      <td>4822</td>\n",
       "      <td>559</td>\n",
       "      <td>1</td>\n",
       "      <td>1</td>\n",
       "      <td>0</td>\n",
       "      <td>1</td>\n",
       "    </tr>\n",
       "  </tbody>\n",
       "</table>\n",
       "</div>"
      ],
      "text/plain": [
       "   Store  DayOfWeek        Date  Sales  Customers  Open  Promo StateHoliday  \\\n",
       "0      1          5  2015-07-31   5263        555     1      1            0   \n",
       "1      2          5  2015-07-31   6064        625     1      1            0   \n",
       "2      3          5  2015-07-31   8314        821     1      1            0   \n",
       "3      4          5  2015-07-31  13995       1498     1      1            0   \n",
       "4      5          5  2015-07-31   4822        559     1      1            0   \n",
       "\n",
       "   SchoolHoliday  \n",
       "0              1  \n",
       "1              1  \n",
       "2              1  \n",
       "3              1  \n",
       "4              1  "
      ]
     },
     "metadata": {},
     "output_type": "display_data"
    },
    {
     "data": {
      "text/html": [
       "<div>\n",
       "<style scoped>\n",
       "    .dataframe tbody tr th:only-of-type {\n",
       "        vertical-align: middle;\n",
       "    }\n",
       "\n",
       "    .dataframe tbody tr th {\n",
       "        vertical-align: top;\n",
       "    }\n",
       "\n",
       "    .dataframe thead th {\n",
       "        text-align: right;\n",
       "    }\n",
       "</style>\n",
       "<table border=\"1\" class=\"dataframe\">\n",
       "  <thead>\n",
       "    <tr style=\"text-align: right;\">\n",
       "      <th></th>\n",
       "      <th>Store</th>\n",
       "      <th>DayOfWeek</th>\n",
       "      <th>Date</th>\n",
       "      <th>Sales</th>\n",
       "      <th>Customers</th>\n",
       "      <th>Open</th>\n",
       "      <th>Promo</th>\n",
       "      <th>StateHoliday</th>\n",
       "      <th>SchoolHoliday</th>\n",
       "    </tr>\n",
       "  </thead>\n",
       "  <tbody>\n",
       "    <tr>\n",
       "      <th>count</th>\n",
       "      <td>1017209.0</td>\n",
       "      <td>1017209.0</td>\n",
       "      <td>NaN</td>\n",
       "      <td>1017209.0</td>\n",
       "      <td>1017209.0</td>\n",
       "      <td>1017209.0</td>\n",
       "      <td>1017209.0</td>\n",
       "      <td>NaN</td>\n",
       "      <td>1017209.0</td>\n",
       "    </tr>\n",
       "    <tr>\n",
       "      <th>mean</th>\n",
       "      <td>558.429727</td>\n",
       "      <td>3.998341</td>\n",
       "      <td>NaN</td>\n",
       "      <td>5773.818972</td>\n",
       "      <td>633.145946</td>\n",
       "      <td>0.830107</td>\n",
       "      <td>0.381515</td>\n",
       "      <td>NaN</td>\n",
       "      <td>0.178647</td>\n",
       "    </tr>\n",
       "    <tr>\n",
       "      <th>std</th>\n",
       "      <td>321.908651</td>\n",
       "      <td>1.997391</td>\n",
       "      <td>NaN</td>\n",
       "      <td>3849.926175</td>\n",
       "      <td>464.411734</td>\n",
       "      <td>0.375539</td>\n",
       "      <td>0.485759</td>\n",
       "      <td>NaN</td>\n",
       "      <td>0.383056</td>\n",
       "    </tr>\n",
       "    <tr>\n",
       "      <th>min</th>\n",
       "      <td>1.0</td>\n",
       "      <td>1.0</td>\n",
       "      <td>NaN</td>\n",
       "      <td>0.0</td>\n",
       "      <td>0.0</td>\n",
       "      <td>0.0</td>\n",
       "      <td>0.0</td>\n",
       "      <td>NaN</td>\n",
       "      <td>0.0</td>\n",
       "    </tr>\n",
       "    <tr>\n",
       "      <th>25%</th>\n",
       "      <td>280.0</td>\n",
       "      <td>2.0</td>\n",
       "      <td>NaN</td>\n",
       "      <td>3727.0</td>\n",
       "      <td>405.0</td>\n",
       "      <td>1.0</td>\n",
       "      <td>0.0</td>\n",
       "      <td>NaN</td>\n",
       "      <td>0.0</td>\n",
       "    </tr>\n",
       "    <tr>\n",
       "      <th>50%</th>\n",
       "      <td>558.0</td>\n",
       "      <td>4.0</td>\n",
       "      <td>NaN</td>\n",
       "      <td>5744.0</td>\n",
       "      <td>609.0</td>\n",
       "      <td>1.0</td>\n",
       "      <td>0.0</td>\n",
       "      <td>NaN</td>\n",
       "      <td>0.0</td>\n",
       "    </tr>\n",
       "    <tr>\n",
       "      <th>75%</th>\n",
       "      <td>838.0</td>\n",
       "      <td>6.0</td>\n",
       "      <td>NaN</td>\n",
       "      <td>7856.0</td>\n",
       "      <td>837.0</td>\n",
       "      <td>1.0</td>\n",
       "      <td>1.0</td>\n",
       "      <td>NaN</td>\n",
       "      <td>0.0</td>\n",
       "    </tr>\n",
       "    <tr>\n",
       "      <th>max</th>\n",
       "      <td>1115.0</td>\n",
       "      <td>7.0</td>\n",
       "      <td>NaN</td>\n",
       "      <td>41551.0</td>\n",
       "      <td>7388.0</td>\n",
       "      <td>1.0</td>\n",
       "      <td>1.0</td>\n",
       "      <td>NaN</td>\n",
       "      <td>1.0</td>\n",
       "    </tr>\n",
       "    <tr>\n",
       "      <th>counts</th>\n",
       "      <td>1017209</td>\n",
       "      <td>1017209</td>\n",
       "      <td>1017209</td>\n",
       "      <td>1017209</td>\n",
       "      <td>1017209</td>\n",
       "      <td>1017209</td>\n",
       "      <td>1017209</td>\n",
       "      <td>1017209</td>\n",
       "      <td>1017209</td>\n",
       "    </tr>\n",
       "    <tr>\n",
       "      <th>uniques</th>\n",
       "      <td>1115</td>\n",
       "      <td>7</td>\n",
       "      <td>942</td>\n",
       "      <td>21734</td>\n",
       "      <td>4086</td>\n",
       "      <td>2</td>\n",
       "      <td>2</td>\n",
       "      <td>4</td>\n",
       "      <td>2</td>\n",
       "    </tr>\n",
       "    <tr>\n",
       "      <th>missing</th>\n",
       "      <td>0</td>\n",
       "      <td>0</td>\n",
       "      <td>0</td>\n",
       "      <td>0</td>\n",
       "      <td>0</td>\n",
       "      <td>0</td>\n",
       "      <td>0</td>\n",
       "      <td>0</td>\n",
       "      <td>0</td>\n",
       "    </tr>\n",
       "    <tr>\n",
       "      <th>missing_perc</th>\n",
       "      <td>0%</td>\n",
       "      <td>0%</td>\n",
       "      <td>0%</td>\n",
       "      <td>0%</td>\n",
       "      <td>0%</td>\n",
       "      <td>0%</td>\n",
       "      <td>0%</td>\n",
       "      <td>0%</td>\n",
       "      <td>0%</td>\n",
       "    </tr>\n",
       "    <tr>\n",
       "      <th>types</th>\n",
       "      <td>numeric</td>\n",
       "      <td>numeric</td>\n",
       "      <td>categorical</td>\n",
       "      <td>numeric</td>\n",
       "      <td>numeric</td>\n",
       "      <td>bool</td>\n",
       "      <td>bool</td>\n",
       "      <td>categorical</td>\n",
       "      <td>bool</td>\n",
       "    </tr>\n",
       "  </tbody>\n",
       "</table>\n",
       "</div>"
      ],
      "text/plain": [
       "                   Store  DayOfWeek         Date        Sales   Customers  \\\n",
       "count          1017209.0  1017209.0          NaN    1017209.0   1017209.0   \n",
       "mean          558.429727   3.998341          NaN  5773.818972  633.145946   \n",
       "std           321.908651   1.997391          NaN  3849.926175  464.411734   \n",
       "min                  1.0        1.0          NaN          0.0         0.0   \n",
       "25%                280.0        2.0          NaN       3727.0       405.0   \n",
       "50%                558.0        4.0          NaN       5744.0       609.0   \n",
       "75%                838.0        6.0          NaN       7856.0       837.0   \n",
       "max               1115.0        7.0          NaN      41551.0      7388.0   \n",
       "counts           1017209    1017209      1017209      1017209     1017209   \n",
       "uniques             1115          7          942        21734        4086   \n",
       "missing                0          0            0            0           0   \n",
       "missing_perc          0%         0%           0%           0%          0%   \n",
       "types            numeric    numeric  categorical      numeric     numeric   \n",
       "\n",
       "                   Open      Promo StateHoliday SchoolHoliday  \n",
       "count         1017209.0  1017209.0          NaN     1017209.0  \n",
       "mean           0.830107   0.381515          NaN      0.178647  \n",
       "std            0.375539   0.485759          NaN      0.383056  \n",
       "min                 0.0        0.0          NaN           0.0  \n",
       "25%                 1.0        0.0          NaN           0.0  \n",
       "50%                 1.0        0.0          NaN           0.0  \n",
       "75%                 1.0        1.0          NaN           0.0  \n",
       "max                 1.0        1.0          NaN           1.0  \n",
       "counts          1017209    1017209      1017209       1017209  \n",
       "uniques               2          2            4             2  \n",
       "missing               0          0            0             0  \n",
       "missing_perc         0%         0%           0%            0%  \n",
       "types              bool       bool  categorical          bool  "
      ]
     },
     "metadata": {},
     "output_type": "display_data"
    }
   ],
   "source": [
    "display(train.head())\n",
    "display(DataFrameSummary(train).summary())"
   ]
  },
  {
   "cell_type": "code",
   "execution_count": 10,
   "id": "40f9bddb-5c56-4a88-a541-d5fdc806ce6b",
   "metadata": {},
   "outputs": [
    {
     "data": {
      "text/plain": [
       "0    986159\n",
       "a     20260\n",
       "b      6690\n",
       "c      4100\n",
       "Name: StateHoliday, dtype: int64"
      ]
     },
     "execution_count": 10,
     "metadata": {},
     "output_type": "execute_result"
    }
   ],
   "source": [
    "train['StateHoliday'].value_counts()"
   ]
  },
  {
   "cell_type": "code",
   "execution_count": 11,
   "id": "08784835-6707-4eff-9773-6098008cde63",
   "metadata": {},
   "outputs": [
    {
     "data": {
      "text/html": [
       "<div>\n",
       "<style scoped>\n",
       "    .dataframe tbody tr th:only-of-type {\n",
       "        vertical-align: middle;\n",
       "    }\n",
       "\n",
       "    .dataframe tbody tr th {\n",
       "        vertical-align: top;\n",
       "    }\n",
       "\n",
       "    .dataframe thead th {\n",
       "        text-align: right;\n",
       "    }\n",
       "</style>\n",
       "<table border=\"1\" class=\"dataframe\">\n",
       "  <thead>\n",
       "    <tr style=\"text-align: right;\">\n",
       "      <th></th>\n",
       "      <th>Id</th>\n",
       "      <th>Store</th>\n",
       "      <th>DayOfWeek</th>\n",
       "      <th>Date</th>\n",
       "      <th>Open</th>\n",
       "      <th>Promo</th>\n",
       "      <th>StateHoliday</th>\n",
       "      <th>SchoolHoliday</th>\n",
       "    </tr>\n",
       "  </thead>\n",
       "  <tbody>\n",
       "    <tr>\n",
       "      <th>0</th>\n",
       "      <td>1</td>\n",
       "      <td>1</td>\n",
       "      <td>4</td>\n",
       "      <td>2015-09-17</td>\n",
       "      <td>1.0</td>\n",
       "      <td>1</td>\n",
       "      <td>0</td>\n",
       "      <td>0</td>\n",
       "    </tr>\n",
       "    <tr>\n",
       "      <th>1</th>\n",
       "      <td>2</td>\n",
       "      <td>3</td>\n",
       "      <td>4</td>\n",
       "      <td>2015-09-17</td>\n",
       "      <td>1.0</td>\n",
       "      <td>1</td>\n",
       "      <td>0</td>\n",
       "      <td>0</td>\n",
       "    </tr>\n",
       "    <tr>\n",
       "      <th>2</th>\n",
       "      <td>3</td>\n",
       "      <td>7</td>\n",
       "      <td>4</td>\n",
       "      <td>2015-09-17</td>\n",
       "      <td>1.0</td>\n",
       "      <td>1</td>\n",
       "      <td>0</td>\n",
       "      <td>0</td>\n",
       "    </tr>\n",
       "    <tr>\n",
       "      <th>3</th>\n",
       "      <td>4</td>\n",
       "      <td>8</td>\n",
       "      <td>4</td>\n",
       "      <td>2015-09-17</td>\n",
       "      <td>1.0</td>\n",
       "      <td>1</td>\n",
       "      <td>0</td>\n",
       "      <td>0</td>\n",
       "    </tr>\n",
       "    <tr>\n",
       "      <th>4</th>\n",
       "      <td>5</td>\n",
       "      <td>9</td>\n",
       "      <td>4</td>\n",
       "      <td>2015-09-17</td>\n",
       "      <td>1.0</td>\n",
       "      <td>1</td>\n",
       "      <td>0</td>\n",
       "      <td>0</td>\n",
       "    </tr>\n",
       "  </tbody>\n",
       "</table>\n",
       "</div>"
      ],
      "text/plain": [
       "   Id  Store  DayOfWeek        Date  Open  Promo StateHoliday  SchoolHoliday\n",
       "0   1      1          4  2015-09-17   1.0      1            0              0\n",
       "1   2      3          4  2015-09-17   1.0      1            0              0\n",
       "2   3      7          4  2015-09-17   1.0      1            0              0\n",
       "3   4      8          4  2015-09-17   1.0      1            0              0\n",
       "4   5      9          4  2015-09-17   1.0      1            0              0"
      ]
     },
     "metadata": {},
     "output_type": "display_data"
    },
    {
     "data": {
      "text/html": [
       "<div>\n",
       "<style scoped>\n",
       "    .dataframe tbody tr th:only-of-type {\n",
       "        vertical-align: middle;\n",
       "    }\n",
       "\n",
       "    .dataframe tbody tr th {\n",
       "        vertical-align: top;\n",
       "    }\n",
       "\n",
       "    .dataframe thead th {\n",
       "        text-align: right;\n",
       "    }\n",
       "</style>\n",
       "<table border=\"1\" class=\"dataframe\">\n",
       "  <thead>\n",
       "    <tr style=\"text-align: right;\">\n",
       "      <th></th>\n",
       "      <th>Id</th>\n",
       "      <th>Store</th>\n",
       "      <th>DayOfWeek</th>\n",
       "      <th>Date</th>\n",
       "      <th>Open</th>\n",
       "      <th>Promo</th>\n",
       "      <th>StateHoliday</th>\n",
       "      <th>SchoolHoliday</th>\n",
       "    </tr>\n",
       "  </thead>\n",
       "  <tbody>\n",
       "    <tr>\n",
       "      <th>count</th>\n",
       "      <td>41088.0</td>\n",
       "      <td>41088.0</td>\n",
       "      <td>41088.0</td>\n",
       "      <td>NaN</td>\n",
       "      <td>41077.0</td>\n",
       "      <td>41088.0</td>\n",
       "      <td>NaN</td>\n",
       "      <td>41088.0</td>\n",
       "    </tr>\n",
       "    <tr>\n",
       "      <th>mean</th>\n",
       "      <td>20544.5</td>\n",
       "      <td>555.899533</td>\n",
       "      <td>3.979167</td>\n",
       "      <td>NaN</td>\n",
       "      <td>0.854322</td>\n",
       "      <td>0.395833</td>\n",
       "      <td>NaN</td>\n",
       "      <td>0.443487</td>\n",
       "    </tr>\n",
       "    <tr>\n",
       "      <th>std</th>\n",
       "      <td>11861.228267</td>\n",
       "      <td>320.274496</td>\n",
       "      <td>2.015481</td>\n",
       "      <td>NaN</td>\n",
       "      <td>0.352787</td>\n",
       "      <td>0.489035</td>\n",
       "      <td>NaN</td>\n",
       "      <td>0.496802</td>\n",
       "    </tr>\n",
       "    <tr>\n",
       "      <th>min</th>\n",
       "      <td>1.0</td>\n",
       "      <td>1.0</td>\n",
       "      <td>1.0</td>\n",
       "      <td>NaN</td>\n",
       "      <td>0.0</td>\n",
       "      <td>0.0</td>\n",
       "      <td>NaN</td>\n",
       "      <td>0.0</td>\n",
       "    </tr>\n",
       "    <tr>\n",
       "      <th>25%</th>\n",
       "      <td>10272.75</td>\n",
       "      <td>279.75</td>\n",
       "      <td>2.0</td>\n",
       "      <td>NaN</td>\n",
       "      <td>1.0</td>\n",
       "      <td>0.0</td>\n",
       "      <td>NaN</td>\n",
       "      <td>0.0</td>\n",
       "    </tr>\n",
       "    <tr>\n",
       "      <th>50%</th>\n",
       "      <td>20544.5</td>\n",
       "      <td>553.5</td>\n",
       "      <td>4.0</td>\n",
       "      <td>NaN</td>\n",
       "      <td>1.0</td>\n",
       "      <td>0.0</td>\n",
       "      <td>NaN</td>\n",
       "      <td>0.0</td>\n",
       "    </tr>\n",
       "    <tr>\n",
       "      <th>75%</th>\n",
       "      <td>30816.25</td>\n",
       "      <td>832.25</td>\n",
       "      <td>6.0</td>\n",
       "      <td>NaN</td>\n",
       "      <td>1.0</td>\n",
       "      <td>1.0</td>\n",
       "      <td>NaN</td>\n",
       "      <td>1.0</td>\n",
       "    </tr>\n",
       "    <tr>\n",
       "      <th>max</th>\n",
       "      <td>41088.0</td>\n",
       "      <td>1115.0</td>\n",
       "      <td>7.0</td>\n",
       "      <td>NaN</td>\n",
       "      <td>1.0</td>\n",
       "      <td>1.0</td>\n",
       "      <td>NaN</td>\n",
       "      <td>1.0</td>\n",
       "    </tr>\n",
       "    <tr>\n",
       "      <th>counts</th>\n",
       "      <td>41088</td>\n",
       "      <td>41088</td>\n",
       "      <td>41088</td>\n",
       "      <td>41088</td>\n",
       "      <td>41077</td>\n",
       "      <td>41088</td>\n",
       "      <td>41088</td>\n",
       "      <td>41088</td>\n",
       "    </tr>\n",
       "    <tr>\n",
       "      <th>uniques</th>\n",
       "      <td>41088</td>\n",
       "      <td>856</td>\n",
       "      <td>7</td>\n",
       "      <td>48</td>\n",
       "      <td>2</td>\n",
       "      <td>2</td>\n",
       "      <td>2</td>\n",
       "      <td>2</td>\n",
       "    </tr>\n",
       "    <tr>\n",
       "      <th>missing</th>\n",
       "      <td>0</td>\n",
       "      <td>0</td>\n",
       "      <td>0</td>\n",
       "      <td>0</td>\n",
       "      <td>11</td>\n",
       "      <td>0</td>\n",
       "      <td>0</td>\n",
       "      <td>0</td>\n",
       "    </tr>\n",
       "    <tr>\n",
       "      <th>missing_perc</th>\n",
       "      <td>0%</td>\n",
       "      <td>0%</td>\n",
       "      <td>0%</td>\n",
       "      <td>0%</td>\n",
       "      <td>0.03%</td>\n",
       "      <td>0%</td>\n",
       "      <td>0%</td>\n",
       "      <td>0%</td>\n",
       "    </tr>\n",
       "    <tr>\n",
       "      <th>types</th>\n",
       "      <td>numeric</td>\n",
       "      <td>numeric</td>\n",
       "      <td>numeric</td>\n",
       "      <td>categorical</td>\n",
       "      <td>bool</td>\n",
       "      <td>bool</td>\n",
       "      <td>bool</td>\n",
       "      <td>bool</td>\n",
       "    </tr>\n",
       "  </tbody>\n",
       "</table>\n",
       "</div>"
      ],
      "text/plain": [
       "                        Id       Store DayOfWeek         Date      Open  \\\n",
       "count              41088.0     41088.0   41088.0          NaN   41077.0   \n",
       "mean               20544.5  555.899533  3.979167          NaN  0.854322   \n",
       "std           11861.228267  320.274496  2.015481          NaN  0.352787   \n",
       "min                    1.0         1.0       1.0          NaN       0.0   \n",
       "25%               10272.75      279.75       2.0          NaN       1.0   \n",
       "50%                20544.5       553.5       4.0          NaN       1.0   \n",
       "75%               30816.25      832.25       6.0          NaN       1.0   \n",
       "max                41088.0      1115.0       7.0          NaN       1.0   \n",
       "counts               41088       41088     41088        41088     41077   \n",
       "uniques              41088         856         7           48         2   \n",
       "missing                  0           0         0            0        11   \n",
       "missing_perc            0%          0%        0%           0%     0.03%   \n",
       "types              numeric     numeric   numeric  categorical      bool   \n",
       "\n",
       "                 Promo StateHoliday SchoolHoliday  \n",
       "count          41088.0          NaN       41088.0  \n",
       "mean          0.395833          NaN      0.443487  \n",
       "std           0.489035          NaN      0.496802  \n",
       "min                0.0          NaN           0.0  \n",
       "25%                0.0          NaN           0.0  \n",
       "50%                0.0          NaN           0.0  \n",
       "75%                1.0          NaN           1.0  \n",
       "max                1.0          NaN           1.0  \n",
       "counts           41088        41088         41088  \n",
       "uniques              2            2             2  \n",
       "missing              0            0             0  \n",
       "missing_perc        0%           0%            0%  \n",
       "types             bool         bool          bool  "
      ]
     },
     "metadata": {},
     "output_type": "display_data"
    }
   ],
   "source": [
    "display(test.head())\n",
    "display(DataFrameSummary(test).summary())"
   ]
  },
  {
   "cell_type": "markdown",
   "id": "a5442601-e0b7-4b93-872c-2f1656760088",
   "metadata": {},
   "source": [
    "Hay datos faltantes en Open."
   ]
  },
  {
   "cell_type": "code",
   "execution_count": 12,
   "id": "852efa72-b0b9-491e-b010-75de5acf559e",
   "metadata": {},
   "outputs": [
    {
     "data": {
      "text/html": [
       "<div>\n",
       "<style scoped>\n",
       "    .dataframe tbody tr th:only-of-type {\n",
       "        vertical-align: middle;\n",
       "    }\n",
       "\n",
       "    .dataframe tbody tr th {\n",
       "        vertical-align: top;\n",
       "    }\n",
       "\n",
       "    .dataframe thead th {\n",
       "        text-align: right;\n",
       "    }\n",
       "</style>\n",
       "<table border=\"1\" class=\"dataframe\">\n",
       "  <thead>\n",
       "    <tr style=\"text-align: right;\">\n",
       "      <th></th>\n",
       "      <th>Store</th>\n",
       "      <th>StoreType</th>\n",
       "      <th>Assortment</th>\n",
       "      <th>CompetitionDistance</th>\n",
       "      <th>CompetitionOpenSinceMonth</th>\n",
       "      <th>CompetitionOpenSinceYear</th>\n",
       "      <th>Promo2</th>\n",
       "      <th>Promo2SinceWeek</th>\n",
       "      <th>Promo2SinceYear</th>\n",
       "      <th>PromoInterval</th>\n",
       "    </tr>\n",
       "  </thead>\n",
       "  <tbody>\n",
       "    <tr>\n",
       "      <th>0</th>\n",
       "      <td>1</td>\n",
       "      <td>c</td>\n",
       "      <td>a</td>\n",
       "      <td>1270.0</td>\n",
       "      <td>9.0</td>\n",
       "      <td>2008.0</td>\n",
       "      <td>0</td>\n",
       "      <td>NaN</td>\n",
       "      <td>NaN</td>\n",
       "      <td>NaN</td>\n",
       "    </tr>\n",
       "    <tr>\n",
       "      <th>1</th>\n",
       "      <td>2</td>\n",
       "      <td>a</td>\n",
       "      <td>a</td>\n",
       "      <td>570.0</td>\n",
       "      <td>11.0</td>\n",
       "      <td>2007.0</td>\n",
       "      <td>1</td>\n",
       "      <td>13.0</td>\n",
       "      <td>2010.0</td>\n",
       "      <td>Jan,Apr,Jul,Oct</td>\n",
       "    </tr>\n",
       "    <tr>\n",
       "      <th>2</th>\n",
       "      <td>3</td>\n",
       "      <td>a</td>\n",
       "      <td>a</td>\n",
       "      <td>14130.0</td>\n",
       "      <td>12.0</td>\n",
       "      <td>2006.0</td>\n",
       "      <td>1</td>\n",
       "      <td>14.0</td>\n",
       "      <td>2011.0</td>\n",
       "      <td>Jan,Apr,Jul,Oct</td>\n",
       "    </tr>\n",
       "    <tr>\n",
       "      <th>3</th>\n",
       "      <td>4</td>\n",
       "      <td>c</td>\n",
       "      <td>c</td>\n",
       "      <td>620.0</td>\n",
       "      <td>9.0</td>\n",
       "      <td>2009.0</td>\n",
       "      <td>0</td>\n",
       "      <td>NaN</td>\n",
       "      <td>NaN</td>\n",
       "      <td>NaN</td>\n",
       "    </tr>\n",
       "    <tr>\n",
       "      <th>4</th>\n",
       "      <td>5</td>\n",
       "      <td>a</td>\n",
       "      <td>a</td>\n",
       "      <td>29910.0</td>\n",
       "      <td>4.0</td>\n",
       "      <td>2015.0</td>\n",
       "      <td>0</td>\n",
       "      <td>NaN</td>\n",
       "      <td>NaN</td>\n",
       "      <td>NaN</td>\n",
       "    </tr>\n",
       "  </tbody>\n",
       "</table>\n",
       "</div>"
      ],
      "text/plain": [
       "   Store StoreType Assortment  CompetitionDistance  CompetitionOpenSinceMonth  \\\n",
       "0      1         c          a               1270.0                        9.0   \n",
       "1      2         a          a                570.0                       11.0   \n",
       "2      3         a          a              14130.0                       12.0   \n",
       "3      4         c          c                620.0                        9.0   \n",
       "4      5         a          a              29910.0                        4.0   \n",
       "\n",
       "   CompetitionOpenSinceYear  Promo2  Promo2SinceWeek  Promo2SinceYear  \\\n",
       "0                    2008.0       0              NaN              NaN   \n",
       "1                    2007.0       1             13.0           2010.0   \n",
       "2                    2006.0       1             14.0           2011.0   \n",
       "3                    2009.0       0              NaN              NaN   \n",
       "4                    2015.0       0              NaN              NaN   \n",
       "\n",
       "     PromoInterval  \n",
       "0              NaN  \n",
       "1  Jan,Apr,Jul,Oct  \n",
       "2  Jan,Apr,Jul,Oct  \n",
       "3              NaN  \n",
       "4              NaN  "
      ]
     },
     "metadata": {},
     "output_type": "display_data"
    },
    {
     "data": {
      "text/html": [
       "<div>\n",
       "<style scoped>\n",
       "    .dataframe tbody tr th:only-of-type {\n",
       "        vertical-align: middle;\n",
       "    }\n",
       "\n",
       "    .dataframe tbody tr th {\n",
       "        vertical-align: top;\n",
       "    }\n",
       "\n",
       "    .dataframe thead th {\n",
       "        text-align: right;\n",
       "    }\n",
       "</style>\n",
       "<table border=\"1\" class=\"dataframe\">\n",
       "  <thead>\n",
       "    <tr style=\"text-align: right;\">\n",
       "      <th></th>\n",
       "      <th>Store</th>\n",
       "      <th>StoreType</th>\n",
       "      <th>Assortment</th>\n",
       "      <th>CompetitionDistance</th>\n",
       "      <th>CompetitionOpenSinceMonth</th>\n",
       "      <th>CompetitionOpenSinceYear</th>\n",
       "      <th>Promo2</th>\n",
       "      <th>Promo2SinceWeek</th>\n",
       "      <th>Promo2SinceYear</th>\n",
       "      <th>PromoInterval</th>\n",
       "    </tr>\n",
       "  </thead>\n",
       "  <tbody>\n",
       "    <tr>\n",
       "      <th>count</th>\n",
       "      <td>1115.0</td>\n",
       "      <td>NaN</td>\n",
       "      <td>NaN</td>\n",
       "      <td>1112.0</td>\n",
       "      <td>761.0</td>\n",
       "      <td>761.0</td>\n",
       "      <td>1115.0</td>\n",
       "      <td>571.0</td>\n",
       "      <td>571.0</td>\n",
       "      <td>NaN</td>\n",
       "    </tr>\n",
       "    <tr>\n",
       "      <th>mean</th>\n",
       "      <td>558.0</td>\n",
       "      <td>NaN</td>\n",
       "      <td>NaN</td>\n",
       "      <td>5404.901079</td>\n",
       "      <td>7.224704</td>\n",
       "      <td>2008.668857</td>\n",
       "      <td>0.512108</td>\n",
       "      <td>23.595447</td>\n",
       "      <td>2011.763573</td>\n",
       "      <td>NaN</td>\n",
       "    </tr>\n",
       "    <tr>\n",
       "      <th>std</th>\n",
       "      <td>322.01708</td>\n",
       "      <td>NaN</td>\n",
       "      <td>NaN</td>\n",
       "      <td>7663.17472</td>\n",
       "      <td>3.212348</td>\n",
       "      <td>6.195983</td>\n",
       "      <td>0.500078</td>\n",
       "      <td>14.141984</td>\n",
       "      <td>1.674935</td>\n",
       "      <td>NaN</td>\n",
       "    </tr>\n",
       "    <tr>\n",
       "      <th>min</th>\n",
       "      <td>1.0</td>\n",
       "      <td>NaN</td>\n",
       "      <td>NaN</td>\n",
       "      <td>20.0</td>\n",
       "      <td>1.0</td>\n",
       "      <td>1900.0</td>\n",
       "      <td>0.0</td>\n",
       "      <td>1.0</td>\n",
       "      <td>2009.0</td>\n",
       "      <td>NaN</td>\n",
       "    </tr>\n",
       "    <tr>\n",
       "      <th>25%</th>\n",
       "      <td>279.5</td>\n",
       "      <td>NaN</td>\n",
       "      <td>NaN</td>\n",
       "      <td>717.5</td>\n",
       "      <td>4.0</td>\n",
       "      <td>2006.0</td>\n",
       "      <td>0.0</td>\n",
       "      <td>13.0</td>\n",
       "      <td>2011.0</td>\n",
       "      <td>NaN</td>\n",
       "    </tr>\n",
       "    <tr>\n",
       "      <th>50%</th>\n",
       "      <td>558.0</td>\n",
       "      <td>NaN</td>\n",
       "      <td>NaN</td>\n",
       "      <td>2325.0</td>\n",
       "      <td>8.0</td>\n",
       "      <td>2010.0</td>\n",
       "      <td>1.0</td>\n",
       "      <td>22.0</td>\n",
       "      <td>2012.0</td>\n",
       "      <td>NaN</td>\n",
       "    </tr>\n",
       "    <tr>\n",
       "      <th>75%</th>\n",
       "      <td>836.5</td>\n",
       "      <td>NaN</td>\n",
       "      <td>NaN</td>\n",
       "      <td>6882.5</td>\n",
       "      <td>10.0</td>\n",
       "      <td>2013.0</td>\n",
       "      <td>1.0</td>\n",
       "      <td>37.0</td>\n",
       "      <td>2013.0</td>\n",
       "      <td>NaN</td>\n",
       "    </tr>\n",
       "    <tr>\n",
       "      <th>max</th>\n",
       "      <td>1115.0</td>\n",
       "      <td>NaN</td>\n",
       "      <td>NaN</td>\n",
       "      <td>75860.0</td>\n",
       "      <td>12.0</td>\n",
       "      <td>2015.0</td>\n",
       "      <td>1.0</td>\n",
       "      <td>50.0</td>\n",
       "      <td>2015.0</td>\n",
       "      <td>NaN</td>\n",
       "    </tr>\n",
       "    <tr>\n",
       "      <th>counts</th>\n",
       "      <td>1115</td>\n",
       "      <td>1115</td>\n",
       "      <td>1115</td>\n",
       "      <td>1112</td>\n",
       "      <td>761</td>\n",
       "      <td>761</td>\n",
       "      <td>1115</td>\n",
       "      <td>571</td>\n",
       "      <td>571</td>\n",
       "      <td>571</td>\n",
       "    </tr>\n",
       "    <tr>\n",
       "      <th>uniques</th>\n",
       "      <td>1115</td>\n",
       "      <td>4</td>\n",
       "      <td>3</td>\n",
       "      <td>654</td>\n",
       "      <td>12</td>\n",
       "      <td>23</td>\n",
       "      <td>2</td>\n",
       "      <td>24</td>\n",
       "      <td>7</td>\n",
       "      <td>3</td>\n",
       "    </tr>\n",
       "    <tr>\n",
       "      <th>missing</th>\n",
       "      <td>0</td>\n",
       "      <td>0</td>\n",
       "      <td>0</td>\n",
       "      <td>3</td>\n",
       "      <td>354</td>\n",
       "      <td>354</td>\n",
       "      <td>0</td>\n",
       "      <td>544</td>\n",
       "      <td>544</td>\n",
       "      <td>544</td>\n",
       "    </tr>\n",
       "    <tr>\n",
       "      <th>missing_perc</th>\n",
       "      <td>0%</td>\n",
       "      <td>0%</td>\n",
       "      <td>0%</td>\n",
       "      <td>0.27%</td>\n",
       "      <td>31.75%</td>\n",
       "      <td>31.75%</td>\n",
       "      <td>0%</td>\n",
       "      <td>48.79%</td>\n",
       "      <td>48.79%</td>\n",
       "      <td>48.79%</td>\n",
       "    </tr>\n",
       "    <tr>\n",
       "      <th>types</th>\n",
       "      <td>numeric</td>\n",
       "      <td>categorical</td>\n",
       "      <td>categorical</td>\n",
       "      <td>numeric</td>\n",
       "      <td>numeric</td>\n",
       "      <td>numeric</td>\n",
       "      <td>bool</td>\n",
       "      <td>numeric</td>\n",
       "      <td>numeric</td>\n",
       "      <td>categorical</td>\n",
       "    </tr>\n",
       "  </tbody>\n",
       "</table>\n",
       "</div>"
      ],
      "text/plain": [
       "                  Store    StoreType   Assortment CompetitionDistance  \\\n",
       "count            1115.0          NaN          NaN              1112.0   \n",
       "mean              558.0          NaN          NaN         5404.901079   \n",
       "std           322.01708          NaN          NaN          7663.17472   \n",
       "min                 1.0          NaN          NaN                20.0   \n",
       "25%               279.5          NaN          NaN               717.5   \n",
       "50%               558.0          NaN          NaN              2325.0   \n",
       "75%               836.5          NaN          NaN              6882.5   \n",
       "max              1115.0          NaN          NaN             75860.0   \n",
       "counts             1115         1115         1115                1112   \n",
       "uniques            1115            4            3                 654   \n",
       "missing               0            0            0                   3   \n",
       "missing_perc         0%           0%           0%               0.27%   \n",
       "types           numeric  categorical  categorical             numeric   \n",
       "\n",
       "             CompetitionOpenSinceMonth CompetitionOpenSinceYear    Promo2  \\\n",
       "count                            761.0                    761.0    1115.0   \n",
       "mean                          7.224704              2008.668857  0.512108   \n",
       "std                           3.212348                 6.195983  0.500078   \n",
       "min                                1.0                   1900.0       0.0   \n",
       "25%                                4.0                   2006.0       0.0   \n",
       "50%                                8.0                   2010.0       1.0   \n",
       "75%                               10.0                   2013.0       1.0   \n",
       "max                               12.0                   2015.0       1.0   \n",
       "counts                             761                      761      1115   \n",
       "uniques                             12                       23         2   \n",
       "missing                            354                      354         0   \n",
       "missing_perc                    31.75%                   31.75%        0%   \n",
       "types                          numeric                  numeric      bool   \n",
       "\n",
       "             Promo2SinceWeek Promo2SinceYear PromoInterval  \n",
       "count                  571.0           571.0           NaN  \n",
       "mean               23.595447     2011.763573           NaN  \n",
       "std                14.141984        1.674935           NaN  \n",
       "min                      1.0          2009.0           NaN  \n",
       "25%                     13.0          2011.0           NaN  \n",
       "50%                     22.0          2012.0           NaN  \n",
       "75%                     37.0          2013.0           NaN  \n",
       "max                     50.0          2015.0           NaN  \n",
       "counts                   571             571           571  \n",
       "uniques                   24               7             3  \n",
       "missing                  544             544           544  \n",
       "missing_perc          48.79%          48.79%        48.79%  \n",
       "types                numeric         numeric   categorical  "
      ]
     },
     "metadata": {},
     "output_type": "display_data"
    }
   ],
   "source": [
    "display(store.head())\n",
    "display(DataFrameSummary(store).summary())"
   ]
  },
  {
   "cell_type": "markdown",
   "id": "95000f8f-7a45-4763-94cc-6975cc270b28",
   "metadata": {},
   "source": [
    "Hay datos faltantes en: \n",
    "* CompetitionDistance\n",
    "* CompetitionOpenSinceMonth\n",
    "* CompetitionOpenSinceYear\n",
    "* Promo2SinceWeek\n",
    "* Promo2SinceYear\n",
    "* PromoInterval"
   ]
  },
  {
   "cell_type": "code",
   "execution_count": 13,
   "id": "26e675d8-1255-4cd0-ad3c-9e00f30a431c",
   "metadata": {},
   "outputs": [
    {
     "data": {
      "text/plain": [
       "a    602\n",
       "d    348\n",
       "c    148\n",
       "b     17\n",
       "Name: StoreType, dtype: int64"
      ]
     },
     "execution_count": 13,
     "metadata": {},
     "output_type": "execute_result"
    }
   ],
   "source": [
    "store['StoreType'].value_counts()"
   ]
  },
  {
   "cell_type": "markdown",
   "id": "0cce4fe3-ddb3-49af-a814-f1fbfe8e6bde",
   "metadata": {},
   "source": [
    "Hay cuatro tipos de tiendas diferentes. La más frecuente es la 'a' y la menos frecuente es la 'b'."
   ]
  },
  {
   "cell_type": "code",
   "execution_count": 14,
   "id": "db238c8c-e002-42af-ac24-c87b77eddb78",
   "metadata": {},
   "outputs": [
    {
     "data": {
      "text/plain": [
       "Jan,Apr,Jul,Oct     335\n",
       "Feb,May,Aug,Nov     130\n",
       "Mar,Jun,Sept,Dec    106\n",
       "Name: PromoInterval, dtype: int64"
      ]
     },
     "execution_count": 14,
     "metadata": {},
     "output_type": "execute_result"
    }
   ],
   "source": [
    "store['PromoInterval'].value_counts()"
   ]
  },
  {
   "cell_type": "code",
   "execution_count": 15,
   "id": "50e94a31-dd4c-4b2d-9d46-b8a8ea405aed",
   "metadata": {},
   "outputs": [
    {
     "data": {
      "text/html": [
       "<div>\n",
       "<style scoped>\n",
       "    .dataframe tbody tr th:only-of-type {\n",
       "        vertical-align: middle;\n",
       "    }\n",
       "\n",
       "    .dataframe tbody tr th {\n",
       "        vertical-align: top;\n",
       "    }\n",
       "\n",
       "    .dataframe thead th {\n",
       "        text-align: right;\n",
       "    }\n",
       "</style>\n",
       "<table border=\"1\" class=\"dataframe\">\n",
       "  <thead>\n",
       "    <tr style=\"text-align: right;\">\n",
       "      <th></th>\n",
       "      <th>Store</th>\n",
       "      <th>State</th>\n",
       "    </tr>\n",
       "  </thead>\n",
       "  <tbody>\n",
       "    <tr>\n",
       "      <th>0</th>\n",
       "      <td>1</td>\n",
       "      <td>HE</td>\n",
       "    </tr>\n",
       "    <tr>\n",
       "      <th>1</th>\n",
       "      <td>2</td>\n",
       "      <td>TH</td>\n",
       "    </tr>\n",
       "    <tr>\n",
       "      <th>2</th>\n",
       "      <td>3</td>\n",
       "      <td>NW</td>\n",
       "    </tr>\n",
       "    <tr>\n",
       "      <th>3</th>\n",
       "      <td>4</td>\n",
       "      <td>BE</td>\n",
       "    </tr>\n",
       "    <tr>\n",
       "      <th>4</th>\n",
       "      <td>5</td>\n",
       "      <td>SN</td>\n",
       "    </tr>\n",
       "    <tr>\n",
       "      <th>5</th>\n",
       "      <td>6</td>\n",
       "      <td>SN</td>\n",
       "    </tr>\n",
       "    <tr>\n",
       "      <th>6</th>\n",
       "      <td>7</td>\n",
       "      <td>SH</td>\n",
       "    </tr>\n",
       "    <tr>\n",
       "      <th>7</th>\n",
       "      <td>8</td>\n",
       "      <td>SH</td>\n",
       "    </tr>\n",
       "    <tr>\n",
       "      <th>8</th>\n",
       "      <td>9</td>\n",
       "      <td>NW</td>\n",
       "    </tr>\n",
       "    <tr>\n",
       "      <th>9</th>\n",
       "      <td>10</td>\n",
       "      <td>HB,NI</td>\n",
       "    </tr>\n",
       "    <tr>\n",
       "      <th>10</th>\n",
       "      <td>11</td>\n",
       "      <td>SH</td>\n",
       "    </tr>\n",
       "    <tr>\n",
       "      <th>11</th>\n",
       "      <td>12</td>\n",
       "      <td>SH</td>\n",
       "    </tr>\n",
       "    <tr>\n",
       "      <th>12</th>\n",
       "      <td>13</td>\n",
       "      <td>BY</td>\n",
       "    </tr>\n",
       "    <tr>\n",
       "      <th>13</th>\n",
       "      <td>14</td>\n",
       "      <td>NW</td>\n",
       "    </tr>\n",
       "    <tr>\n",
       "      <th>14</th>\n",
       "      <td>15</td>\n",
       "      <td>SH</td>\n",
       "    </tr>\n",
       "    <tr>\n",
       "      <th>15</th>\n",
       "      <td>16</td>\n",
       "      <td>BW</td>\n",
       "    </tr>\n",
       "    <tr>\n",
       "      <th>16</th>\n",
       "      <td>17</td>\n",
       "      <td>TH</td>\n",
       "    </tr>\n",
       "    <tr>\n",
       "      <th>17</th>\n",
       "      <td>18</td>\n",
       "      <td>TH</td>\n",
       "    </tr>\n",
       "    <tr>\n",
       "      <th>18</th>\n",
       "      <td>19</td>\n",
       "      <td>NW</td>\n",
       "    </tr>\n",
       "    <tr>\n",
       "      <th>19</th>\n",
       "      <td>20</td>\n",
       "      <td>BY</td>\n",
       "    </tr>\n",
       "  </tbody>\n",
       "</table>\n",
       "</div>"
      ],
      "text/plain": [
       "    Store  State\n",
       "0       1     HE\n",
       "1       2     TH\n",
       "2       3     NW\n",
       "3       4     BE\n",
       "4       5     SN\n",
       "5       6     SN\n",
       "6       7     SH\n",
       "7       8     SH\n",
       "8       9     NW\n",
       "9      10  HB,NI\n",
       "10     11     SH\n",
       "11     12     SH\n",
       "12     13     BY\n",
       "13     14     NW\n",
       "14     15     SH\n",
       "15     16     BW\n",
       "16     17     TH\n",
       "17     18     TH\n",
       "18     19     NW\n",
       "19     20     BY"
      ]
     },
     "metadata": {},
     "output_type": "display_data"
    },
    {
     "data": {
      "text/html": [
       "<div>\n",
       "<style scoped>\n",
       "    .dataframe tbody tr th:only-of-type {\n",
       "        vertical-align: middle;\n",
       "    }\n",
       "\n",
       "    .dataframe tbody tr th {\n",
       "        vertical-align: top;\n",
       "    }\n",
       "\n",
       "    .dataframe thead th {\n",
       "        text-align: right;\n",
       "    }\n",
       "</style>\n",
       "<table border=\"1\" class=\"dataframe\">\n",
       "  <thead>\n",
       "    <tr style=\"text-align: right;\">\n",
       "      <th></th>\n",
       "      <th>Store</th>\n",
       "      <th>State</th>\n",
       "    </tr>\n",
       "  </thead>\n",
       "  <tbody>\n",
       "    <tr>\n",
       "      <th>count</th>\n",
       "      <td>1115.0</td>\n",
       "      <td>NaN</td>\n",
       "    </tr>\n",
       "    <tr>\n",
       "      <th>mean</th>\n",
       "      <td>558.0</td>\n",
       "      <td>NaN</td>\n",
       "    </tr>\n",
       "    <tr>\n",
       "      <th>std</th>\n",
       "      <td>322.01708</td>\n",
       "      <td>NaN</td>\n",
       "    </tr>\n",
       "    <tr>\n",
       "      <th>min</th>\n",
       "      <td>1.0</td>\n",
       "      <td>NaN</td>\n",
       "    </tr>\n",
       "    <tr>\n",
       "      <th>25%</th>\n",
       "      <td>279.5</td>\n",
       "      <td>NaN</td>\n",
       "    </tr>\n",
       "    <tr>\n",
       "      <th>50%</th>\n",
       "      <td>558.0</td>\n",
       "      <td>NaN</td>\n",
       "    </tr>\n",
       "    <tr>\n",
       "      <th>75%</th>\n",
       "      <td>836.5</td>\n",
       "      <td>NaN</td>\n",
       "    </tr>\n",
       "    <tr>\n",
       "      <th>max</th>\n",
       "      <td>1115.0</td>\n",
       "      <td>NaN</td>\n",
       "    </tr>\n",
       "    <tr>\n",
       "      <th>counts</th>\n",
       "      <td>1115</td>\n",
       "      <td>1115</td>\n",
       "    </tr>\n",
       "    <tr>\n",
       "      <th>uniques</th>\n",
       "      <td>1115</td>\n",
       "      <td>12</td>\n",
       "    </tr>\n",
       "    <tr>\n",
       "      <th>missing</th>\n",
       "      <td>0</td>\n",
       "      <td>0</td>\n",
       "    </tr>\n",
       "    <tr>\n",
       "      <th>missing_perc</th>\n",
       "      <td>0%</td>\n",
       "      <td>0%</td>\n",
       "    </tr>\n",
       "    <tr>\n",
       "      <th>types</th>\n",
       "      <td>numeric</td>\n",
       "      <td>categorical</td>\n",
       "    </tr>\n",
       "  </tbody>\n",
       "</table>\n",
       "</div>"
      ],
      "text/plain": [
       "                  Store        State\n",
       "count            1115.0          NaN\n",
       "mean              558.0          NaN\n",
       "std           322.01708          NaN\n",
       "min                 1.0          NaN\n",
       "25%               279.5          NaN\n",
       "50%               558.0          NaN\n",
       "75%               836.5          NaN\n",
       "max              1115.0          NaN\n",
       "counts             1115         1115\n",
       "uniques            1115           12\n",
       "missing               0            0\n",
       "missing_perc         0%           0%\n",
       "types           numeric  categorical"
      ]
     },
     "metadata": {},
     "output_type": "display_data"
    }
   ],
   "source": [
    "display(store_states.head(20))\n",
    "display(DataFrameSummary(store_states).summary())"
   ]
  },
  {
   "cell_type": "code",
   "execution_count": 16,
   "id": "99085254-543e-4f5c-9819-ea4bdedeb7e1",
   "metadata": {},
   "outputs": [
    {
     "data": {
      "text/html": [
       "<div>\n",
       "<style scoped>\n",
       "    .dataframe tbody tr th:only-of-type {\n",
       "        vertical-align: middle;\n",
       "    }\n",
       "\n",
       "    .dataframe tbody tr th {\n",
       "        vertical-align: top;\n",
       "    }\n",
       "\n",
       "    .dataframe thead th {\n",
       "        text-align: right;\n",
       "    }\n",
       "</style>\n",
       "<table border=\"1\" class=\"dataframe\">\n",
       "  <thead>\n",
       "    <tr style=\"text-align: right;\">\n",
       "      <th></th>\n",
       "      <th>StateName</th>\n",
       "      <th>State</th>\n",
       "    </tr>\n",
       "  </thead>\n",
       "  <tbody>\n",
       "    <tr>\n",
       "      <th>0</th>\n",
       "      <td>BadenWuerttemberg</td>\n",
       "      <td>BW</td>\n",
       "    </tr>\n",
       "    <tr>\n",
       "      <th>1</th>\n",
       "      <td>Bayern</td>\n",
       "      <td>BY</td>\n",
       "    </tr>\n",
       "    <tr>\n",
       "      <th>2</th>\n",
       "      <td>Berlin</td>\n",
       "      <td>BE</td>\n",
       "    </tr>\n",
       "    <tr>\n",
       "      <th>3</th>\n",
       "      <td>Brandenburg</td>\n",
       "      <td>BB</td>\n",
       "    </tr>\n",
       "    <tr>\n",
       "      <th>4</th>\n",
       "      <td>Bremen</td>\n",
       "      <td>HB</td>\n",
       "    </tr>\n",
       "    <tr>\n",
       "      <th>5</th>\n",
       "      <td>Hamburg</td>\n",
       "      <td>HH</td>\n",
       "    </tr>\n",
       "    <tr>\n",
       "      <th>6</th>\n",
       "      <td>Hessen</td>\n",
       "      <td>HE</td>\n",
       "    </tr>\n",
       "    <tr>\n",
       "      <th>7</th>\n",
       "      <td>MecklenburgVorpommern</td>\n",
       "      <td>MV</td>\n",
       "    </tr>\n",
       "    <tr>\n",
       "      <th>8</th>\n",
       "      <td>Niedersachsen</td>\n",
       "      <td>HB,NI</td>\n",
       "    </tr>\n",
       "    <tr>\n",
       "      <th>9</th>\n",
       "      <td>NordrheinWestfalen</td>\n",
       "      <td>NW</td>\n",
       "    </tr>\n",
       "    <tr>\n",
       "      <th>10</th>\n",
       "      <td>RheinlandPfalz</td>\n",
       "      <td>RP</td>\n",
       "    </tr>\n",
       "    <tr>\n",
       "      <th>11</th>\n",
       "      <td>Saarland</td>\n",
       "      <td>SL</td>\n",
       "    </tr>\n",
       "    <tr>\n",
       "      <th>12</th>\n",
       "      <td>Sachsen</td>\n",
       "      <td>SN</td>\n",
       "    </tr>\n",
       "    <tr>\n",
       "      <th>13</th>\n",
       "      <td>SachsenAnhalt</td>\n",
       "      <td>ST</td>\n",
       "    </tr>\n",
       "    <tr>\n",
       "      <th>14</th>\n",
       "      <td>SchleswigHolstein</td>\n",
       "      <td>SH</td>\n",
       "    </tr>\n",
       "    <tr>\n",
       "      <th>15</th>\n",
       "      <td>Thueringen</td>\n",
       "      <td>TH</td>\n",
       "    </tr>\n",
       "  </tbody>\n",
       "</table>\n",
       "</div>"
      ],
      "text/plain": [
       "                StateName  State\n",
       "0       BadenWuerttemberg     BW\n",
       "1                  Bayern     BY\n",
       "2                  Berlin     BE\n",
       "3             Brandenburg     BB\n",
       "4                  Bremen     HB\n",
       "5                 Hamburg     HH\n",
       "6                  Hessen     HE\n",
       "7   MecklenburgVorpommern     MV\n",
       "8           Niedersachsen  HB,NI\n",
       "9      NordrheinWestfalen     NW\n",
       "10         RheinlandPfalz     RP\n",
       "11               Saarland     SL\n",
       "12                Sachsen     SN\n",
       "13          SachsenAnhalt     ST\n",
       "14      SchleswigHolstein     SH\n",
       "15             Thueringen     TH"
      ]
     },
     "metadata": {},
     "output_type": "display_data"
    },
    {
     "data": {
      "text/html": [
       "<div>\n",
       "<style scoped>\n",
       "    .dataframe tbody tr th:only-of-type {\n",
       "        vertical-align: middle;\n",
       "    }\n",
       "\n",
       "    .dataframe tbody tr th {\n",
       "        vertical-align: top;\n",
       "    }\n",
       "\n",
       "    .dataframe thead th {\n",
       "        text-align: right;\n",
       "    }\n",
       "</style>\n",
       "<table border=\"1\" class=\"dataframe\">\n",
       "  <thead>\n",
       "    <tr style=\"text-align: right;\">\n",
       "      <th></th>\n",
       "      <th>StateName</th>\n",
       "      <th>State</th>\n",
       "    </tr>\n",
       "  </thead>\n",
       "  <tbody>\n",
       "    <tr>\n",
       "      <th>count</th>\n",
       "      <td>16</td>\n",
       "      <td>16</td>\n",
       "    </tr>\n",
       "    <tr>\n",
       "      <th>unique</th>\n",
       "      <td>16</td>\n",
       "      <td>16</td>\n",
       "    </tr>\n",
       "    <tr>\n",
       "      <th>top</th>\n",
       "      <td>BadenWuerttemberg</td>\n",
       "      <td>BW</td>\n",
       "    </tr>\n",
       "    <tr>\n",
       "      <th>freq</th>\n",
       "      <td>1</td>\n",
       "      <td>1</td>\n",
       "    </tr>\n",
       "    <tr>\n",
       "      <th>counts</th>\n",
       "      <td>16</td>\n",
       "      <td>16</td>\n",
       "    </tr>\n",
       "    <tr>\n",
       "      <th>uniques</th>\n",
       "      <td>16</td>\n",
       "      <td>16</td>\n",
       "    </tr>\n",
       "    <tr>\n",
       "      <th>missing</th>\n",
       "      <td>0</td>\n",
       "      <td>0</td>\n",
       "    </tr>\n",
       "    <tr>\n",
       "      <th>missing_perc</th>\n",
       "      <td>0%</td>\n",
       "      <td>0%</td>\n",
       "    </tr>\n",
       "    <tr>\n",
       "      <th>types</th>\n",
       "      <td>unique</td>\n",
       "      <td>unique</td>\n",
       "    </tr>\n",
       "  </tbody>\n",
       "</table>\n",
       "</div>"
      ],
      "text/plain": [
       "                      StateName   State\n",
       "count                        16      16\n",
       "unique                       16      16\n",
       "top           BadenWuerttemberg      BW\n",
       "freq                          1       1\n",
       "counts                       16      16\n",
       "uniques                      16      16\n",
       "missing                       0       0\n",
       "missing_perc                 0%      0%\n",
       "types                    unique  unique"
      ]
     },
     "metadata": {},
     "output_type": "display_data"
    }
   ],
   "source": [
    "display(state_names.head(20))\n",
    "display(DataFrameSummary(state_names).summary())"
   ]
  },
  {
   "cell_type": "code",
   "execution_count": 17,
   "id": "41e08046-383a-4679-bf3e-1727dbb45374",
   "metadata": {},
   "outputs": [
    {
     "data": {
      "text/html": [
       "<div>\n",
       "<style scoped>\n",
       "    .dataframe tbody tr th:only-of-type {\n",
       "        vertical-align: middle;\n",
       "    }\n",
       "\n",
       "    .dataframe tbody tr th {\n",
       "        vertical-align: top;\n",
       "    }\n",
       "\n",
       "    .dataframe thead th {\n",
       "        text-align: right;\n",
       "    }\n",
       "</style>\n",
       "<table border=\"1\" class=\"dataframe\">\n",
       "  <thead>\n",
       "    <tr style=\"text-align: right;\">\n",
       "      <th></th>\n",
       "      <th>file</th>\n",
       "      <th>week</th>\n",
       "      <th>trend</th>\n",
       "    </tr>\n",
       "  </thead>\n",
       "  <tbody>\n",
       "    <tr>\n",
       "      <th>0</th>\n",
       "      <td>Rossmann_DE_SN</td>\n",
       "      <td>2012-12-02 - 2012-12-08</td>\n",
       "      <td>96</td>\n",
       "    </tr>\n",
       "    <tr>\n",
       "      <th>1</th>\n",
       "      <td>Rossmann_DE_SN</td>\n",
       "      <td>2012-12-09 - 2012-12-15</td>\n",
       "      <td>95</td>\n",
       "    </tr>\n",
       "    <tr>\n",
       "      <th>2</th>\n",
       "      <td>Rossmann_DE_SN</td>\n",
       "      <td>2012-12-16 - 2012-12-22</td>\n",
       "      <td>91</td>\n",
       "    </tr>\n",
       "    <tr>\n",
       "      <th>3</th>\n",
       "      <td>Rossmann_DE_SN</td>\n",
       "      <td>2012-12-23 - 2012-12-29</td>\n",
       "      <td>48</td>\n",
       "    </tr>\n",
       "    <tr>\n",
       "      <th>4</th>\n",
       "      <td>Rossmann_DE_SN</td>\n",
       "      <td>2012-12-30 - 2013-01-05</td>\n",
       "      <td>67</td>\n",
       "    </tr>\n",
       "    <tr>\n",
       "      <th>...</th>\n",
       "      <td>...</td>\n",
       "      <td>...</td>\n",
       "      <td>...</td>\n",
       "    </tr>\n",
       "    <tr>\n",
       "      <th>2067</th>\n",
       "      <td>Rossmann_DE_SL</td>\n",
       "      <td>2015-08-30 - 2015-09-05</td>\n",
       "      <td>95</td>\n",
       "    </tr>\n",
       "    <tr>\n",
       "      <th>2068</th>\n",
       "      <td>Rossmann_DE_SL</td>\n",
       "      <td>2015-09-06 - 2015-09-12</td>\n",
       "      <td>47</td>\n",
       "    </tr>\n",
       "    <tr>\n",
       "      <th>2069</th>\n",
       "      <td>Rossmann_DE_SL</td>\n",
       "      <td>2015-09-13 - 2015-09-19</td>\n",
       "      <td>80</td>\n",
       "    </tr>\n",
       "    <tr>\n",
       "      <th>2070</th>\n",
       "      <td>Rossmann_DE_SL</td>\n",
       "      <td>2015-09-20 - 2015-09-26</td>\n",
       "      <td>57</td>\n",
       "    </tr>\n",
       "    <tr>\n",
       "      <th>2071</th>\n",
       "      <td>Rossmann_DE_SL</td>\n",
       "      <td>2015-09-27 - 2015-10-03</td>\n",
       "      <td>0</td>\n",
       "    </tr>\n",
       "  </tbody>\n",
       "</table>\n",
       "<p>2072 rows × 3 columns</p>\n",
       "</div>"
      ],
      "text/plain": [
       "                file                     week  trend\n",
       "0     Rossmann_DE_SN  2012-12-02 - 2012-12-08     96\n",
       "1     Rossmann_DE_SN  2012-12-09 - 2012-12-15     95\n",
       "2     Rossmann_DE_SN  2012-12-16 - 2012-12-22     91\n",
       "3     Rossmann_DE_SN  2012-12-23 - 2012-12-29     48\n",
       "4     Rossmann_DE_SN  2012-12-30 - 2013-01-05     67\n",
       "...              ...                      ...    ...\n",
       "2067  Rossmann_DE_SL  2015-08-30 - 2015-09-05     95\n",
       "2068  Rossmann_DE_SL  2015-09-06 - 2015-09-12     47\n",
       "2069  Rossmann_DE_SL  2015-09-13 - 2015-09-19     80\n",
       "2070  Rossmann_DE_SL  2015-09-20 - 2015-09-26     57\n",
       "2071  Rossmann_DE_SL  2015-09-27 - 2015-10-03      0\n",
       "\n",
       "[2072 rows x 3 columns]"
      ]
     },
     "metadata": {},
     "output_type": "display_data"
    },
    {
     "data": {
      "text/html": [
       "<div>\n",
       "<style scoped>\n",
       "    .dataframe tbody tr th:only-of-type {\n",
       "        vertical-align: middle;\n",
       "    }\n",
       "\n",
       "    .dataframe tbody tr th {\n",
       "        vertical-align: top;\n",
       "    }\n",
       "\n",
       "    .dataframe thead th {\n",
       "        text-align: right;\n",
       "    }\n",
       "</style>\n",
       "<table border=\"1\" class=\"dataframe\">\n",
       "  <thead>\n",
       "    <tr style=\"text-align: right;\">\n",
       "      <th></th>\n",
       "      <th>file</th>\n",
       "      <th>week</th>\n",
       "      <th>trend</th>\n",
       "    </tr>\n",
       "  </thead>\n",
       "  <tbody>\n",
       "    <tr>\n",
       "      <th>count</th>\n",
       "      <td>NaN</td>\n",
       "      <td>NaN</td>\n",
       "      <td>2072.0</td>\n",
       "    </tr>\n",
       "    <tr>\n",
       "      <th>mean</th>\n",
       "      <td>NaN</td>\n",
       "      <td>NaN</td>\n",
       "      <td>63.814189</td>\n",
       "    </tr>\n",
       "    <tr>\n",
       "      <th>std</th>\n",
       "      <td>NaN</td>\n",
       "      <td>NaN</td>\n",
       "      <td>12.650246</td>\n",
       "    </tr>\n",
       "    <tr>\n",
       "      <th>min</th>\n",
       "      <td>NaN</td>\n",
       "      <td>NaN</td>\n",
       "      <td>0.0</td>\n",
       "    </tr>\n",
       "    <tr>\n",
       "      <th>25%</th>\n",
       "      <td>NaN</td>\n",
       "      <td>NaN</td>\n",
       "      <td>55.0</td>\n",
       "    </tr>\n",
       "    <tr>\n",
       "      <th>50%</th>\n",
       "      <td>NaN</td>\n",
       "      <td>NaN</td>\n",
       "      <td>64.0</td>\n",
       "    </tr>\n",
       "    <tr>\n",
       "      <th>75%</th>\n",
       "      <td>NaN</td>\n",
       "      <td>NaN</td>\n",
       "      <td>72.0</td>\n",
       "    </tr>\n",
       "    <tr>\n",
       "      <th>max</th>\n",
       "      <td>NaN</td>\n",
       "      <td>NaN</td>\n",
       "      <td>100.0</td>\n",
       "    </tr>\n",
       "    <tr>\n",
       "      <th>counts</th>\n",
       "      <td>2072</td>\n",
       "      <td>2072</td>\n",
       "      <td>2072</td>\n",
       "    </tr>\n",
       "    <tr>\n",
       "      <th>uniques</th>\n",
       "      <td>14</td>\n",
       "      <td>148</td>\n",
       "      <td>68</td>\n",
       "    </tr>\n",
       "    <tr>\n",
       "      <th>missing</th>\n",
       "      <td>0</td>\n",
       "      <td>0</td>\n",
       "      <td>0</td>\n",
       "    </tr>\n",
       "    <tr>\n",
       "      <th>missing_perc</th>\n",
       "      <td>0%</td>\n",
       "      <td>0%</td>\n",
       "      <td>0%</td>\n",
       "    </tr>\n",
       "    <tr>\n",
       "      <th>types</th>\n",
       "      <td>categorical</td>\n",
       "      <td>categorical</td>\n",
       "      <td>numeric</td>\n",
       "    </tr>\n",
       "  </tbody>\n",
       "</table>\n",
       "</div>"
      ],
      "text/plain": [
       "                     file         week      trend\n",
       "count                 NaN          NaN     2072.0\n",
       "mean                  NaN          NaN  63.814189\n",
       "std                   NaN          NaN  12.650246\n",
       "min                   NaN          NaN        0.0\n",
       "25%                   NaN          NaN       55.0\n",
       "50%                   NaN          NaN       64.0\n",
       "75%                   NaN          NaN       72.0\n",
       "max                   NaN          NaN      100.0\n",
       "counts               2072         2072       2072\n",
       "uniques                14          148         68\n",
       "missing                 0            0          0\n",
       "missing_perc           0%           0%         0%\n",
       "types         categorical  categorical    numeric"
      ]
     },
     "metadata": {},
     "output_type": "display_data"
    }
   ],
   "source": [
    "display(googletrend)\n",
    "display(DataFrameSummary(googletrend).summary())"
   ]
  },
  {
   "cell_type": "markdown",
   "id": "6d4e70bd-3eb7-4ca9-8d12-6309707ef40c",
   "metadata": {},
   "source": [
    "Google Trend: términos de búsqueda más populares del pasado reciente"
   ]
  },
  {
   "cell_type": "code",
   "execution_count": 18,
   "id": "71bfdfbc-6ce9-4466-b5a2-db4aafba0f49",
   "metadata": {},
   "outputs": [
    {
     "data": {
      "text/html": [
       "<div>\n",
       "<style scoped>\n",
       "    .dataframe tbody tr th:only-of-type {\n",
       "        vertical-align: middle;\n",
       "    }\n",
       "\n",
       "    .dataframe tbody tr th {\n",
       "        vertical-align: top;\n",
       "    }\n",
       "\n",
       "    .dataframe thead th {\n",
       "        text-align: right;\n",
       "    }\n",
       "</style>\n",
       "<table border=\"1\" class=\"dataframe\">\n",
       "  <thead>\n",
       "    <tr style=\"text-align: right;\">\n",
       "      <th></th>\n",
       "      <th>file</th>\n",
       "      <th>Date</th>\n",
       "      <th>Max_TemperatureC</th>\n",
       "      <th>Mean_TemperatureC</th>\n",
       "      <th>Min_TemperatureC</th>\n",
       "      <th>Dew_PointC</th>\n",
       "      <th>MeanDew_PointC</th>\n",
       "      <th>Min_DewpointC</th>\n",
       "      <th>Max_Humidity</th>\n",
       "      <th>Mean_Humidity</th>\n",
       "      <th>...</th>\n",
       "      <th>Max_VisibilityKm</th>\n",
       "      <th>Mean_VisibilityKm</th>\n",
       "      <th>Min_VisibilitykM</th>\n",
       "      <th>Max_Wind_SpeedKm_h</th>\n",
       "      <th>Mean_Wind_SpeedKm_h</th>\n",
       "      <th>Max_Gust_SpeedKm_h</th>\n",
       "      <th>Precipitationmm</th>\n",
       "      <th>CloudCover</th>\n",
       "      <th>Events</th>\n",
       "      <th>WindDirDegrees</th>\n",
       "    </tr>\n",
       "  </thead>\n",
       "  <tbody>\n",
       "    <tr>\n",
       "      <th>0</th>\n",
       "      <td>NordrheinWestfalen</td>\n",
       "      <td>2013-01-01</td>\n",
       "      <td>8</td>\n",
       "      <td>4</td>\n",
       "      <td>2</td>\n",
       "      <td>7</td>\n",
       "      <td>5</td>\n",
       "      <td>1</td>\n",
       "      <td>94</td>\n",
       "      <td>87</td>\n",
       "      <td>...</td>\n",
       "      <td>31.0</td>\n",
       "      <td>12.0</td>\n",
       "      <td>4.0</td>\n",
       "      <td>39</td>\n",
       "      <td>26</td>\n",
       "      <td>58.0</td>\n",
       "      <td>5.08</td>\n",
       "      <td>6.0</td>\n",
       "      <td>Rain</td>\n",
       "      <td>215</td>\n",
       "    </tr>\n",
       "    <tr>\n",
       "      <th>1</th>\n",
       "      <td>NordrheinWestfalen</td>\n",
       "      <td>2013-01-02</td>\n",
       "      <td>7</td>\n",
       "      <td>4</td>\n",
       "      <td>1</td>\n",
       "      <td>5</td>\n",
       "      <td>3</td>\n",
       "      <td>2</td>\n",
       "      <td>93</td>\n",
       "      <td>85</td>\n",
       "      <td>...</td>\n",
       "      <td>31.0</td>\n",
       "      <td>14.0</td>\n",
       "      <td>10.0</td>\n",
       "      <td>24</td>\n",
       "      <td>16</td>\n",
       "      <td>NaN</td>\n",
       "      <td>0.00</td>\n",
       "      <td>6.0</td>\n",
       "      <td>Rain</td>\n",
       "      <td>225</td>\n",
       "    </tr>\n",
       "    <tr>\n",
       "      <th>2</th>\n",
       "      <td>NordrheinWestfalen</td>\n",
       "      <td>2013-01-03</td>\n",
       "      <td>11</td>\n",
       "      <td>8</td>\n",
       "      <td>6</td>\n",
       "      <td>10</td>\n",
       "      <td>8</td>\n",
       "      <td>4</td>\n",
       "      <td>100</td>\n",
       "      <td>93</td>\n",
       "      <td>...</td>\n",
       "      <td>31.0</td>\n",
       "      <td>8.0</td>\n",
       "      <td>2.0</td>\n",
       "      <td>26</td>\n",
       "      <td>21</td>\n",
       "      <td>NaN</td>\n",
       "      <td>1.02</td>\n",
       "      <td>7.0</td>\n",
       "      <td>Rain</td>\n",
       "      <td>240</td>\n",
       "    </tr>\n",
       "    <tr>\n",
       "      <th>3</th>\n",
       "      <td>NordrheinWestfalen</td>\n",
       "      <td>2013-01-04</td>\n",
       "      <td>9</td>\n",
       "      <td>9</td>\n",
       "      <td>8</td>\n",
       "      <td>9</td>\n",
       "      <td>9</td>\n",
       "      <td>8</td>\n",
       "      <td>100</td>\n",
       "      <td>94</td>\n",
       "      <td>...</td>\n",
       "      <td>11.0</td>\n",
       "      <td>5.0</td>\n",
       "      <td>2.0</td>\n",
       "      <td>23</td>\n",
       "      <td>14</td>\n",
       "      <td>NaN</td>\n",
       "      <td>0.25</td>\n",
       "      <td>7.0</td>\n",
       "      <td>Rain</td>\n",
       "      <td>263</td>\n",
       "    </tr>\n",
       "    <tr>\n",
       "      <th>4</th>\n",
       "      <td>NordrheinWestfalen</td>\n",
       "      <td>2013-01-05</td>\n",
       "      <td>8</td>\n",
       "      <td>8</td>\n",
       "      <td>7</td>\n",
       "      <td>8</td>\n",
       "      <td>7</td>\n",
       "      <td>6</td>\n",
       "      <td>100</td>\n",
       "      <td>94</td>\n",
       "      <td>...</td>\n",
       "      <td>10.0</td>\n",
       "      <td>6.0</td>\n",
       "      <td>3.0</td>\n",
       "      <td>16</td>\n",
       "      <td>10</td>\n",
       "      <td>NaN</td>\n",
       "      <td>0.00</td>\n",
       "      <td>7.0</td>\n",
       "      <td>Rain</td>\n",
       "      <td>268</td>\n",
       "    </tr>\n",
       "    <tr>\n",
       "      <th>...</th>\n",
       "      <td>...</td>\n",
       "      <td>...</td>\n",
       "      <td>...</td>\n",
       "      <td>...</td>\n",
       "      <td>...</td>\n",
       "      <td>...</td>\n",
       "      <td>...</td>\n",
       "      <td>...</td>\n",
       "      <td>...</td>\n",
       "      <td>...</td>\n",
       "      <td>...</td>\n",
       "      <td>...</td>\n",
       "      <td>...</td>\n",
       "      <td>...</td>\n",
       "      <td>...</td>\n",
       "      <td>...</td>\n",
       "      <td>...</td>\n",
       "      <td>...</td>\n",
       "      <td>...</td>\n",
       "      <td>...</td>\n",
       "      <td>...</td>\n",
       "    </tr>\n",
       "    <tr>\n",
       "      <th>15835</th>\n",
       "      <td>Saarland</td>\n",
       "      <td>2015-09-13</td>\n",
       "      <td>21</td>\n",
       "      <td>17</td>\n",
       "      <td>12</td>\n",
       "      <td>16</td>\n",
       "      <td>14</td>\n",
       "      <td>12</td>\n",
       "      <td>100</td>\n",
       "      <td>88</td>\n",
       "      <td>...</td>\n",
       "      <td>31.0</td>\n",
       "      <td>15.0</td>\n",
       "      <td>10.0</td>\n",
       "      <td>27</td>\n",
       "      <td>10</td>\n",
       "      <td>50.0</td>\n",
       "      <td>1.02</td>\n",
       "      <td>7.0</td>\n",
       "      <td>Rain</td>\n",
       "      <td>113</td>\n",
       "    </tr>\n",
       "    <tr>\n",
       "      <th>15836</th>\n",
       "      <td>Saarland</td>\n",
       "      <td>2015-09-14</td>\n",
       "      <td>18</td>\n",
       "      <td>14</td>\n",
       "      <td>11</td>\n",
       "      <td>15</td>\n",
       "      <td>12</td>\n",
       "      <td>7</td>\n",
       "      <td>99</td>\n",
       "      <td>85</td>\n",
       "      <td>...</td>\n",
       "      <td>31.0</td>\n",
       "      <td>13.0</td>\n",
       "      <td>4.0</td>\n",
       "      <td>32</td>\n",
       "      <td>16</td>\n",
       "      <td>53.0</td>\n",
       "      <td>9.91</td>\n",
       "      <td>5.0</td>\n",
       "      <td>Rain-Thunderstorm</td>\n",
       "      <td>213</td>\n",
       "    </tr>\n",
       "    <tr>\n",
       "      <th>15837</th>\n",
       "      <td>Saarland</td>\n",
       "      <td>2015-09-15</td>\n",
       "      <td>16</td>\n",
       "      <td>12</td>\n",
       "      <td>9</td>\n",
       "      <td>11</td>\n",
       "      <td>8</td>\n",
       "      <td>7</td>\n",
       "      <td>93</td>\n",
       "      <td>77</td>\n",
       "      <td>...</td>\n",
       "      <td>31.0</td>\n",
       "      <td>12.0</td>\n",
       "      <td>10.0</td>\n",
       "      <td>34</td>\n",
       "      <td>14</td>\n",
       "      <td>NaN</td>\n",
       "      <td>0.00</td>\n",
       "      <td>5.0</td>\n",
       "      <td>Rain</td>\n",
       "      <td>193</td>\n",
       "    </tr>\n",
       "    <tr>\n",
       "      <th>15838</th>\n",
       "      <td>Saarland</td>\n",
       "      <td>2015-09-16</td>\n",
       "      <td>19</td>\n",
       "      <td>15</td>\n",
       "      <td>11</td>\n",
       "      <td>16</td>\n",
       "      <td>13</td>\n",
       "      <td>10</td>\n",
       "      <td>97</td>\n",
       "      <td>90</td>\n",
       "      <td>...</td>\n",
       "      <td>31.0</td>\n",
       "      <td>10.0</td>\n",
       "      <td>4.0</td>\n",
       "      <td>32</td>\n",
       "      <td>14</td>\n",
       "      <td>45.0</td>\n",
       "      <td>20.07</td>\n",
       "      <td>7.0</td>\n",
       "      <td>Rain-Thunderstorm</td>\n",
       "      <td>147</td>\n",
       "    </tr>\n",
       "    <tr>\n",
       "      <th>15839</th>\n",
       "      <td>Saarland</td>\n",
       "      <td>2015-09-17</td>\n",
       "      <td>14</td>\n",
       "      <td>13</td>\n",
       "      <td>12</td>\n",
       "      <td>14</td>\n",
       "      <td>12</td>\n",
       "      <td>10</td>\n",
       "      <td>99</td>\n",
       "      <td>92</td>\n",
       "      <td>...</td>\n",
       "      <td>31.0</td>\n",
       "      <td>14.0</td>\n",
       "      <td>8.0</td>\n",
       "      <td>27</td>\n",
       "      <td>16</td>\n",
       "      <td>47.0</td>\n",
       "      <td>6.10</td>\n",
       "      <td>6.0</td>\n",
       "      <td>Rain</td>\n",
       "      <td>202</td>\n",
       "    </tr>\n",
       "  </tbody>\n",
       "</table>\n",
       "<p>15840 rows × 24 columns</p>\n",
       "</div>"
      ],
      "text/plain": [
       "                     file        Date  Max_TemperatureC  Mean_TemperatureC  \\\n",
       "0      NordrheinWestfalen  2013-01-01                 8                  4   \n",
       "1      NordrheinWestfalen  2013-01-02                 7                  4   \n",
       "2      NordrheinWestfalen  2013-01-03                11                  8   \n",
       "3      NordrheinWestfalen  2013-01-04                 9                  9   \n",
       "4      NordrheinWestfalen  2013-01-05                 8                  8   \n",
       "...                   ...         ...               ...                ...   \n",
       "15835            Saarland  2015-09-13                21                 17   \n",
       "15836            Saarland  2015-09-14                18                 14   \n",
       "15837            Saarland  2015-09-15                16                 12   \n",
       "15838            Saarland  2015-09-16                19                 15   \n",
       "15839            Saarland  2015-09-17                14                 13   \n",
       "\n",
       "       Min_TemperatureC  Dew_PointC  MeanDew_PointC  Min_DewpointC  \\\n",
       "0                     2           7               5              1   \n",
       "1                     1           5               3              2   \n",
       "2                     6          10               8              4   \n",
       "3                     8           9               9              8   \n",
       "4                     7           8               7              6   \n",
       "...                 ...         ...             ...            ...   \n",
       "15835                12          16              14             12   \n",
       "15836                11          15              12              7   \n",
       "15837                 9          11               8              7   \n",
       "15838                11          16              13             10   \n",
       "15839                12          14              12             10   \n",
       "\n",
       "       Max_Humidity  Mean_Humidity  ...  Max_VisibilityKm  Mean_VisibilityKm  \\\n",
       "0                94             87  ...              31.0               12.0   \n",
       "1                93             85  ...              31.0               14.0   \n",
       "2               100             93  ...              31.0                8.0   \n",
       "3               100             94  ...              11.0                5.0   \n",
       "4               100             94  ...              10.0                6.0   \n",
       "...             ...            ...  ...               ...                ...   \n",
       "15835           100             88  ...              31.0               15.0   \n",
       "15836            99             85  ...              31.0               13.0   \n",
       "15837            93             77  ...              31.0               12.0   \n",
       "15838            97             90  ...              31.0               10.0   \n",
       "15839            99             92  ...              31.0               14.0   \n",
       "\n",
       "       Min_VisibilitykM  Max_Wind_SpeedKm_h  Mean_Wind_SpeedKm_h  \\\n",
       "0                   4.0                  39                   26   \n",
       "1                  10.0                  24                   16   \n",
       "2                   2.0                  26                   21   \n",
       "3                   2.0                  23                   14   \n",
       "4                   3.0                  16                   10   \n",
       "...                 ...                 ...                  ...   \n",
       "15835              10.0                  27                   10   \n",
       "15836               4.0                  32                   16   \n",
       "15837              10.0                  34                   14   \n",
       "15838               4.0                  32                   14   \n",
       "15839               8.0                  27                   16   \n",
       "\n",
       "       Max_Gust_SpeedKm_h  Precipitationmm  CloudCover             Events  \\\n",
       "0                    58.0             5.08         6.0               Rain   \n",
       "1                     NaN             0.00         6.0               Rain   \n",
       "2                     NaN             1.02         7.0               Rain   \n",
       "3                     NaN             0.25         7.0               Rain   \n",
       "4                     NaN             0.00         7.0               Rain   \n",
       "...                   ...              ...         ...                ...   \n",
       "15835                50.0             1.02         7.0               Rain   \n",
       "15836                53.0             9.91         5.0  Rain-Thunderstorm   \n",
       "15837                 NaN             0.00         5.0               Rain   \n",
       "15838                45.0            20.07         7.0  Rain-Thunderstorm   \n",
       "15839                47.0             6.10         6.0               Rain   \n",
       "\n",
       "       WindDirDegrees  \n",
       "0                 215  \n",
       "1                 225  \n",
       "2                 240  \n",
       "3                 263  \n",
       "4                 268  \n",
       "...               ...  \n",
       "15835             113  \n",
       "15836             213  \n",
       "15837             193  \n",
       "15838             147  \n",
       "15839             202  \n",
       "\n",
       "[15840 rows x 24 columns]"
      ]
     },
     "metadata": {},
     "output_type": "display_data"
    },
    {
     "data": {
      "text/html": [
       "<div>\n",
       "<style scoped>\n",
       "    .dataframe tbody tr th:only-of-type {\n",
       "        vertical-align: middle;\n",
       "    }\n",
       "\n",
       "    .dataframe tbody tr th {\n",
       "        vertical-align: top;\n",
       "    }\n",
       "\n",
       "    .dataframe thead th {\n",
       "        text-align: right;\n",
       "    }\n",
       "</style>\n",
       "<table border=\"1\" class=\"dataframe\">\n",
       "  <thead>\n",
       "    <tr style=\"text-align: right;\">\n",
       "      <th></th>\n",
       "      <th>Max_TemperatureC</th>\n",
       "      <th>Mean_TemperatureC</th>\n",
       "      <th>Min_TemperatureC</th>\n",
       "      <th>Max_Humidity</th>\n",
       "      <th>Mean_Humidity</th>\n",
       "      <th>Min_Humidity</th>\n",
       "      <th>Max_Wind_SpeedKm_h</th>\n",
       "      <th>Mean_Wind_SpeedKm_h</th>\n",
       "      <th>CloudCover</th>\n",
       "      <th>Precipitationmm</th>\n",
       "    </tr>\n",
       "  </thead>\n",
       "  <tbody>\n",
       "    <tr>\n",
       "      <th>count</th>\n",
       "      <td>15840.0</td>\n",
       "      <td>15840.0</td>\n",
       "      <td>15840.0</td>\n",
       "      <td>15840.0</td>\n",
       "      <td>15840.0</td>\n",
       "      <td>15840.0</td>\n",
       "      <td>15840.0</td>\n",
       "      <td>15840.0</td>\n",
       "      <td>14667.0</td>\n",
       "      <td>15840.0</td>\n",
       "    </tr>\n",
       "    <tr>\n",
       "      <th>mean</th>\n",
       "      <td>14.644129</td>\n",
       "      <td>10.388952</td>\n",
       "      <td>6.19899</td>\n",
       "      <td>93.659596</td>\n",
       "      <td>74.282891</td>\n",
       "      <td>50.158586</td>\n",
       "      <td>22.766604</td>\n",
       "      <td>11.972222</td>\n",
       "      <td>5.551306</td>\n",
       "      <td>0.831718</td>\n",
       "    </tr>\n",
       "    <tr>\n",
       "      <th>std</th>\n",
       "      <td>8.646012</td>\n",
       "      <td>7.37926</td>\n",
       "      <td>6.526391</td>\n",
       "      <td>7.67853</td>\n",
       "      <td>13.486552</td>\n",
       "      <td>19.960216</td>\n",
       "      <td>8.988618</td>\n",
       "      <td>5.872844</td>\n",
       "      <td>1.68771</td>\n",
       "      <td>2.513506</td>\n",
       "    </tr>\n",
       "    <tr>\n",
       "      <th>min</th>\n",
       "      <td>-11.0</td>\n",
       "      <td>-13.0</td>\n",
       "      <td>-15.0</td>\n",
       "      <td>44.0</td>\n",
       "      <td>30.0</td>\n",
       "      <td>4.0</td>\n",
       "      <td>3.0</td>\n",
       "      <td>2.0</td>\n",
       "      <td>0.0</td>\n",
       "      <td>0.0</td>\n",
       "    </tr>\n",
       "    <tr>\n",
       "      <th>25%</th>\n",
       "      <td>8.0</td>\n",
       "      <td>4.0</td>\n",
       "      <td>1.0</td>\n",
       "      <td>90.75</td>\n",
       "      <td>65.0</td>\n",
       "      <td>34.0</td>\n",
       "      <td>16.0</td>\n",
       "      <td>8.0</td>\n",
       "      <td>5.0</td>\n",
       "      <td>0.0</td>\n",
       "    </tr>\n",
       "    <tr>\n",
       "      <th>50%</th>\n",
       "      <td>15.0</td>\n",
       "      <td>11.0</td>\n",
       "      <td>7.0</td>\n",
       "      <td>94.0</td>\n",
       "      <td>76.0</td>\n",
       "      <td>49.0</td>\n",
       "      <td>21.0</td>\n",
       "      <td>11.0</td>\n",
       "      <td>6.0</td>\n",
       "      <td>0.0</td>\n",
       "    </tr>\n",
       "    <tr>\n",
       "      <th>75%</th>\n",
       "      <td>21.0</td>\n",
       "      <td>16.0</td>\n",
       "      <td>11.0</td>\n",
       "      <td>100.0</td>\n",
       "      <td>85.0</td>\n",
       "      <td>66.0</td>\n",
       "      <td>27.0</td>\n",
       "      <td>14.0</td>\n",
       "      <td>7.0</td>\n",
       "      <td>0.25</td>\n",
       "    </tr>\n",
       "    <tr>\n",
       "      <th>max</th>\n",
       "      <td>39.0</td>\n",
       "      <td>31.0</td>\n",
       "      <td>24.0</td>\n",
       "      <td>100.0</td>\n",
       "      <td>100.0</td>\n",
       "      <td>100.0</td>\n",
       "      <td>101.0</td>\n",
       "      <td>53.0</td>\n",
       "      <td>8.0</td>\n",
       "      <td>58.93</td>\n",
       "    </tr>\n",
       "    <tr>\n",
       "      <th>counts</th>\n",
       "      <td>15840</td>\n",
       "      <td>15840</td>\n",
       "      <td>15840</td>\n",
       "      <td>15840</td>\n",
       "      <td>15840</td>\n",
       "      <td>15840</td>\n",
       "      <td>15840</td>\n",
       "      <td>15840</td>\n",
       "      <td>14667</td>\n",
       "      <td>15840</td>\n",
       "    </tr>\n",
       "    <tr>\n",
       "      <th>uniques</th>\n",
       "      <td>51</td>\n",
       "      <td>45</td>\n",
       "      <td>40</td>\n",
       "      <td>53</td>\n",
       "      <td>71</td>\n",
       "      <td>93</td>\n",
       "      <td>44</td>\n",
       "      <td>29</td>\n",
       "      <td>9</td>\n",
       "      <td>41</td>\n",
       "    </tr>\n",
       "    <tr>\n",
       "      <th>missing</th>\n",
       "      <td>0</td>\n",
       "      <td>0</td>\n",
       "      <td>0</td>\n",
       "      <td>0</td>\n",
       "      <td>0</td>\n",
       "      <td>0</td>\n",
       "      <td>0</td>\n",
       "      <td>0</td>\n",
       "      <td>1173</td>\n",
       "      <td>0</td>\n",
       "    </tr>\n",
       "    <tr>\n",
       "      <th>missing_perc</th>\n",
       "      <td>0%</td>\n",
       "      <td>0%</td>\n",
       "      <td>0%</td>\n",
       "      <td>0%</td>\n",
       "      <td>0%</td>\n",
       "      <td>0%</td>\n",
       "      <td>0%</td>\n",
       "      <td>0%</td>\n",
       "      <td>7.41%</td>\n",
       "      <td>0%</td>\n",
       "    </tr>\n",
       "    <tr>\n",
       "      <th>types</th>\n",
       "      <td>numeric</td>\n",
       "      <td>numeric</td>\n",
       "      <td>numeric</td>\n",
       "      <td>numeric</td>\n",
       "      <td>numeric</td>\n",
       "      <td>numeric</td>\n",
       "      <td>numeric</td>\n",
       "      <td>numeric</td>\n",
       "      <td>numeric</td>\n",
       "      <td>numeric</td>\n",
       "    </tr>\n",
       "  </tbody>\n",
       "</table>\n",
       "</div>"
      ],
      "text/plain": [
       "             Max_TemperatureC Mean_TemperatureC Min_TemperatureC Max_Humidity  \\\n",
       "count                 15840.0           15840.0          15840.0      15840.0   \n",
       "mean                14.644129         10.388952          6.19899    93.659596   \n",
       "std                  8.646012           7.37926         6.526391      7.67853   \n",
       "min                     -11.0             -13.0            -15.0         44.0   \n",
       "25%                       8.0               4.0              1.0        90.75   \n",
       "50%                      15.0              11.0              7.0         94.0   \n",
       "75%                      21.0              16.0             11.0        100.0   \n",
       "max                      39.0              31.0             24.0        100.0   \n",
       "counts                  15840             15840            15840        15840   \n",
       "uniques                    51                45               40           53   \n",
       "missing                     0                 0                0            0   \n",
       "missing_perc               0%                0%               0%           0%   \n",
       "types                 numeric           numeric          numeric      numeric   \n",
       "\n",
       "             Mean_Humidity Min_Humidity Max_Wind_SpeedKm_h  \\\n",
       "count              15840.0      15840.0            15840.0   \n",
       "mean             74.282891    50.158586          22.766604   \n",
       "std              13.486552    19.960216           8.988618   \n",
       "min                   30.0          4.0                3.0   \n",
       "25%                   65.0         34.0               16.0   \n",
       "50%                   76.0         49.0               21.0   \n",
       "75%                   85.0         66.0               27.0   \n",
       "max                  100.0        100.0              101.0   \n",
       "counts               15840        15840              15840   \n",
       "uniques                 71           93                 44   \n",
       "missing                  0            0                  0   \n",
       "missing_perc            0%           0%                 0%   \n",
       "types              numeric      numeric            numeric   \n",
       "\n",
       "             Mean_Wind_SpeedKm_h CloudCover Precipitationmm  \n",
       "count                    15840.0    14667.0         15840.0  \n",
       "mean                   11.972222   5.551306        0.831718  \n",
       "std                     5.872844    1.68771        2.513506  \n",
       "min                          2.0        0.0             0.0  \n",
       "25%                          8.0        5.0             0.0  \n",
       "50%                         11.0        6.0             0.0  \n",
       "75%                         14.0        7.0            0.25  \n",
       "max                         53.0        8.0           58.93  \n",
       "counts                     15840      14667           15840  \n",
       "uniques                       29          9              41  \n",
       "missing                        0       1173               0  \n",
       "missing_perc                  0%      7.41%              0%  \n",
       "types                    numeric    numeric         numeric  "
      ]
     },
     "metadata": {},
     "output_type": "display_data"
    }
   ],
   "source": [
    "display(weather)\n",
    "display(DataFrameSummary(weather[['Max_TemperatureC', 'Mean_TemperatureC', 'Min_TemperatureC',\n",
    "   'Max_Humidity', 'Mean_Humidity', 'Min_Humidity', 'Max_Wind_SpeedKm_h', \n",
    "   'Mean_Wind_SpeedKm_h', 'CloudCover', 'Precipitationmm']]).summary())"
   ]
  },
  {
   "cell_type": "code",
   "execution_count": 19,
   "id": "a97d7adc-4db8-45a2-b437-634799297c71",
   "metadata": {},
   "outputs": [
    {
     "data": {
      "text/plain": [
       "file                              0\n",
       "Date                              0\n",
       "Max_TemperatureC                  0\n",
       "Mean_TemperatureC                 0\n",
       "Min_TemperatureC                  0\n",
       "Dew_PointC                        0\n",
       "MeanDew_PointC                    0\n",
       "Min_DewpointC                     0\n",
       "Max_Humidity                      0\n",
       "Mean_Humidity                     0\n",
       "Min_Humidity                      0\n",
       "Max_Sea_Level_PressurehPa         0\n",
       "Mean_Sea_Level_PressurehPa        0\n",
       "Min_Sea_Level_PressurehPa         0\n",
       "Max_VisibilityKm                381\n",
       "Mean_VisibilityKm               381\n",
       "Min_VisibilitykM                381\n",
       "Max_Wind_SpeedKm_h                0\n",
       "Mean_Wind_SpeedKm_h               0\n",
       "Max_Gust_SpeedKm_h            12236\n",
       "Precipitationmm                   0\n",
       "CloudCover                     1173\n",
       "Events                         3951\n",
       "WindDirDegrees                    0\n",
       "dtype: int64"
      ]
     },
     "execution_count": 19,
     "metadata": {},
     "output_type": "execute_result"
    }
   ],
   "source": [
    "weather.isnull().sum()"
   ]
  },
  {
   "cell_type": "markdown",
   "id": "1323b41f-1df5-472d-a708-39566ed84f40",
   "metadata": {},
   "source": [
    "Hay datos faltantes en:\n",
    "* Max_VisibilityKm\n",
    "* Mean_VisibilityKm\n",
    "* Min_VisibilitykM\n",
    "* Max_Gust_SpeedKm_h\n",
    "* CloudCover\n",
    "* Events"
   ]
  },
  {
   "cell_type": "markdown",
   "id": "939e0d10-9159-434a-92e2-9a61a9e1846f",
   "metadata": {},
   "source": [
    "## 2. Preprocesamiento de los datos"
   ]
  },
  {
   "cell_type": "markdown",
   "id": "4cd0bb88-0cda-4da1-8d21-502eac443386",
   "metadata": {},
   "source": [
    "### Tratamiento de datos faltantes"
   ]
  },
  {
   "cell_type": "markdown",
   "id": "f15a1e32-044a-422d-bfdf-f40f4cd056fd",
   "metadata": {},
   "source": [
    "Completamos los datos faltantes en test (columna Open). Consideramos que está abierto si no es día 7."
   ]
  },
  {
   "cell_type": "code",
   "execution_count": 20,
   "id": "bb657d58-e380-411a-8115-8150cdf8b613",
   "metadata": {},
   "outputs": [],
   "source": [
    "# Si no es dia 7 esta abierto - Verificado que el store 622 esta usualmente cerrado el día 7\n",
    "test.loc[test['Open'].isna(), 'Open'] = (test[test['Open'].isna()]['DayOfWeek'] != 7)*1.0"
   ]
  },
  {
   "cell_type": "markdown",
   "id": "0be4567c-561a-4d46-9721-7c031d99099f",
   "metadata": {},
   "source": [
    "En la tabla de store en la columna de CompetitionOpenSince, tanto para los datos faltantes como para las fechas muy antiguas, ponemos año 1990 y mes 1."
   ]
  },
  {
   "cell_type": "code",
   "execution_count": 21,
   "id": "80d4bd3d-b1ba-4242-9fac-aba568d8fef9",
   "metadata": {},
   "outputs": [],
   "source": [
    "# Fechas de las mas antiguas segun datos y tambien las fechas anteriores las pongo como minimo en 1990\n",
    "store.loc[store['CompetitionOpenSinceYear'].isna() | (store['CompetitionOpenSinceYear']<1990), 'CompetitionOpenSinceYear'] = np.int32(1990)\n",
    "store.loc[store['CompetitionOpenSinceMonth'].isna() | (store['CompetitionOpenSinceYear']<1990), 'CompetitionOpenSinceMonth'] = np.int32(1)"
   ]
  },
  {
   "cell_type": "markdown",
   "id": "78199a02-061f-48f2-a048-ef5c9bb5d73a",
   "metadata": {},
   "source": [
    "En store, columna CompetitionDistance, completamos los datos faltantes con la distancia máxima, considerando que están lejos."
   ]
  },
  {
   "cell_type": "code",
   "execution_count": 22,
   "id": "cea9195e-4904-47c9-8e85-7517f71764b8",
   "metadata": {},
   "outputs": [
    {
     "name": "stdout",
     "output_type": "stream",
     "text": [
      "75860.0 5404.901079136691 20.0\n"
     ]
    }
   ],
   "source": [
    "# Si no tengo la distancia, supongo que no hay (Como si estuviera lejos)\n",
    "print(store['CompetitionDistance'].max(), store['CompetitionDistance'].mean(), store['CompetitionDistance'].min())\n",
    "store.loc[store['CompetitionDistance'].isna(), 'CompetitionDistance'] = store['CompetitionDistance'].max()"
   ]
  },
  {
   "cell_type": "code",
   "execution_count": 23,
   "id": "85f7d464-42be-41f2-aa0f-7c4be3229ddc",
   "metadata": {},
   "outputs": [
    {
     "data": {
      "text/plain": [
       "Promo2             544\n",
       "Promo2SinceWeek      0\n",
       "Promo2SinceYear      0\n",
       "PromoInterval        0\n",
       "dtype: int64"
      ]
     },
     "execution_count": 23,
     "metadata": {},
     "output_type": "execute_result"
    }
   ],
   "source": [
    "store.loc[store['Promo2'] == 0,'Promo2':'PromoInterval'].count()"
   ]
  },
  {
   "cell_type": "code",
   "execution_count": 24,
   "id": "479c71e2-b658-4ecb-bed8-02c814711a8d",
   "metadata": {},
   "outputs": [
    {
     "data": {
      "text/plain": [
       "Promo2             571\n",
       "Promo2SinceWeek    571\n",
       "Promo2SinceYear    571\n",
       "PromoInterval      571\n",
       "dtype: int64"
      ]
     },
     "execution_count": 24,
     "metadata": {},
     "output_type": "execute_result"
    }
   ],
   "source": [
    "store.loc[store['Promo2'] == 1,'Promo2':'PromoInterval'].count()"
   ]
  },
  {
   "cell_type": "markdown",
   "id": "9157d3ab-6c42-426a-bf59-98d4744e30e2",
   "metadata": {},
   "source": [
    "Vemos que los datos faltantes corresponden a las tiendas en que Promo2 es 0. Consideramos que iniciaron en la semana 0."
   ]
  },
  {
   "cell_type": "code",
   "execution_count": 25,
   "id": "85e9a474-2c21-4d04-ad2a-fd169a35e8a5",
   "metadata": {},
   "outputs": [],
   "source": [
    "# Si no tiene Promo2 entonces la semana en donde empezo es cero. Esto será tratado como categórica por eso tiene sentido\n",
    "store.loc[store['Promo2SinceWeek'].isna() & (store['Promo2'] == 0), 'Promo2SinceWeek'] = np.int32(1)\n",
    "store.loc[store['Promo2SinceYear'].isna() & (store['Promo2'] == 0), 'Promo2SinceYear'] = np.int32(1990)\n",
    "store.loc[store['PromoInterval'].isna() & (store['Promo2'] == 0), 'PromoInterval'] = '-'"
   ]
  },
  {
   "cell_type": "markdown",
   "id": "9f9102e8-87e1-473d-8d1c-bf7c53787f8e",
   "metadata": {},
   "source": [
    "Para completar los datos faltantes en weather, consideramos que fueron días tranquilos."
   ]
  },
  {
   "cell_type": "code",
   "execution_count": 26,
   "id": "b3bed836-9674-488b-baf5-213953a92666",
   "metadata": {},
   "outputs": [],
   "source": [
    "# Supongo que son dias tranquilos (de todas formas no se usaran para la predicción)\n",
    "weather.loc[weather['Max_VisibilityKm'].isna(), 'Max_VisibilityKm'] = weather['Max_VisibilityKm'].max()\n",
    "weather.loc[weather['Mean_VisibilityKm'].isna(), 'Mean_VisibilityKm'] = weather['Mean_VisibilityKm'].max()\n",
    "weather.loc[weather['Min_VisibilitykM'].isna(), 'Min_VisibilitykM'] = weather['Min_VisibilitykM'].max()\n",
    "weather.loc[weather['Max_Gust_SpeedKm_h'].isna(), 'Max_Gust_SpeedKm_h'] = weather['Max_Gust_SpeedKm_h'].min()\n",
    "weather.loc[weather['CloudCover'].isna(), 'CloudCover'] = weather['CloudCover'].min()\n",
    "weather.loc[weather['Events'].isna(), 'Events'] = 'Sunny'"
   ]
  },
  {
   "cell_type": "code",
   "execution_count": 27,
   "id": "1a1d6ace-d842-409e-b9cb-20d172407b1a",
   "metadata": {},
   "outputs": [
    {
     "name": "stdout",
     "output_type": "stream",
     "text": [
      "0\n",
      "0\n",
      "0\n"
     ]
    }
   ],
   "source": [
    "print(test.isnull().sum().sum())\n",
    "print(store.isnull().sum().sum())\n",
    "print(weather.isnull().sum().sum())"
   ]
  },
  {
   "cell_type": "markdown",
   "id": "676d0a36-0967-46dc-9307-5b6bd4ae9c2d",
   "metadata": {},
   "source": [
    "### Emprolijamos columnas de fechas"
   ]
  },
  {
   "cell_type": "markdown",
   "id": "3f19bf0d-1e74-4934-9966-cd4b117bf45e",
   "metadata": {},
   "source": [
    "Con las columnas de CompetitionSinceYear y CompetitionSinceMonth, y lo mismo para Promo2 generamos una nueva columna en formato fecha."
   ]
  },
  {
   "cell_type": "code",
   "execution_count": 28,
   "id": "46563dfc-3bc8-47ce-8821-1ce0c9729577",
   "metadata": {},
   "outputs": [],
   "source": [
    "store['CompetitionOpenSinceYear'] = store['CompetitionOpenSinceYear'].astype(np.int32)\n",
    "store['CompetitionOpenSinceMonth'] = store['CompetitionOpenSinceMonth'].astype(np.int32)\n",
    "store['Promo2SinceWeek'] = store['Promo2SinceWeek'].astype(np.int32)\n",
    "store['Promo2SinceYear'] = store['Promo2SinceYear'].astype(np.int32)"
   ]
  },
  {
   "cell_type": "code",
   "execution_count": 29,
   "id": "548f8555-953b-4723-8748-0fcd7122f84f",
   "metadata": {},
   "outputs": [],
   "source": [
    "# Creo una nueva columna con fecha de apertura en formato de fecha (dia 15 por que no tengo el dato y no es relevante)\n",
    "store['CompetitionOpenSince'] = pd.to_datetime(store.apply(lambda x: datetime.datetime(\n",
    "    x.CompetitionOpenSinceYear, x.CompetitionOpenSinceMonth, 15), axis=1))"
   ]
  },
  {
   "cell_type": "markdown",
   "id": "d5508d42-6a4d-4398-b7bc-57e591612c5e",
   "metadata": {},
   "source": [
    "Creamos otra columna de Promo2Since con el año y la semana, en formato datetime."
   ]
  },
  {
   "cell_type": "code",
   "execution_count": 30,
   "id": "0f4551ee-3a8f-4f52-9f63-e76b05e3f6dc",
   "metadata": {},
   "outputs": [],
   "source": [
    "store[\"Promo2Since\"] = pd.to_datetime(store.apply(lambda x: Week(\n",
    "    x.Promo2SinceYear, x.Promo2SinceWeek).monday(), axis=1))"
   ]
  },
  {
   "cell_type": "markdown",
   "id": "9c7cf956-a1fa-4f87-b3d9-51b1b271ee3b",
   "metadata": {},
   "source": [
    "## 3. Join entre tablas"
   ]
  },
  {
   "cell_type": "markdown",
   "id": "d8a5dbbc-36e2-4765-b843-e465d8f2b028",
   "metadata": {},
   "source": [
    "### Función join"
   ]
  },
  {
   "cell_type": "code",
   "execution_count": 31,
   "id": "1cc5b44b-6bf2-4a42-9266-42ea07a21e36",
   "metadata": {},
   "outputs": [],
   "source": [
    "def join_df(left, right, left_on, right_on=None):\n",
    "    if right_on is None: right_on = left_on\n",
    "    return left.merge(right, how='left', left_on=left_on, right_on=right_on, \n",
    "                      suffixes=(\"\", \"_y\"))"
   ]
  },
  {
   "cell_type": "markdown",
   "id": "e8fdcd0d-ea3f-4a89-ad5c-93497c662949",
   "metadata": {},
   "source": [
    "### Join entre tabla weather y state_names"
   ]
  },
  {
   "cell_type": "markdown",
   "id": "7869dd6a-fd59-4377-8cac-743ac061eb31",
   "metadata": {},
   "source": [
    "Las columnas para hacer el join son weather['file'] y state_names['StateName']"
   ]
  },
  {
   "cell_type": "code",
   "execution_count": 32,
   "id": "6ee6f45c-f423-4d34-9c2f-78dcad2ac9c3",
   "metadata": {},
   "outputs": [
    {
     "data": {
      "text/plain": [
       "NordrheinWestfalen       990\n",
       "Niedersachsen            990\n",
       "Bayern                   990\n",
       "Bremen                   990\n",
       "Brandenburg              990\n",
       "SachsenAnhalt            990\n",
       "Sachsen                  990\n",
       "Hessen                   990\n",
       "MecklenburgVorpommern    990\n",
       "RheinlandPfalz           990\n",
       "BadenWuerttemberg        990\n",
       "Berlin                   990\n",
       "Hamburg                  990\n",
       "SchleswigHolstein        990\n",
       "Thueringen               990\n",
       "Saarland                 990\n",
       "Name: file, dtype: int64"
      ]
     },
     "execution_count": 32,
     "metadata": {},
     "output_type": "execute_result"
    }
   ],
   "source": [
    "weather.file.value_counts()"
   ]
  },
  {
   "cell_type": "code",
   "execution_count": 33,
   "id": "c01c8d6a-dcb9-43db-94fe-b70a31b9784c",
   "metadata": {},
   "outputs": [
    {
     "data": {
      "text/plain": [
       "BadenWuerttemberg        1\n",
       "Bayern                   1\n",
       "Berlin                   1\n",
       "Brandenburg              1\n",
       "Bremen                   1\n",
       "Hamburg                  1\n",
       "Hessen                   1\n",
       "MecklenburgVorpommern    1\n",
       "Niedersachsen            1\n",
       "NordrheinWestfalen       1\n",
       "RheinlandPfalz           1\n",
       "Saarland                 1\n",
       "Sachsen                  1\n",
       "SachsenAnhalt            1\n",
       "SchleswigHolstein        1\n",
       "Thueringen               1\n",
       "Name: StateName, dtype: int64"
      ]
     },
     "execution_count": 33,
     "metadata": {},
     "output_type": "execute_result"
    }
   ],
   "source": [
    "state_names.StateName.value_counts()"
   ]
  },
  {
   "cell_type": "markdown",
   "id": "c98dd5e0-c259-4551-b595-050301d160f7",
   "metadata": {},
   "source": [
    "Columnas de weather antes del join:"
   ]
  },
  {
   "cell_type": "code",
   "execution_count": 34,
   "id": "4734fa58-98ee-4180-9c43-6855364c9bce",
   "metadata": {},
   "outputs": [
    {
     "data": {
      "text/plain": [
       "Index(['file', 'Date', 'Max_TemperatureC', 'Mean_TemperatureC',\n",
       "       'Min_TemperatureC', 'Dew_PointC', 'MeanDew_PointC', 'Min_DewpointC',\n",
       "       'Max_Humidity', 'Mean_Humidity', 'Min_Humidity',\n",
       "       'Max_Sea_Level_PressurehPa', 'Mean_Sea_Level_PressurehPa',\n",
       "       'Min_Sea_Level_PressurehPa', 'Max_VisibilityKm', 'Mean_VisibilityKm',\n",
       "       'Min_VisibilitykM', 'Max_Wind_SpeedKm_h', 'Mean_Wind_SpeedKm_h',\n",
       "       'Max_Gust_SpeedKm_h', 'Precipitationmm', 'CloudCover', 'Events',\n",
       "       'WindDirDegrees'],\n",
       "      dtype='object')"
      ]
     },
     "execution_count": 34,
     "metadata": {},
     "output_type": "execute_result"
    }
   ],
   "source": [
    "weather.columns"
   ]
  },
  {
   "cell_type": "markdown",
   "id": "d696cead-06de-4ea2-bfa3-59512c48ce8d",
   "metadata": {},
   "source": [
    "Columnas de state_names"
   ]
  },
  {
   "cell_type": "code",
   "execution_count": 35,
   "id": "17066eda-705d-433c-9be4-688200990e3a",
   "metadata": {},
   "outputs": [
    {
     "data": {
      "text/plain": [
       "Index(['StateName', 'State'], dtype='object')"
      ]
     },
     "execution_count": 35,
     "metadata": {},
     "output_type": "execute_result"
    }
   ],
   "source": [
    "state_names.columns"
   ]
  },
  {
   "cell_type": "code",
   "execution_count": 36,
   "id": "91c7a8bd-d545-42a9-887f-6b93b582aec5",
   "metadata": {},
   "outputs": [],
   "source": [
    "weather = join_df(weather, state_names, \"file\", \"StateName\")"
   ]
  },
  {
   "cell_type": "markdown",
   "id": "786ebdbc-8a8f-491b-afd5-f99869f89b04",
   "metadata": {},
   "source": [
    "Columnas en weather luego del join:"
   ]
  },
  {
   "cell_type": "code",
   "execution_count": 37,
   "id": "93743064-90c9-4487-826c-34224f240550",
   "metadata": {},
   "outputs": [
    {
     "data": {
      "text/plain": [
       "Index(['file', 'Date', 'Max_TemperatureC', 'Mean_TemperatureC',\n",
       "       'Min_TemperatureC', 'Dew_PointC', 'MeanDew_PointC', 'Min_DewpointC',\n",
       "       'Max_Humidity', 'Mean_Humidity', 'Min_Humidity',\n",
       "       'Max_Sea_Level_PressurehPa', 'Mean_Sea_Level_PressurehPa',\n",
       "       'Min_Sea_Level_PressurehPa', 'Max_VisibilityKm', 'Mean_VisibilityKm',\n",
       "       'Min_VisibilitykM', 'Max_Wind_SpeedKm_h', 'Mean_Wind_SpeedKm_h',\n",
       "       'Max_Gust_SpeedKm_h', 'Precipitationmm', 'CloudCover', 'Events',\n",
       "       'WindDirDegrees', 'StateName', 'State'],\n",
       "      dtype='object')"
      ]
     },
     "execution_count": 37,
     "metadata": {},
     "output_type": "execute_result"
    }
   ],
   "source": [
    "weather.columns"
   ]
  },
  {
   "cell_type": "markdown",
   "id": "bf8d0227-209f-4955-9f6c-6af28d4cc062",
   "metadata": {},
   "source": [
    "Vemos que se agregaron a la derecha StateName y State."
   ]
  },
  {
   "cell_type": "markdown",
   "id": "c73d156d-1730-4f03-ac3b-786d2d767204",
   "metadata": {},
   "source": [
    "### Preprocesamiento de googletrend (datos externos)"
   ]
  },
  {
   "cell_type": "code",
   "execution_count": 38,
   "id": "81387e83-462a-4b70-b1d1-5b3d5ec789b2",
   "metadata": {},
   "outputs": [
    {
     "data": {
      "text/html": [
       "<div>\n",
       "<style scoped>\n",
       "    .dataframe tbody tr th:only-of-type {\n",
       "        vertical-align: middle;\n",
       "    }\n",
       "\n",
       "    .dataframe tbody tr th {\n",
       "        vertical-align: top;\n",
       "    }\n",
       "\n",
       "    .dataframe thead th {\n",
       "        text-align: right;\n",
       "    }\n",
       "</style>\n",
       "<table border=\"1\" class=\"dataframe\">\n",
       "  <thead>\n",
       "    <tr style=\"text-align: right;\">\n",
       "      <th></th>\n",
       "      <th>file</th>\n",
       "      <th>week</th>\n",
       "      <th>trend</th>\n",
       "    </tr>\n",
       "  </thead>\n",
       "  <tbody>\n",
       "    <tr>\n",
       "      <th>0</th>\n",
       "      <td>Rossmann_DE_SN</td>\n",
       "      <td>2012-12-02 - 2012-12-08</td>\n",
       "      <td>96</td>\n",
       "    </tr>\n",
       "    <tr>\n",
       "      <th>1</th>\n",
       "      <td>Rossmann_DE_SN</td>\n",
       "      <td>2012-12-09 - 2012-12-15</td>\n",
       "      <td>95</td>\n",
       "    </tr>\n",
       "    <tr>\n",
       "      <th>2</th>\n",
       "      <td>Rossmann_DE_SN</td>\n",
       "      <td>2012-12-16 - 2012-12-22</td>\n",
       "      <td>91</td>\n",
       "    </tr>\n",
       "    <tr>\n",
       "      <th>3</th>\n",
       "      <td>Rossmann_DE_SN</td>\n",
       "      <td>2012-12-23 - 2012-12-29</td>\n",
       "      <td>48</td>\n",
       "    </tr>\n",
       "    <tr>\n",
       "      <th>4</th>\n",
       "      <td>Rossmann_DE_SN</td>\n",
       "      <td>2012-12-30 - 2013-01-05</td>\n",
       "      <td>67</td>\n",
       "    </tr>\n",
       "  </tbody>\n",
       "</table>\n",
       "</div>"
      ],
      "text/plain": [
       "             file                     week  trend\n",
       "0  Rossmann_DE_SN  2012-12-02 - 2012-12-08     96\n",
       "1  Rossmann_DE_SN  2012-12-09 - 2012-12-15     95\n",
       "2  Rossmann_DE_SN  2012-12-16 - 2012-12-22     91\n",
       "3  Rossmann_DE_SN  2012-12-23 - 2012-12-29     48\n",
       "4  Rossmann_DE_SN  2012-12-30 - 2013-01-05     67"
      ]
     },
     "execution_count": 38,
     "metadata": {},
     "output_type": "execute_result"
    }
   ],
   "source": [
    "googletrend.head()"
   ]
  },
  {
   "cell_type": "markdown",
   "id": "f0c47c0f-7a87-4360-b08e-5f61e8f570d3",
   "metadata": {
    "tags": []
   },
   "source": [
    "Creo una nueva columna Date y me quedo con la primera fecha de week. "
   ]
  },
  {
   "cell_type": "code",
   "execution_count": 39,
   "id": "13ab2323-efdd-4deb-8769-0f0bcd8e93fb",
   "metadata": {},
   "outputs": [],
   "source": [
    "# Armo columan date con el primer día de la secmana\n",
    "googletrend['Date'] = googletrend.week.str.split(' - ', expand=True)[0]"
   ]
  },
  {
   "cell_type": "code",
   "execution_count": 40,
   "id": "bc77c202-2259-4018-9b23-cc48f12f13a2",
   "metadata": {
    "tags": []
   },
   "outputs": [
    {
     "data": {
      "text/html": [
       "<div>\n",
       "<style scoped>\n",
       "    .dataframe tbody tr th:only-of-type {\n",
       "        vertical-align: middle;\n",
       "    }\n",
       "\n",
       "    .dataframe tbody tr th {\n",
       "        vertical-align: top;\n",
       "    }\n",
       "\n",
       "    .dataframe thead th {\n",
       "        text-align: right;\n",
       "    }\n",
       "</style>\n",
       "<table border=\"1\" class=\"dataframe\">\n",
       "  <thead>\n",
       "    <tr style=\"text-align: right;\">\n",
       "      <th></th>\n",
       "      <th>file</th>\n",
       "      <th>week</th>\n",
       "      <th>trend</th>\n",
       "      <th>Date</th>\n",
       "    </tr>\n",
       "  </thead>\n",
       "  <tbody>\n",
       "    <tr>\n",
       "      <th>0</th>\n",
       "      <td>Rossmann_DE_SN</td>\n",
       "      <td>2012-12-02 - 2012-12-08</td>\n",
       "      <td>96</td>\n",
       "      <td>2012-12-02</td>\n",
       "    </tr>\n",
       "    <tr>\n",
       "      <th>1</th>\n",
       "      <td>Rossmann_DE_SN</td>\n",
       "      <td>2012-12-09 - 2012-12-15</td>\n",
       "      <td>95</td>\n",
       "      <td>2012-12-09</td>\n",
       "    </tr>\n",
       "    <tr>\n",
       "      <th>2</th>\n",
       "      <td>Rossmann_DE_SN</td>\n",
       "      <td>2012-12-16 - 2012-12-22</td>\n",
       "      <td>91</td>\n",
       "      <td>2012-12-16</td>\n",
       "    </tr>\n",
       "    <tr>\n",
       "      <th>3</th>\n",
       "      <td>Rossmann_DE_SN</td>\n",
       "      <td>2012-12-23 - 2012-12-29</td>\n",
       "      <td>48</td>\n",
       "      <td>2012-12-23</td>\n",
       "    </tr>\n",
       "    <tr>\n",
       "      <th>4</th>\n",
       "      <td>Rossmann_DE_SN</td>\n",
       "      <td>2012-12-30 - 2013-01-05</td>\n",
       "      <td>67</td>\n",
       "      <td>2012-12-30</td>\n",
       "    </tr>\n",
       "  </tbody>\n",
       "</table>\n",
       "</div>"
      ],
      "text/plain": [
       "             file                     week  trend        Date\n",
       "0  Rossmann_DE_SN  2012-12-02 - 2012-12-08     96  2012-12-02\n",
       "1  Rossmann_DE_SN  2012-12-09 - 2012-12-15     95  2012-12-09\n",
       "2  Rossmann_DE_SN  2012-12-16 - 2012-12-22     91  2012-12-16\n",
       "3  Rossmann_DE_SN  2012-12-23 - 2012-12-29     48  2012-12-23\n",
       "4  Rossmann_DE_SN  2012-12-30 - 2013-01-05     67  2012-12-30"
      ]
     },
     "execution_count": 40,
     "metadata": {},
     "output_type": "execute_result"
    }
   ],
   "source": [
    "googletrend.head()"
   ]
  },
  {
   "cell_type": "markdown",
   "id": "fbd03d3d-f100-4dfb-b76b-039e9b454395",
   "metadata": {},
   "source": [
    "Genera una columna State con el estado a partir del código de la columna file"
   ]
  },
  {
   "cell_type": "code",
   "execution_count": 41,
   "id": "3b844ec1-d8cc-4a43-87e8-227a47099779",
   "metadata": {},
   "outputs": [],
   "source": [
    "# Armo columna de State con el nomnre del estado\n",
    "googletrend['State'] = googletrend.file.str.split('_', expand=True)[2]"
   ]
  },
  {
   "cell_type": "code",
   "execution_count": 42,
   "id": "3ca75601-ae24-49e2-bce0-46bf6a710f40",
   "metadata": {},
   "outputs": [
    {
     "data": {
      "text/html": [
       "<div>\n",
       "<style scoped>\n",
       "    .dataframe tbody tr th:only-of-type {\n",
       "        vertical-align: middle;\n",
       "    }\n",
       "\n",
       "    .dataframe tbody tr th {\n",
       "        vertical-align: top;\n",
       "    }\n",
       "\n",
       "    .dataframe thead th {\n",
       "        text-align: right;\n",
       "    }\n",
       "</style>\n",
       "<table border=\"1\" class=\"dataframe\">\n",
       "  <thead>\n",
       "    <tr style=\"text-align: right;\">\n",
       "      <th></th>\n",
       "      <th>file</th>\n",
       "      <th>week</th>\n",
       "      <th>trend</th>\n",
       "      <th>Date</th>\n",
       "      <th>State</th>\n",
       "    </tr>\n",
       "  </thead>\n",
       "  <tbody>\n",
       "    <tr>\n",
       "      <th>0</th>\n",
       "      <td>Rossmann_DE_SN</td>\n",
       "      <td>2012-12-02 - 2012-12-08</td>\n",
       "      <td>96</td>\n",
       "      <td>2012-12-02</td>\n",
       "      <td>SN</td>\n",
       "    </tr>\n",
       "    <tr>\n",
       "      <th>1</th>\n",
       "      <td>Rossmann_DE_SN</td>\n",
       "      <td>2012-12-09 - 2012-12-15</td>\n",
       "      <td>95</td>\n",
       "      <td>2012-12-09</td>\n",
       "      <td>SN</td>\n",
       "    </tr>\n",
       "    <tr>\n",
       "      <th>2</th>\n",
       "      <td>Rossmann_DE_SN</td>\n",
       "      <td>2012-12-16 - 2012-12-22</td>\n",
       "      <td>91</td>\n",
       "      <td>2012-12-16</td>\n",
       "      <td>SN</td>\n",
       "    </tr>\n",
       "    <tr>\n",
       "      <th>3</th>\n",
       "      <td>Rossmann_DE_SN</td>\n",
       "      <td>2012-12-23 - 2012-12-29</td>\n",
       "      <td>48</td>\n",
       "      <td>2012-12-23</td>\n",
       "      <td>SN</td>\n",
       "    </tr>\n",
       "    <tr>\n",
       "      <th>4</th>\n",
       "      <td>Rossmann_DE_SN</td>\n",
       "      <td>2012-12-30 - 2013-01-05</td>\n",
       "      <td>67</td>\n",
       "      <td>2012-12-30</td>\n",
       "      <td>SN</td>\n",
       "    </tr>\n",
       "  </tbody>\n",
       "</table>\n",
       "</div>"
      ],
      "text/plain": [
       "             file                     week  trend        Date State\n",
       "0  Rossmann_DE_SN  2012-12-02 - 2012-12-08     96  2012-12-02    SN\n",
       "1  Rossmann_DE_SN  2012-12-09 - 2012-12-15     95  2012-12-09    SN\n",
       "2  Rossmann_DE_SN  2012-12-16 - 2012-12-22     91  2012-12-16    SN\n",
       "3  Rossmann_DE_SN  2012-12-23 - 2012-12-29     48  2012-12-23    SN\n",
       "4  Rossmann_DE_SN  2012-12-30 - 2013-01-05     67  2012-12-30    SN"
      ]
     },
     "execution_count": 42,
     "metadata": {},
     "output_type": "execute_result"
    }
   ],
   "source": [
    "googletrend.head()"
   ]
  },
  {
   "cell_type": "code",
   "execution_count": 43,
   "id": "eb08d7a7-a385-45da-922b-b94ca05a486f",
   "metadata": {},
   "outputs": [
    {
     "data": {
      "text/plain": [
       "SN    148\n",
       "BY    148\n",
       "TH    148\n",
       "NW    148\n",
       "BE    148\n",
       "RP    148\n",
       "BW    148\n",
       "NI    148\n",
       "SH    148\n",
       "HE    148\n",
       "ST    148\n",
       "HH    148\n",
       "SL    148\n",
       "Name: State, dtype: int64"
      ]
     },
     "execution_count": 43,
     "metadata": {},
     "output_type": "execute_result"
    }
   ],
   "source": [
    "googletrend['State'].value_counts()"
   ]
  },
  {
   "cell_type": "code",
   "execution_count": 44,
   "id": "140383f9-e059-4087-9030-b1eaab4fd57b",
   "metadata": {
    "tags": []
   },
   "outputs": [
    {
     "data": {
      "text/plain": [
       "0        BW\n",
       "1        BY\n",
       "2        BE\n",
       "3        BB\n",
       "4        HB\n",
       "5        HH\n",
       "6        HE\n",
       "7        MV\n",
       "8     HB,NI\n",
       "9        NW\n",
       "10       RP\n",
       "11       SL\n",
       "12       SN\n",
       "13       ST\n",
       "14       SH\n",
       "15       TH\n",
       "Name: State, dtype: object"
      ]
     },
     "execution_count": 44,
     "metadata": {},
     "output_type": "execute_result"
    }
   ],
   "source": [
    "# Notar que un estado tiene un acrónimo diferente\n",
    "state_names['State']"
   ]
  },
  {
   "cell_type": "markdown",
   "id": "f13c02e4-197a-44ee-96e3-0e27889f1b2e",
   "metadata": {},
   "source": [
    "Como el estado HB,NI tiene un acrónimo distinto en la tabla de googletrend, lo corregimos."
   ]
  },
  {
   "cell_type": "code",
   "execution_count": 45,
   "id": "bb7fd5a7-9666-4c14-b568-6df8677ae982",
   "metadata": {},
   "outputs": [],
   "source": [
    "# Lo corrijo\n",
    "googletrend.loc[googletrend.State=='NI', \"State\"] = 'HB,NI'"
   ]
  },
  {
   "cell_type": "markdown",
   "id": "abc0442e-c974-4c32-84f3-9dc11e327f54",
   "metadata": {
    "tags": []
   },
   "source": [
    "#### Transformación de fecha"
   ]
  },
  {
   "cell_type": "markdown",
   "id": "4d55b979-4b82-44a1-adf1-65703e3821cd",
   "metadata": {},
   "source": [
    "A partir de la columna Date, creamos 4 columnas nuevas para el año (Year), el mes (Month), la semana (Week) y el día (Day). Aplicamos esto a todas las tablas."
   ]
  },
  {
   "cell_type": "code",
   "execution_count": 46,
   "id": "26ee34d2-badd-4c96-9871-48e9d6912e49",
   "metadata": {},
   "outputs": [],
   "source": [
    "def add_datepart(df):\n",
    "    df.Date = pd.to_datetime(df.Date)\n",
    "    df[\"Year\"] = df.Date.dt.year\n",
    "    df[\"Month\"] = df.Date.dt.month\n",
    "    df[\"Week\"] = df.Date.dt.isocalendar().week\n",
    "    df[\"Day\"] = df.Date.dt.day\n",
    "    \n",
    "add_datepart(weather)\n",
    "add_datepart(googletrend)\n",
    "add_datepart(train)\n",
    "add_datepart(test)"
   ]
  },
  {
   "cell_type": "markdown",
   "id": "590aabd1-1090-4cbc-8bc0-d0498fd29e92",
   "metadata": {},
   "source": [
    "Notamos que las tendencias generales de Alemania no tienen el estado al final del código en la columna file. Por ende, las guardamos en una tabla parte (trend_de)."
   ]
  },
  {
   "cell_type": "code",
   "execution_count": 47,
   "id": "7b2af997-fc1e-45ef-958a-89848bf43656",
   "metadata": {},
   "outputs": [],
   "source": [
    "# Trends generales de alemania tienen el state en None\n",
    "trend_de = googletrend[googletrend.file == 'Rossmann_DE']"
   ]
  },
  {
   "cell_type": "code",
   "execution_count": 48,
   "id": "746e26ae-789f-49b7-ac77-1ea329a8fe5b",
   "metadata": {},
   "outputs": [
    {
     "data": {
      "text/html": [
       "<div>\n",
       "<style scoped>\n",
       "    .dataframe tbody tr th:only-of-type {\n",
       "        vertical-align: middle;\n",
       "    }\n",
       "\n",
       "    .dataframe tbody tr th {\n",
       "        vertical-align: top;\n",
       "    }\n",
       "\n",
       "    .dataframe thead th {\n",
       "        text-align: right;\n",
       "    }\n",
       "</style>\n",
       "<table border=\"1\" class=\"dataframe\">\n",
       "  <thead>\n",
       "    <tr style=\"text-align: right;\">\n",
       "      <th></th>\n",
       "      <th>Date</th>\n",
       "      <th>Year</th>\n",
       "      <th>Month</th>\n",
       "      <th>Week</th>\n",
       "      <th>Day</th>\n",
       "    </tr>\n",
       "  </thead>\n",
       "  <tbody>\n",
       "    <tr>\n",
       "      <th>148</th>\n",
       "      <td>2012-12-02</td>\n",
       "      <td>2012</td>\n",
       "      <td>12</td>\n",
       "      <td>48</td>\n",
       "      <td>2</td>\n",
       "    </tr>\n",
       "    <tr>\n",
       "      <th>149</th>\n",
       "      <td>2012-12-09</td>\n",
       "      <td>2012</td>\n",
       "      <td>12</td>\n",
       "      <td>49</td>\n",
       "      <td>9</td>\n",
       "    </tr>\n",
       "    <tr>\n",
       "      <th>150</th>\n",
       "      <td>2012-12-16</td>\n",
       "      <td>2012</td>\n",
       "      <td>12</td>\n",
       "      <td>50</td>\n",
       "      <td>16</td>\n",
       "    </tr>\n",
       "    <tr>\n",
       "      <th>151</th>\n",
       "      <td>2012-12-23</td>\n",
       "      <td>2012</td>\n",
       "      <td>12</td>\n",
       "      <td>51</td>\n",
       "      <td>23</td>\n",
       "    </tr>\n",
       "    <tr>\n",
       "      <th>152</th>\n",
       "      <td>2012-12-30</td>\n",
       "      <td>2012</td>\n",
       "      <td>12</td>\n",
       "      <td>52</td>\n",
       "      <td>30</td>\n",
       "    </tr>\n",
       "    <tr>\n",
       "      <th>...</th>\n",
       "      <td>...</td>\n",
       "      <td>...</td>\n",
       "      <td>...</td>\n",
       "      <td>...</td>\n",
       "      <td>...</td>\n",
       "    </tr>\n",
       "    <tr>\n",
       "      <th>291</th>\n",
       "      <td>2015-08-30</td>\n",
       "      <td>2015</td>\n",
       "      <td>8</td>\n",
       "      <td>35</td>\n",
       "      <td>30</td>\n",
       "    </tr>\n",
       "    <tr>\n",
       "      <th>292</th>\n",
       "      <td>2015-09-06</td>\n",
       "      <td>2015</td>\n",
       "      <td>9</td>\n",
       "      <td>36</td>\n",
       "      <td>6</td>\n",
       "    </tr>\n",
       "    <tr>\n",
       "      <th>293</th>\n",
       "      <td>2015-09-13</td>\n",
       "      <td>2015</td>\n",
       "      <td>9</td>\n",
       "      <td>37</td>\n",
       "      <td>13</td>\n",
       "    </tr>\n",
       "    <tr>\n",
       "      <th>294</th>\n",
       "      <td>2015-09-20</td>\n",
       "      <td>2015</td>\n",
       "      <td>9</td>\n",
       "      <td>38</td>\n",
       "      <td>20</td>\n",
       "    </tr>\n",
       "    <tr>\n",
       "      <th>295</th>\n",
       "      <td>2015-09-27</td>\n",
       "      <td>2015</td>\n",
       "      <td>9</td>\n",
       "      <td>39</td>\n",
       "      <td>27</td>\n",
       "    </tr>\n",
       "  </tbody>\n",
       "</table>\n",
       "<p>148 rows × 5 columns</p>\n",
       "</div>"
      ],
      "text/plain": [
       "          Date  Year  Month  Week  Day\n",
       "148 2012-12-02  2012     12    48    2\n",
       "149 2012-12-09  2012     12    49    9\n",
       "150 2012-12-16  2012     12    50   16\n",
       "151 2012-12-23  2012     12    51   23\n",
       "152 2012-12-30  2012     12    52   30\n",
       "..         ...   ...    ...   ...  ...\n",
       "291 2015-08-30  2015      8    35   30\n",
       "292 2015-09-06  2015      9    36    6\n",
       "293 2015-09-13  2015      9    37   13\n",
       "294 2015-09-20  2015      9    38   20\n",
       "295 2015-09-27  2015      9    39   27\n",
       "\n",
       "[148 rows x 5 columns]"
      ]
     },
     "execution_count": 48,
     "metadata": {},
     "output_type": "execute_result"
    }
   ],
   "source": [
    "trend_de[['Date', 'Year','Month','Week','Day']]"
   ]
  },
  {
   "cell_type": "markdown",
   "id": "5d848357-e541-4288-9022-98ed4a014032",
   "metadata": {},
   "source": [
    "## Realizamos el resto de los joins"
   ]
  },
  {
   "cell_type": "markdown",
   "id": "3e910305-4b0b-458d-a00c-7749264930ad",
   "metadata": {},
   "source": [
    "En la tabla store agregamos el acrónimos de los estados usando store_states (on \"Store\")"
   ]
  },
  {
   "cell_type": "code",
   "execution_count": 49,
   "id": "f039966f-8610-4608-ab0a-8b11e6ed6381",
   "metadata": {},
   "outputs": [
    {
     "data": {
      "text/plain": [
       "0"
      ]
     },
     "execution_count": 49,
     "metadata": {},
     "output_type": "execute_result"
    }
   ],
   "source": [
    "# Agrego acronimo de state al store\n",
    "store = join_df(store, store_states, \"Store\")\n",
    "len(store[store.State.isnull()])"
   ]
  },
  {
   "cell_type": "code",
   "execution_count": 50,
   "id": "f330d9be-1287-4069-971d-21115606e798",
   "metadata": {},
   "outputs": [
    {
     "data": {
      "text/plain": [
       "Index(['Store', 'StoreType', 'Assortment', 'CompetitionDistance',\n",
       "       'CompetitionOpenSinceMonth', 'CompetitionOpenSinceYear', 'Promo2',\n",
       "       'Promo2SinceWeek', 'Promo2SinceYear', 'PromoInterval',\n",
       "       'CompetitionOpenSince', 'Promo2Since', 'State'],\n",
       "      dtype='object')"
      ]
     },
     "execution_count": 50,
     "metadata": {},
     "output_type": "execute_result"
    }
   ],
   "source": [
    "store.columns"
   ]
  },
  {
   "cell_type": "markdown",
   "id": "f307bc95-a740-4803-9890-00c28d9b2ec0",
   "metadata": {},
   "source": [
    "Vemos que se agregó al final la columna State."
   ]
  },
  {
   "cell_type": "markdown",
   "id": "623859c0-db6c-4b1e-a4c9-4cf3d01bfacb",
   "metadata": {},
   "source": [
    "Hacemos el join entre train y store utilizando la columna \"Store\""
   ]
  },
  {
   "cell_type": "code",
   "execution_count": 51,
   "id": "779bd8a2-a068-47de-af11-22053909ff89",
   "metadata": {},
   "outputs": [
    {
     "data": {
      "text/plain": [
       "0"
      ]
     },
     "execution_count": 51,
     "metadata": {},
     "output_type": "execute_result"
    }
   ],
   "source": [
    "# Mergeo train y store\n",
    "joined_train = join_df(train, store, \"Store\")\n",
    "len(joined_train[joined_train.StoreType.isnull()])"
   ]
  },
  {
   "cell_type": "markdown",
   "id": "ffec880f-8780-43bb-9cb5-f039576792b1",
   "metadata": {},
   "source": [
    "Realizamos lo mismo para test"
   ]
  },
  {
   "cell_type": "code",
   "execution_count": 52,
   "id": "f313cf11-4454-499e-ad3c-de81a0733c3e",
   "metadata": {},
   "outputs": [
    {
     "data": {
      "text/plain": [
       "0"
      ]
     },
     "execution_count": 52,
     "metadata": {},
     "output_type": "execute_result"
    }
   ],
   "source": [
    "# Mergeo test y store\n",
    "joined_test = join_df(test, store, \"Store\")\n",
    "len(joined_test[joined_test.StoreType.isnull()])"
   ]
  },
  {
   "cell_type": "markdown",
   "id": "2a27281e-fa08-41fe-8edf-5826b8782211",
   "metadata": {},
   "source": [
    "Ahora agregamos la información de la tabla googletrend teniendo en cuenta el estado, el año y la semana. Lo hacemos para train y para test"
   ]
  },
  {
   "cell_type": "code",
   "execution_count": 53,
   "id": "9a3e4b39-3044-46b0-8ca2-278c1dc97270",
   "metadata": {},
   "outputs": [
    {
     "data": {
      "text/plain": [
       "0"
      ]
     },
     "execution_count": 53,
     "metadata": {},
     "output_type": "execute_result"
    }
   ],
   "source": [
    "# Mergeo con googletrend\n",
    "joined_train = join_df(joined_train, googletrend, [\"State\",\"Year\", \"Week\"])\n",
    "len(joined_train[joined_train.trend.isnull()])"
   ]
  },
  {
   "cell_type": "code",
   "execution_count": 54,
   "id": "f5b23afe-0eaf-4d8a-9df7-8ca726829e29",
   "metadata": {
    "tags": []
   },
   "outputs": [
    {
     "data": {
      "text/plain": [
       "0"
      ]
     },
     "execution_count": 54,
     "metadata": {},
     "output_type": "execute_result"
    }
   ],
   "source": [
    "joined_test = join_df(joined_test, googletrend, [\"State\",\"Year\", \"Week\"])\n",
    "len(joined_test[joined_test.trend.isnull()])"
   ]
  },
  {
   "cell_type": "markdown",
   "id": "96673111-50e9-40b2-9ed6-5b807fda1d42",
   "metadata": {},
   "source": [
    "Hacemos join con las tendencias generales de Alemania, tanto para train como para test. La columna de tendencia general se agrega con el nombre 'trend_DE' para diferenciarla de la de tendencia local 'trend'."
   ]
  },
  {
   "cell_type": "code",
   "execution_count": 55,
   "id": "4aa2b7c9-fcfe-4ab7-80c8-c443af3d7cb8",
   "metadata": {},
   "outputs": [
    {
     "data": {
      "text/plain": [
       "0"
      ]
     },
     "execution_count": 55,
     "metadata": {},
     "output_type": "execute_result"
    }
   ],
   "source": [
    "joined_train = joined_train.merge(trend_de, 'left', [\"Year\", \"Week\"], suffixes=('', '_DE'))\n",
    "len(joined_train[joined_train.trend_DE.isnull()])"
   ]
  },
  {
   "cell_type": "code",
   "execution_count": 56,
   "id": "9793278d-7302-4d9d-89e5-26dc3cf570b9",
   "metadata": {},
   "outputs": [
    {
     "data": {
      "text/plain": [
       "Index(['Store', 'DayOfWeek', 'Date', 'Sales', 'Customers', 'Open', 'Promo',\n",
       "       'StateHoliday', 'SchoolHoliday', 'Year', 'Month', 'Week', 'Day',\n",
       "       'StoreType', 'Assortment', 'CompetitionDistance',\n",
       "       'CompetitionOpenSinceMonth', 'CompetitionOpenSinceYear', 'Promo2',\n",
       "       'Promo2SinceWeek', 'Promo2SinceYear', 'PromoInterval',\n",
       "       'CompetitionOpenSince', 'Promo2Since', 'State', 'file', 'week', 'trend',\n",
       "       'Date_y', 'Month_y', 'Day_y', 'file_DE', 'week_DE', 'trend_DE',\n",
       "       'Date_DE', 'State_DE', 'Month_DE', 'Day_DE'],\n",
       "      dtype='object')"
      ]
     },
     "execution_count": 56,
     "metadata": {},
     "output_type": "execute_result"
    }
   ],
   "source": [
    "joined_train.columns"
   ]
  },
  {
   "cell_type": "code",
   "execution_count": 57,
   "id": "05098d2b-c4ec-431d-9e55-037b6fd2790d",
   "metadata": {},
   "outputs": [
    {
     "data": {
      "text/plain": [
       "0"
      ]
     },
     "execution_count": 57,
     "metadata": {},
     "output_type": "execute_result"
    }
   ],
   "source": [
    "joined_test = joined_test.merge(trend_de, 'left', [\"Year\", \"Week\"], suffixes=('', '_DE'))\n",
    "len(joined_test[joined_test.trend_DE.isnull()])"
   ]
  },
  {
   "cell_type": "markdown",
   "id": "13a8ee06-0622-4d3a-9f66-aa3d18d339e7",
   "metadata": {},
   "source": [
    "Hacemos join de train con la tabla de weather, según el estado y la fecha. Luego repetimos para test."
   ]
  },
  {
   "cell_type": "code",
   "execution_count": 58,
   "id": "92cb7e64-7fee-47e7-b7cf-eb1ad117a30a",
   "metadata": {
    "tags": []
   },
   "outputs": [
    {
     "data": {
      "text/plain": [
       "0"
      ]
     },
     "execution_count": 58,
     "metadata": {},
     "output_type": "execute_result"
    }
   ],
   "source": [
    "joined_train = join_df(joined_train, weather, [\"State\",\"Date\"])\n",
    "len(joined_train[joined_train.Mean_TemperatureC.isnull()])"
   ]
  },
  {
   "cell_type": "code",
   "execution_count": 59,
   "id": "3001863c-0257-402b-b6af-13260ea16463",
   "metadata": {},
   "outputs": [
    {
     "data": {
      "text/plain": [
       "0"
      ]
     },
     "execution_count": 59,
     "metadata": {},
     "output_type": "execute_result"
    }
   ],
   "source": [
    "joined_test = join_df(joined_test, weather, [\"State\",\"Date\"])\n",
    "len(joined_test[joined_test.Mean_TemperatureC.isnull()])"
   ]
  },
  {
   "cell_type": "markdown",
   "id": "b7beb6a1-926a-4e6c-a3fd-2a13e60b8fc3",
   "metadata": {},
   "source": [
    "Luego de los joins el dataset de train queda con las siguientes columnas:"
   ]
  },
  {
   "cell_type": "code",
   "execution_count": 60,
   "id": "44eaedae-f43f-4347-aa95-08832eeeeb7b",
   "metadata": {},
   "outputs": [
    {
     "data": {
      "text/plain": [
       "Index(['Store', 'DayOfWeek', 'Date', 'Sales', 'Customers', 'Open', 'Promo',\n",
       "       'StateHoliday', 'SchoolHoliday', 'Year', 'Month', 'Week', 'Day',\n",
       "       'StoreType', 'Assortment', 'CompetitionDistance',\n",
       "       'CompetitionOpenSinceMonth', 'CompetitionOpenSinceYear', 'Promo2',\n",
       "       'Promo2SinceWeek', 'Promo2SinceYear', 'PromoInterval',\n",
       "       'CompetitionOpenSince', 'Promo2Since', 'State', 'file', 'week', 'trend',\n",
       "       'Date_y', 'Month_y', 'Day_y', 'file_DE', 'week_DE', 'trend_DE',\n",
       "       'Date_DE', 'State_DE', 'Month_DE', 'Day_DE', 'file_y',\n",
       "       'Max_TemperatureC', 'Mean_TemperatureC', 'Min_TemperatureC',\n",
       "       'Dew_PointC', 'MeanDew_PointC', 'Min_DewpointC', 'Max_Humidity',\n",
       "       'Mean_Humidity', 'Min_Humidity', 'Max_Sea_Level_PressurehPa',\n",
       "       'Mean_Sea_Level_PressurehPa', 'Min_Sea_Level_PressurehPa',\n",
       "       'Max_VisibilityKm', 'Mean_VisibilityKm', 'Min_VisibilitykM',\n",
       "       'Max_Wind_SpeedKm_h', 'Mean_Wind_SpeedKm_h', 'Max_Gust_SpeedKm_h',\n",
       "       'Precipitationmm', 'CloudCover', 'Events', 'WindDirDegrees',\n",
       "       'StateName', 'Year_y', 'Month_y', 'Week_y', 'Day_y'],\n",
       "      dtype='object')"
      ]
     },
     "execution_count": 60,
     "metadata": {},
     "output_type": "execute_result"
    }
   ],
   "source": [
    "joined_train.columns"
   ]
  },
  {
   "cell_type": "markdown",
   "id": "0137e859-d683-4d99-b3ed-c066bb5ac2dc",
   "metadata": {},
   "source": [
    "## Trabajamos con las fechas"
   ]
  },
  {
   "cell_type": "markdown",
   "id": "73ae351f-69c3-4a78-8152-09f38108ba1f",
   "metadata": {},
   "source": [
    "###  CompetitionOpenSince en días guardada en CompetitionDaysOpen"
   ]
  },
  {
   "cell_type": "markdown",
   "id": "f2d060a6-be3c-4284-a3b2-063fe619ff68",
   "metadata": {},
   "source": [
    "Creamos una columna CompetitionDaysOpen con la cantidad de días que pasaron desde que abrió la competencia."
   ]
  },
  {
   "cell_type": "code",
   "execution_count": 61,
   "id": "d2370cd9-7b02-44b7-b2d0-e81b6c695b97",
   "metadata": {},
   "outputs": [
    {
     "data": {
      "text/plain": [
       "0    2510\n",
       "1    2815\n",
       "2    3150\n",
       "3    2145\n",
       "4     107\n",
       "5     593\n",
       "6     837\n",
       "7     289\n",
       "8    5463\n",
       "9    2145\n",
       "Name: CompetitionDaysOpen, dtype: int64"
      ]
     },
     "execution_count": 61,
     "metadata": {},
     "output_type": "execute_result"
    }
   ],
   "source": [
    "joined_train[\"CompetitionDaysOpen\"] = joined_train.Date.subtract(joined_train[\"CompetitionOpenSince\"]).dt.days\n",
    "joined_train[\"CompetitionDaysOpen\"][:10]"
   ]
  },
  {
   "cell_type": "markdown",
   "id": "9b27d7d8-72fb-4dc5-9c5f-57575d39723e",
   "metadata": {},
   "source": [
    "Repetimos para test:"
   ]
  },
  {
   "cell_type": "code",
   "execution_count": 62,
   "id": "3ccdf250-dbdf-472a-a154-aa6eda23ab98",
   "metadata": {
    "tags": []
   },
   "outputs": [
    {
     "data": {
      "text/plain": [
       "0    2558\n",
       "1    3198\n",
       "2     885\n",
       "3     337\n",
       "4    5511\n",
       "5    2193\n",
       "6    1402\n",
       "7    9376\n",
       "8    9376\n",
       "9     551\n",
       "Name: CompetitionDaysOpen, dtype: int64"
      ]
     },
     "execution_count": 62,
     "metadata": {},
     "output_type": "execute_result"
    }
   ],
   "source": [
    "joined_test[\"CompetitionDaysOpen\"] = joined_test.Date.subtract(joined_test[\"CompetitionOpenSince\"]).dt.days\n",
    "joined_test[\"CompetitionDaysOpen\"][:10]"
   ]
  },
  {
   "cell_type": "markdown",
   "id": "1b0a9029-2235-4823-a664-78cebd837dd2",
   "metadata": {},
   "source": [
    "Dado que se consideró como fecha mínima enero de 1990, hay que corregir el cálculo de los días. Ponemos 0 donde sea negativo."
   ]
  },
  {
   "cell_type": "code",
   "execution_count": 74,
   "id": "aa8b7da1-98b7-40ea-9738-4333272d3849",
   "metadata": {},
   "outputs": [],
   "source": [
    "# Corrige errores de la formula anterior\n",
    "joined_train.loc[joined_train.CompetitionDaysOpen<0, \"CompetitionDaysOpen\"] = 0"
   ]
  },
  {
   "cell_type": "code",
   "execution_count": 75,
   "id": "2d045f36-79bd-4dd6-b720-68903cd2694b",
   "metadata": {},
   "outputs": [],
   "source": [
    "# Corrige errores de la formula anterior\n",
    "joined_test.loc[joined_test.CompetitionDaysOpen<0, \"CompetitionDaysOpen\"] = 0"
   ]
  },
  {
   "cell_type": "markdown",
   "id": "f060a37f-6c31-40cb-a34b-bf247cf5f294",
   "metadata": {},
   "source": [
    "Creamos una columna CompetitionMonthsOpen con esta información en meses. Además, limitamos este valor como máximo a 24 meses."
   ]
  },
  {
   "cell_type": "code",
   "execution_count": 76,
   "id": "69359277-0c0e-42c3-a197-711ef3f70fea",
   "metadata": {},
   "outputs": [
    {
     "data": {
      "text/plain": [
       "24    790886\n",
       "0      92590\n",
       "6       6356\n",
       "7       6350\n",
       "4       6278\n",
       "5       6261\n",
       "8       6203\n",
       "9       6138\n",
       "10      6118\n",
       "11      5971\n",
       "12      5867\n",
       "3       5850\n",
       "13      5724\n",
       "15      5699\n",
       "14      5655\n",
       "19      5649\n",
       "2       5621\n",
       "18      5619\n",
       "16      5618\n",
       "22      5558\n",
       "17      5549\n",
       "20      5500\n",
       "1       5482\n",
       "21      5398\n",
       "23      5269\n",
       "Name: CompetitionMonthsOpen, dtype: int64"
      ]
     },
     "execution_count": 76,
     "metadata": {},
     "output_type": "execute_result"
    }
   ],
   "source": [
    "# Lo pone en meses y limita a 2 años como máximo\n",
    "joined_train[\"CompetitionMonthsOpen\"] = joined_train[\"CompetitionDaysOpen\"]//30\n",
    "joined_train.loc[joined_train.CompetitionMonthsOpen>24, \"CompetitionMonthsOpen\"] = 24\n",
    "joined_train.CompetitionMonthsOpen.value_counts()"
   ]
  },
  {
   "cell_type": "code",
   "execution_count": 77,
   "id": "ff3c4816-bcd3-45e1-9a62-7a6c9e6c6f74",
   "metadata": {},
   "outputs": [
    {
     "data": {
      "text/plain": [
       "24    36782\n",
       "23      346\n",
       "17      292\n",
       "16      287\n",
       "13      260\n",
       "1       257\n",
       "10      247\n",
       "11      246\n",
       "14      197\n",
       "0       179\n",
       "18      169\n",
       "12      164\n",
       "2       161\n",
       "8       161\n",
       "4       152\n",
       "5       151\n",
       "20      149\n",
       "21      148\n",
       "22      146\n",
       "3       141\n",
       "15      126\n",
       "9       125\n",
       "19       84\n",
       "7        60\n",
       "6        58\n",
       "Name: CompetitionMonthsOpen, dtype: int64"
      ]
     },
     "execution_count": 77,
     "metadata": {},
     "output_type": "execute_result"
    }
   ],
   "source": [
    "# Lo pone en meses y limita a 2 años como máximo\n",
    "joined_test[\"CompetitionMonthsOpen\"] = joined_test[\"CompetitionDaysOpen\"]//30\n",
    "joined_test.loc[joined_test.CompetitionMonthsOpen>24, \"CompetitionMonthsOpen\"] = 24\n",
    "joined_test.CompetitionMonthsOpen.value_counts()"
   ]
  },
  {
   "cell_type": "markdown",
   "id": "d83efcad-d161-49ba-ab73-5210a93c043b",
   "metadata": {},
   "source": [
    "### Tratamiento de dechas de Promo2"
   ]
  },
  {
   "cell_type": "markdown",
   "id": "26153096-4c2a-48c4-abe1-845682904962",
   "metadata": {},
   "source": [
    "Realizamos el mismo procedimiento para las fechas de Promo2. Luego de calcular los días desde Promo2, creamos una columna con esta información en semanas y la limitamos como máximo a 25."
   ]
  },
  {
   "cell_type": "code",
   "execution_count": 80,
   "id": "e299d5e5-dac4-4b77-b68c-2c01cd08ac43",
   "metadata": {},
   "outputs": [
    {
     "data": {
      "text/plain": [
       "25    911602\n",
       "0      70849\n",
       "14      1659\n",
       "21      1659\n",
       "24      1659\n",
       "16      1659\n",
       "23      1659\n",
       "15      1659\n",
       "19      1659\n",
       "22      1659\n",
       "20      1659\n",
       "18      1652\n",
       "17      1633\n",
       "13      1514\n",
       "7       1267\n",
       "6       1267\n",
       "5       1263\n",
       "8       1261\n",
       "10      1260\n",
       "11      1260\n",
       "12      1260\n",
       "9       1258\n",
       "4       1236\n",
       "3       1232\n",
       "2       1232\n",
       "1       1232\n",
       "Name: Promo2Weeks, dtype: int64"
      ]
     },
     "execution_count": 80,
     "metadata": {},
     "output_type": "execute_result"
    }
   ],
   "source": [
    "joined_train[\"Promo2Days\"] = joined_train.Date.subtract(joined_train[\"Promo2Since\"]).dt.days\n",
    "joined_train.loc[joined_train.Promo2Days<0, \"Promo2Days\"] = 0\n",
    "joined_train[\"Promo2Weeks\"] = joined_train[\"Promo2Days\"]//7\n",
    "joined_train.loc[joined_train.Promo2Weeks<0, \"Promo2Weeks\"] = 0\n",
    "joined_train.loc[joined_train.Promo2Weeks>25, \"Promo2Weeks\"] = 25\n",
    "joined_train.Promo2Weeks.value_counts()"
   ]
  },
  {
   "cell_type": "code",
   "execution_count": 81,
   "id": "d6892556-7195-4f5c-a98a-93fc0a6c6c3c",
   "metadata": {},
   "outputs": [
    {
     "data": {
      "text/plain": [
       "25    40704\n",
       "19       35\n",
       "18       35\n",
       "20       32\n",
       "23       28\n",
       "14       28\n",
       "22       28\n",
       "21       28\n",
       "13       23\n",
       "12       21\n",
       "11       21\n",
       "10       21\n",
       "9        21\n",
       "15       19\n",
       "24       16\n",
       "17       15\n",
       "16        7\n",
       "8         6\n",
       "Name: Promo2Weeks, dtype: int64"
      ]
     },
     "execution_count": 81,
     "metadata": {},
     "output_type": "execute_result"
    }
   ],
   "source": [
    "joined_test[\"Promo2Days\"] = joined_test.Date.subtract(joined_test[\"Promo2Since\"]).dt.days\n",
    "joined_test.loc[joined_test.Promo2Days<0, \"Promo2Days\"] = 0\n",
    "joined_test[\"Promo2Weeks\"] = joined_test[\"Promo2Days\"]//7\n",
    "joined_test.loc[joined_test.Promo2Weeks<0, \"Promo2Weeks\"] = 0\n",
    "joined_test.loc[joined_test.Promo2Weeks>25, \"Promo2Weeks\"] = 25\n",
    "joined_test.Promo2Weeks.value_counts()"
   ]
  },
  {
   "cell_type": "markdown",
   "id": "6d7de886-3245-44d9-8514-1cb2777c01ab",
   "metadata": {},
   "source": [
    "### Vemos cómo quedaron los datasets de train y shape"
   ]
  },
  {
   "cell_type": "code",
   "execution_count": 87,
   "id": "bc3e4ccb-d776-43bf-855f-17d96a9e4e86",
   "metadata": {},
   "outputs": [
    {
     "data": {
      "text/plain": [
       "((1017209, 70), (41088, 69))"
      ]
     },
     "execution_count": 87,
     "metadata": {},
     "output_type": "execute_result"
    }
   ],
   "source": [
    "joined_train.shape, joined_test.shape"
   ]
  },
  {
   "cell_type": "markdown",
   "id": "06e61dfe-0085-4629-a1e1-f25046de98c8",
   "metadata": {},
   "source": [
    "Eliminamos columnas con datos duplicados"
   ]
  },
  {
   "cell_type": "code",
   "execution_count": 88,
   "id": "059b83b4-e1ca-461c-8dbb-283ae96efb51",
   "metadata": {},
   "outputs": [],
   "source": [
    "# Remove dup columns\n",
    "joined_train = joined_train.loc[:,~joined_train.columns.duplicated()]\n",
    "joined_test = joined_test.loc[:,~joined_test.columns.duplicated()]"
   ]
  },
  {
   "cell_type": "code",
   "execution_count": 89,
   "id": "31b94db6-85e5-4932-8515-b50dffafb50c",
   "metadata": {},
   "outputs": [
    {
     "data": {
      "text/plain": [
       "((1017209, 68), (41088, 67))"
      ]
     },
     "execution_count": 89,
     "metadata": {},
     "output_type": "execute_result"
    }
   ],
   "source": [
    "joined_train.shape, joined_test.shape"
   ]
  },
  {
   "cell_type": "code",
   "execution_count": 90,
   "id": "3faf2f44-1128-470c-8a1e-ce073ecb34f8",
   "metadata": {},
   "outputs": [
    {
     "data": {
      "text/plain": [
       "{'Customers', 'Sales'}"
      ]
     },
     "execution_count": 90,
     "metadata": {},
     "output_type": "execute_result"
    }
   ],
   "source": [
    "set(joined_train.columns) - set(joined_test.columns)"
   ]
  },
  {
   "cell_type": "markdown",
   "id": "212d813b-93ac-4afb-ba36-687a3aed4eef",
   "metadata": {},
   "source": [
    "Vemos que la información que falta en la tabla de test, y que buscaremos predecir es 'Customers' y 'Sales'"
   ]
  },
  {
   "cell_type": "markdown",
   "id": "5f254427-8c68-4f53-beed-738723c42ce4",
   "metadata": {},
   "source": [
    "## Tratamiendo de StateHoliday"
   ]
  },
  {
   "cell_type": "markdown",
   "id": "348a0a28-957f-42e6-ac82-2c65dc4cfa3b",
   "metadata": {},
   "source": [
    "Vemos las categorías de StateHoliday"
   ]
  },
  {
   "cell_type": "code",
   "execution_count": 91,
   "id": "df299409-9aa4-4738-aa97-5ae8de615f32",
   "metadata": {},
   "outputs": [
    {
     "data": {
      "text/plain": [
       "0    986159\n",
       "a     20260\n",
       "b      6690\n",
       "c      4100\n",
       "Name: StateHoliday, dtype: int64"
      ]
     },
     "execution_count": 91,
     "metadata": {},
     "output_type": "execute_result"
    }
   ],
   "source": [
    "joined_train['StateHoliday'].value_counts()"
   ]
  },
  {
   "cell_type": "markdown",
   "id": "f3be8958-8b4f-41a2-95a5-3039d51f1cb0",
   "metadata": {},
   "source": [
    "a = public holiday, b = Easter holiday, c = Christmas, 0 = None"
   ]
  },
  {
   "cell_type": "markdown",
   "id": "fd7ca300-4888-43af-9a4c-759d46de2bc9",
   "metadata": {},
   "source": [
    "Creamos una columna 'StateHoliday_bool' de tipo booleana que sea True si es Holiday y False si no."
   ]
  },
  {
   "cell_type": "code",
   "execution_count": 122,
   "id": "d1141521-dc07-4578-8b6e-1709d7368076",
   "metadata": {},
   "outputs": [],
   "source": [
    "joined_train.loc[:,'StateHoliday_bool'] = joined_train['StateHoliday']!='0'\n",
    "joined_test.loc[:,'StateHoliday_bool'] = joined_test['StateHoliday']!='0'"
   ]
  },
  {
   "cell_type": "code",
   "execution_count": 124,
   "id": "b9210752-6fbc-402f-b8cf-4a3ff206a6f8",
   "metadata": {},
   "outputs": [
    {
     "data": {
      "text/html": [
       "<div>\n",
       "<style scoped>\n",
       "    .dataframe tbody tr th:only-of-type {\n",
       "        vertical-align: middle;\n",
       "    }\n",
       "\n",
       "    .dataframe tbody tr th {\n",
       "        vertical-align: top;\n",
       "    }\n",
       "\n",
       "    .dataframe thead th {\n",
       "        text-align: right;\n",
       "    }\n",
       "</style>\n",
       "<table border=\"1\" class=\"dataframe\">\n",
       "  <thead>\n",
       "    <tr style=\"text-align: right;\">\n",
       "      <th></th>\n",
       "      <th>StateHoliday</th>\n",
       "      <th>StateHoliday_bool</th>\n",
       "    </tr>\n",
       "  </thead>\n",
       "  <tbody>\n",
       "    <tr>\n",
       "      <th>0</th>\n",
       "      <td>0</td>\n",
       "      <td>False</td>\n",
       "    </tr>\n",
       "    <tr>\n",
       "      <th>1</th>\n",
       "      <td>0</td>\n",
       "      <td>False</td>\n",
       "    </tr>\n",
       "    <tr>\n",
       "      <th>2</th>\n",
       "      <td>0</td>\n",
       "      <td>False</td>\n",
       "    </tr>\n",
       "    <tr>\n",
       "      <th>3</th>\n",
       "      <td>0</td>\n",
       "      <td>False</td>\n",
       "    </tr>\n",
       "    <tr>\n",
       "      <th>4</th>\n",
       "      <td>0</td>\n",
       "      <td>False</td>\n",
       "    </tr>\n",
       "    <tr>\n",
       "      <th>...</th>\n",
       "      <td>...</td>\n",
       "      <td>...</td>\n",
       "    </tr>\n",
       "    <tr>\n",
       "      <th>41083</th>\n",
       "      <td>0</td>\n",
       "      <td>False</td>\n",
       "    </tr>\n",
       "    <tr>\n",
       "      <th>41084</th>\n",
       "      <td>0</td>\n",
       "      <td>False</td>\n",
       "    </tr>\n",
       "    <tr>\n",
       "      <th>41085</th>\n",
       "      <td>0</td>\n",
       "      <td>False</td>\n",
       "    </tr>\n",
       "    <tr>\n",
       "      <th>41086</th>\n",
       "      <td>0</td>\n",
       "      <td>False</td>\n",
       "    </tr>\n",
       "    <tr>\n",
       "      <th>41087</th>\n",
       "      <td>0</td>\n",
       "      <td>False</td>\n",
       "    </tr>\n",
       "  </tbody>\n",
       "</table>\n",
       "<p>41088 rows × 2 columns</p>\n",
       "</div>"
      ],
      "text/plain": [
       "      StateHoliday  StateHoliday_bool\n",
       "0                0              False\n",
       "1                0              False\n",
       "2                0              False\n",
       "3                0              False\n",
       "4                0              False\n",
       "...            ...                ...\n",
       "41083            0              False\n",
       "41084            0              False\n",
       "41085            0              False\n",
       "41086            0              False\n",
       "41087            0              False\n",
       "\n",
       "[41088 rows x 2 columns]"
      ]
     },
     "execution_count": 124,
     "metadata": {},
     "output_type": "execute_result"
    }
   ],
   "source": [
    "joined_test[['StateHoliday','StateHoliday_bool']]\n"
   ]
  },
  {
   "cell_type": "markdown",
   "id": "58971589-de65-4173-827c-d7595d000c21",
   "metadata": {},
   "source": [
    "### Duraciones"
   ]
  },
  {
   "cell_type": "code",
   "execution_count": null,
   "id": "5a5bfe46-4f69-4c82-b6f3-2d10e114b3eb",
   "metadata": {},
   "outputs": [],
   "source": []
  }
 ],
 "metadata": {
  "kernelspec": {
   "display_name": "Python [conda env:tp2]",
   "language": "python",
   "name": "conda-env-tp2-py"
  },
  "language_info": {
   "codemirror_mode": {
    "name": "ipython",
    "version": 3
   },
   "file_extension": ".py",
   "mimetype": "text/x-python",
   "name": "python",
   "nbconvert_exporter": "python",
   "pygments_lexer": "ipython3",
   "version": "3.9.7"
  }
 },
 "nbformat": 4,
 "nbformat_minor": 5
}
